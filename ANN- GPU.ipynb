{
 "cells": [
  {
   "cell_type": "code",
   "execution_count": 1,
   "id": "aee3a46e",
   "metadata": {},
   "outputs": [],
   "source": [
    "import tensorflow as tf\n",
    "from tensorflow import keras\n",
    "import numpy as np\n",
    "import matplotlib.pyplot as plt\n",
    "%matplotlib inline\n",
    "\n",
    "# Version Info\n",
    "# tensorflow2.2, Cudnn7.6.5 and Cuda 10.1, python 3.8 "
   ]
  },
  {
   "cell_type": "code",
   "execution_count": 2,
   "id": "f080cce8",
   "metadata": {},
   "outputs": [
    {
     "data": {
      "text/plain": [
       "[PhysicalDevice(name='/physical_device:CPU:0', device_type='CPU'),\n",
       " PhysicalDevice(name='/physical_device:XLA_CPU:0', device_type='XLA_CPU'),\n",
       " PhysicalDevice(name='/physical_device:GPU:0', device_type='GPU'),\n",
       " PhysicalDevice(name='/physical_device:XLA_GPU:0', device_type='XLA_GPU')]"
      ]
     },
     "execution_count": 2,
     "metadata": {},
     "output_type": "execute_result"
    }
   ],
   "source": [
    "# Physical devices to be used by tersorflow\n",
    "tf.config.experimental.list_physical_devices()"
   ]
  },
  {
   "cell_type": "code",
   "execution_count": 8,
   "id": "3ee29228",
   "metadata": {},
   "outputs": [
    {
     "data": {
      "text/plain": [
       "True"
      ]
     },
     "execution_count": 8,
     "metadata": {},
     "output_type": "execute_result"
    }
   ],
   "source": [
    "tf.test.is_built_with_cuda()"
   ]
  },
  {
   "cell_type": "code",
   "execution_count": 3,
   "id": "d7cd9171",
   "metadata": {},
   "outputs": [
    {
     "name": "stdout",
     "output_type": "stream",
     "text": [
      "Downloading data from https://www.cs.toronto.edu/~kriz/cifar-10-python.tar.gz\n",
      "170500096/170498071 [==============================] - 70s 0us/step\n"
     ]
    }
   ],
   "source": [
    "(X_train, y_train), (X_test, y_test) = keras.datasets.cifar10.load_data()"
   ]
  },
  {
   "cell_type": "code",
   "execution_count": 4,
   "id": "083e4a14",
   "metadata": {},
   "outputs": [
    {
     "data": {
      "text/plain": [
       "(50000, 32, 32, 3)"
      ]
     },
     "execution_count": 4,
     "metadata": {},
     "output_type": "execute_result"
    }
   ],
   "source": [
    "# Red, Green, Blue\n",
    "X_train.shape"
   ]
  },
  {
   "cell_type": "code",
   "execution_count": 8,
   "id": "a1aac3d9",
   "metadata": {},
   "outputs": [
    {
     "data": {
      "text/plain": [
       "(50000, 1)"
      ]
     },
     "execution_count": 8,
     "metadata": {},
     "output_type": "execute_result"
    }
   ],
   "source": [
    "y_train.shape"
   ]
  },
  {
   "cell_type": "code",
   "execution_count": 9,
   "id": "7dbe995c",
   "metadata": {},
   "outputs": [
    {
     "data": {
      "text/plain": [
       "array([[6],\n",
       "       [9],\n",
       "       [9],\n",
       "       [4],\n",
       "       [1]], dtype=uint8)"
      ]
     },
     "execution_count": 9,
     "metadata": {},
     "output_type": "execute_result"
    }
   ],
   "source": [
    "y_train[0:5]"
   ]
  },
  {
   "cell_type": "code",
   "execution_count": 10,
   "id": "e2f41408",
   "metadata": {},
   "outputs": [],
   "source": [
    "def plot_sample(index):\n",
    "    plt.figure(figsize = (10,1))\n",
    "    plt.imshow(X_train[index])"
   ]
  },
  {
   "cell_type": "code",
   "execution_count": 12,
   "id": "f1ea89a5",
   "metadata": {},
   "outputs": [
    {
     "data": {
      "image/png": "[encoded data removed]",
      "text/plain": [
       "<Figure size 720x72 with 1 Axes>"
      ]
     },
     "metadata": {
      "needs_background": "light"
     },
     "output_type": "display_data"
    }
   ],
   "source": [
    "plot_sample(1)"
   ]
  },
  {
   "cell_type": "code",
   "execution_count": 13,
   "id": "5fa3b900",
   "metadata": {},
   "outputs": [],
   "source": [
    "classes = ['airplane','automobile','bird','cat','deer','dog','frog','horse','ship','truck']"
   ]
  },
  {
   "cell_type": "code",
   "execution_count": 15,
   "id": "50294020",
   "metadata": {},
   "outputs": [
    {
     "data": {
      "text/plain": [
       "'deer'"
      ]
     },
     "execution_count": 15,
     "metadata": {},
     "output_type": "execute_result"
    }
   ],
   "source": [
    "classes[y_train[3][0]]"
   ]
  },
  {
   "cell_type": "code",
   "execution_count": 16,
   "id": "29862b14",
   "metadata": {},
   "outputs": [],
   "source": [
    "X_train_scaled = X_train / 255\n",
    "X_test_scaled = X_test / 255"
   ]
  },
  {
   "cell_type": "code",
   "execution_count": 17,
   "id": "bcd2d5ea",
   "metadata": {},
   "outputs": [
    {
     "data": {
      "text/plain": [
       "(50000, 32, 32, 3)"
      ]
     },
     "execution_count": 17,
     "metadata": {},
     "output_type": "execute_result"
    }
   ],
   "source": [
    "X_train_scaled.shape"
   ]
  },
  {
   "cell_type": "code",
   "execution_count": 19,
   "id": "7a708b99",
   "metadata": {},
   "outputs": [
    {
     "data": {
      "text/plain": [
       "array([[0., 0., 0., 0., 0., 0., 1., 0., 0., 0.],\n",
       "       [0., 0., 0., 0., 0., 0., 0., 0., 0., 1.],\n",
       "       [0., 0., 0., 0., 0., 0., 0., 0., 0., 1.],\n",
       "       [0., 0., 0., 0., 1., 0., 0., 0., 0., 0.],\n",
       "       [0., 1., 0., 0., 0., 0., 0., 0., 0., 0.]], dtype=float32)"
      ]
     },
     "execution_count": 19,
     "metadata": {},
     "output_type": "execute_result"
    }
   ],
   "source": [
    "y_train_categorical = keras.utils.to_categorical(\n",
    "    y_train, num_classes=10, dtype='float32'\n",
    ")\n",
    "\n",
    "y_train_categorical[0:5]"
   ]
  },
  {
   "cell_type": "code",
   "execution_count": 20,
   "id": "4cdb35a7",
   "metadata": {},
   "outputs": [],
   "source": [
    "y_test_categorical = keras.utils.to_categorical(\n",
    "    y_test, num_classes=10, dtype='float32'\n",
    ")"
   ]
  },
  {
   "cell_type": "code",
   "execution_count": 21,
   "id": "d6e29dff",
   "metadata": {},
   "outputs": [
    {
     "data": {
      "text/plain": [
       "(50000, 32, 32, 3)"
      ]
     },
     "execution_count": 21,
     "metadata": {},
     "output_type": "execute_result"
    }
   ],
   "source": [
    "X_train.shape"
   ]
  },
  {
   "cell_type": "code",
   "execution_count": 22,
   "id": "355490ea",
   "metadata": {},
   "outputs": [
    {
     "data": {
      "text/plain": [
       "3072"
      ]
     },
     "execution_count": 22,
     "metadata": {},
     "output_type": "execute_result"
    }
   ],
   "source": [
    "32*32*3"
   ]
  },
  {
   "cell_type": "code",
   "execution_count": 23,
   "id": "a8ae38f7",
   "metadata": {},
   "outputs": [
    {
     "data": {
      "text/plain": [
       "array([[6],\n",
       "       [9],\n",
       "       [9],\n",
       "       [4],\n",
       "       [1]], dtype=uint8)"
      ]
     },
     "execution_count": 23,
     "metadata": {},
     "output_type": "execute_result"
    }
   ],
   "source": [
    "y_train[:5]"
   ]
  },
  {
   "cell_type": "code",
   "execution_count": 24,
   "id": "8c336342",
   "metadata": {},
   "outputs": [
    {
     "data": {
      "text/plain": [
       "array([[0., 0., 0., 0., 0., 0., 1., 0., 0., 0.],\n",
       "       [0., 0., 0., 0., 0., 0., 0., 0., 0., 1.],\n",
       "       [0., 0., 0., 0., 0., 0., 0., 0., 0., 1.],\n",
       "       [0., 0., 0., 0., 1., 0., 0., 0., 0., 0.],\n",
       "       [0., 1., 0., 0., 0., 0., 0., 0., 0., 0.]], dtype=float32)"
      ]
     },
     "execution_count": 24,
     "metadata": {},
     "output_type": "execute_result"
    }
   ],
   "source": [
    "y_train_categorical[:5]"
   ]
  },
  {
   "cell_type": "code",
   "execution_count": 26,
   "id": "dd77b041",
   "metadata": {
    "scrolled": false
   },
   "outputs": [
    {
     "name": "stdout",
     "output_type": "stream",
     "text": [
      "Epoch 1/50\n",
      "1563/1563 [==============================] - 55s 35ms/step - loss: 1.8623 - accuracy: 0.3343\n",
      "Epoch 2/50\n",
      "1563/1563 [==============================] - 61s 39ms/step - loss: 1.6562 - accuracy: 0.4142\n",
      "Epoch 3/50\n",
      "1563/1563 [==============================] - 61s 39ms/step - loss: 1.5699 - accuracy: 0.4457\n",
      "Epoch 4/50\n",
      "1563/1563 [==============================] - 60s 39ms/step - loss: 1.5067 - accuracy: 0.4667\n",
      "Epoch 5/50\n",
      "1563/1563 [==============================] - 61s 39ms/step - loss: 1.4567 - accuracy: 0.4846\n",
      "Epoch 6/50\n",
      "1563/1563 [==============================] - 60s 39ms/step - loss: 1.4116 - accuracy: 0.5020\n",
      "Epoch 7/50\n",
      "1563/1563 [==============================] - 62s 40ms/step - loss: 1.3751 - accuracy: 0.5148\n",
      "Epoch 8/50\n",
      "1563/1563 [==============================] - 97s 62ms/step - loss: 1.3364 - accuracy: 0.52973s - loss: 1.3359 - ac - - ETA: 0s - loss: 1.3361 - accura\n",
      "Epoch 9/50\n",
      "1563/1563 [==============================] - 105s 67ms/step - loss: 1.3029 - accuracy: 0.5429\n",
      "Epoch 10/50\n",
      "1563/1563 [==============================] - 96s 62ms/step - loss: 1.2718 - accuracy: 0.55201s - loss: 1.2715 - accuracy - ETA:  - ETA: 0s - loss: 1.2715 - accu\n",
      "Epoch 11/50\n",
      "1021/1563 [==================>...........] - ETA: 40s - loss: 1.2423 - accuracy: 0.5616WARNING:tensorflow:Method (on_train_batch_end) is slow compared to the batch update (0.102500). Check your callbacks.\n",
      "1022/1563 [==================>...........] - ETA: 40s - loss: 1.2424 - accuracy: 0.5615WARNING:tensorflow:Method (on_train_batch_end) is slow compared to the batch update (0.102500). Check your callbacks.\n",
      "1563/1563 [==============================] - 109s 70ms/step - loss: 1.2451 - accuracy: 0.5602s - loss: 1.2451 - accuracy: 0.56\n",
      "Epoch 12/50\n",
      " 759/1563 [=============>................] - ETA: 51s - loss: 1.2192 - accuracy: 0.5700- ETA: 51s - loss: 1.2188 - a - ETA: 50s - loss: 1.2172 - accurac - ETA: 49s - loss: 1.2181 - - ETA: 49s - loss: 1.2189 - accuracy: 0.569 - ETA: 49s - loss: 1.2194 - accuracy: 0 - ETA: 48s - loss: 1.2201 - aWARNING:tensorflow:Method (on_train_batch_end) is slow compared to the batch update (0.116136). Check your callbacks.\n",
      " 760/1563 [=============>................] - ETA: 50s - loss: 1.2191 - accuracy: 0.5701WARNING:tensorflow:Method (on_train_batch_end) is slow compared to the batch update (0.113367). Check your callbacks.\n",
      " 761/1563 [=============>................] - ETA: 50s - loss: 1.2188 - accuracy: 0.5703WARNING:tensorflow:Method (on_train_batch_end) is slow compared to the batch update (0.106439). Check your callbacks.\n",
      " 762/1563 [=============>................] - ETA: 50s - loss: 1.2186 - accuracy: 0.5703WARNING:tensorflow:Method (on_train_batch_end) is slow compared to the batch update (0.106439). Check your callbacks.\n",
      "1563/1563 [==============================] - 113s 72ms/step - loss: 1.2160 - accuracy: 0.5719s - - ETA: 0s - loss: 1.2162 - accura\n",
      "Epoch 13/50\n",
      " 464/1563 [=======>......................] - ETA: 1:16 - loss: 1.1858 - accuracy: 0.5880 ETA: 1:11 - loss: 1.1830 WARNING:tensorflow:Method (on_train_batch_end) is slow compared to the batch update (0.102998). Check your callbacks.\n",
      " 465/1563 [=======>......................] - ETA: 1:16 - loss: 1.1854 - accuracy: 0.5882WARNING:tensorflow:Method (on_train_batch_end) is slow compared to the batch update (0.102998). Check your callbacks.\n",
      " 744/1563 [=============>................] - ETA: 1:04 - loss: 1.1886 - accuracy: 0.5856WARNING:tensorflow:Method (on_train_batch_end) is slow compared to the batch update (0.111496). Check your callbacks.\n",
      " 747/1563 [=============>................] - ETA: 1:04 - loss: 1.1880 - accuracy: 0.5856WARNING:tensorflow:Method (on_train_batch_end) is slow compared to the batch update (0.111496). Check your callbacks.\n",
      " 769/1563 [=============>................] - ETA: 1:08 - loss: 1.1872 - accuracy: 0.5858 ETA: 1:06 - loss: 1.1876 - accuraWARNING:tensorflow:Method (on_train_batch_end) is slow compared to the batch update (0.126507). Check your callbacks.\n",
      " 770/1563 [=============>................] - ETA: 1:08 - loss: 1.1875 - accuracy: 0.5859WARNING:tensorflow:Method (on_train_batch_end) is slow compared to the batch update (0.108511). Check your callbacks.\n",
      "1563/1563 [==============================] - 142s 91ms/step - loss: 1.1892 - accuracy: 0.5836 57s - loss: 1.1876 - accuracy - ETA: 43s - loss: 1.1852 - a - ETA: 42s - loss: 1.1855 - accuracy: 0.58 - ETA: 42s - loss: 1.1856 - accuracy: 0. - ETA: 42s - loss: 1.1855 - accuracy: 0.58 - ETA: 42s - loss: 1.1859  - ETA: 41s - loss: 1.1870 - - ETA: 39s - loss: 1.1868 -  - ETA: 1s - loss: 1.1884 - accura - ETA: 1s\n",
      "Epoch 14/50\n",
      "1563/1563 [==============================] - 153s 98ms/step - loss: 1.1614 - accuracy: 0.5939 58s - loss: 1.1657 - a - ETA - ETA: 47s - - ETA: 6s - loss: 1.1608  - ETA: 5s - loss: 1.1614 - accuracy - - ETA: 3s - loss: 1 - ETA: 2s - loss: 1.1608 -  - ETA: 1s - los\n",
      "Epoch 15/50\n",
      "1066/1563 [===================>..........] - ETA: 48s - loss: 1.1314 - accuracy: 0.6040  ETA: 1:01 -  - ETA: 47s - loss: 1.1309 - accuracy: 0.604 - ETA: 47s - loss: 1.1307 - accuracyWARNING:tensorflow:Method (on_train_batch_end) is slow compared to the batch update (0.178025). Check your callbacks.\n",
      "1067/1563 [===================>..........] - ETA: 48s - loss: 1.1315 - accuracy: 0.6040WARNING:tensorflow:Method (on_train_batch_end) is slow compared to the batch update (0.170516). Check your callbacks.\n",
      "1078/1563 [===================>..........] - ETA: 49s - loss: 1.1319 - accuracy: 0.6039- ETA: 49s - loss: 1.1315 - accuracy: 0.604 - ETA: 49s - loss: 1.1317 - accuracy: 0.6WARNING:tensorflow:Method (on_train_batch_end) is slow compared to the batch update (0.143471). Check your callbacks.\n",
      "1079/1563 [===================>..........] - ETA: 49s - loss: 1.1320 - accuracy: 0.6038WARNING:tensorflow:Method (on_train_batch_end) is slow compared to the batch update (0.138498). Check your callbacks.\n",
      "1080/1563 [===================>..........] - ETA: 49s - loss: 1.1320 - accuracy: 0.6038WARNING:tensorflow:Method (on_train_batch_end) is slow compared to the batch update (0.121506). Check your callbacks.\n",
      "1563/1563 [==============================] - 149s 95ms/step - loss: 1.1350 - accuracy: 0.6017\n",
      "Epoch 16/50\n",
      "1169/1563 [=====================>........] - ETA: 40s - loss: 1.1090 - accuracy: 0.6126- ETA: 56s - loss: - ETA: 50s  - ETA: 46s - loss: 1.1100 - a - ETA: 45s - loss: 1.1098 - accurac - ETA: 44s - loss: 1.1095 - accuracy: 0.612 - ETA: 44s - loss: 1.1092 - accuracy: 0.6 - ETA: 44s - loss: 1.1094 - accuracy: 0 - ETA: 44s - loss: 1.1094 - a - ETA: 44s - loss: 1.1089 - accurac - ETA: 44s - - ETA: 41s - loss: 1.1094 -WARNING:tensorflow:Method (on_train_batch_end) is slow compared to the batch update (0.109509). Check your callbacks.\n",
      "1170/1563 [=====================>........] - ETA: 40s - loss: 1.1090 - accuracy: 0.6126WARNING:tensorflow:Method (on_train_batch_end) is slow compared to the batch update (0.103500). Check your callbacks.\n",
      "1563/1563 [==============================] - ETA: 0s - loss: 1.1107 - accuracy: 0.6110 - ETA: 39s - loss: 1.1078 -  - ETA: 38s - loss: 1. - ETA: 35s - loss: 1.1071 - a - ETA: 34s - loss: 1.1072 - accur - ETA: 28s - loss: 1.1076 - accu - ETA: 27s - loss: 1.107 - ETA: 25s - loss: 1.1079 - accuracy: 0.61 - ETA: 25s - loss: 1.1078 - accuracy: 0.612 - ETA: 25s - loss: 1.1078 - accuracy - ETA: 24s - loss - ETA: 14s - loss: 1.1099 - accu - ETA: 13s - loss: 1.1102 - accuracy: 0. - ETA: 12s - loss: 1.1104 -  - ETA: 11s - loss: 1.1104 - accu - ETA: 10s - loss - ETA: 8s - loss: 1.110 - ETA - ETA: 1s - loss: - 158s 101ms/step - loss: 1.1107 - accuracy: 0.6110\n",
      "Epoch 17/50\n",
      " 547/1563 [=========>....................] - ETA: 1:09 - loss: 1.0845 - accuracy: 0.6200 ETA: 1:06 - loss: 1.0837 - accuraWARNING:tensorflow:Method (on_train_batch_end) is slow compared to the batch update (0.115001). Check your callbacks.\n",
      " 548/1563 [=========>....................] - ETA: 1:09 - loss: 1.0850 - accuracy: 0.6198WARNING:tensorflow:Method (on_train_batch_end) is slow compared to the batch update (0.115001). Check your callbacks.\n",
      " 549/1563 [=========>....................] - ETA: 1:09 - loss: 1.0850 - accuracy: 0.6197WARNING:tensorflow:Method (on_train_batch_end) is slow compared to the batch update (0.105992). Check your callbacks.\n"
     ]
    },
    {
     "name": "stdout",
     "output_type": "stream",
     "text": [
      "1563/1563 [==============================] - 122s 78ms/step - loss: 1.0814 - accuracy: 0.6211 32s - loss: 1.0792 - accu - ETA:  - ETA: 2s - loss: 1.0817 - accuracy: 0.62 - ETA: 2s - loss: 1.0817 - ac\n",
      "Epoch 18/50\n",
      "1563/1563 [==============================] - 106s 68ms/step - loss: 1.0579 - accuracy: 0.6308 32s - loss: 1.0539 - ac - ETA: 32s - los - ETA: 30s  - ETA: 30s - loss: 1.0 - ETA: 0s - loss: 1.0580 \n",
      "Epoch 19/50\n",
      "1388/1563 [=========================>....] - ETA: 16s - loss: 1.0316 - accuracy: 0.6387- ETA: 51s - loss: 1.0293 - accuracy: 0. - ETA: 50s - loss: 1.0293 - accuracy: 0.639 - ETA: 50s - loss: 1.0294 - accur - ETA: 49s - loss: 1.0291 - ETA: 17s - loss: 1.0308 - accuracy: 0. - ETA: 17s - loss: 1.0310 - accuracy: 0.6 - ETA: 17s - loss: 1.0312 - accuracy: 0.63 - ETA: 17s - loss: 1.0315 - accuracy: 0.63WARNING:tensorflow:Method (on_train_batch_end) is slow compared to the batch update (0.193488). Check your callbacks.\n",
      "1389/1563 [=========================>....] - ETA: 16s - loss: 1.0316 - accuracy: 0.6387WARNING:tensorflow:Method (on_train_batch_end) is slow compared to the batch update (0.193488). Check your callbacks.\n",
      "1390/1563 [=========================>....] - ETA: 16s - loss: 1.0317 - accuracy: 0.6386WARNING:tensorflow:Method (on_train_batch_end) is slow compared to the batch update (0.193488). Check your callbacks.\n",
      "1399/1563 [=========================>....] - ETA: 16s - loss: 1.0319 - accuracy: 0.6387WARNING:tensorflow:Method (on_train_batch_end) is slow compared to the batch update (0.108374). Check your callbacks.\n",
      "1400/1563 [=========================>....] - ETA: 16s - loss: 1.0318 - accuracy: 0.6388WARNING:tensorflow:Method (on_train_batch_end) is slow compared to the batch update (0.108374). Check your callbacks.\n",
      "1563/1563 [==============================] - 155s 99ms/step - loss: 1.0319 - accuracy: 0.6398\n",
      "Epoch 20/50\n",
      " 249/1563 [===>..........................] - ETA: 2:37 - loss: 0.9959 - accuracy: 0.6566 ETA:  - ETA: 2:21 - loss: 0.9963 - accuracy: 0.65 - ETA: 2:24 - loss: 0.9962 WARNING:tensorflow:Method (on_train_batch_end) is slow compared to the batch update (0.138499). Check your callbacks.\n",
      " 250/1563 [===>..........................] - ETA: 2:37 - loss: 0.9959 - accuracy: 0.6566WARNING:tensorflow:Method (on_train_batch_end) is slow compared to the batch update (0.113973). Check your callbacks.\n",
      " 251/1563 [===>..........................] - ETA: 2:36 - loss: 0.9954 - accuracy: 0.6571WARNING:tensorflow:Method (on_train_batch_end) is slow compared to the batch update (0.106685). Check your callbacks.\n",
      " 423/1563 [=======>......................] - ETA: 2:30 - loss: 1.0100 - accuracy: 0.6486 ETA:  - ETA: 2:25 - loss: 1.0105 - accuracy: 0.64 - ETA: 2:27 - loss: 1.0105 - accuWARNING:tensorflow:Method (on_train_batch_end) is slow compared to the batch update (0.110994). Check your callbacks.\n",
      " 822/1563 [==============>...............] - ETA: 1:40 - loss: 1.0052 - accuracy: 0.6495 ETA: 1:51 - loss: 1.0032  - ETA: 1: - ETA: 1:45 - ETA: 1:42 - loss: 1.0048 - accuracy - ETA: 1:39 - loss: 1WARNING:tensorflow:Method (on_train_batch_end) is slow compared to the batch update (0.112820). Check your callbacks.\n",
      " 823/1563 [==============>...............] - ETA: 1:40 - loss: 1.0054 - accuracy: 0.6495WARNING:tensorflow:Method (on_train_batch_end) is slow compared to the batch update (0.101322). Check your callbacks.\n",
      " 824/1563 [==============>...............] - ETA: 1:40 - loss: 1.0054 - accuracy: 0.6496WARNING:tensorflow:Method (on_train_batch_end) is slow compared to the batch update (0.101322). Check your callbacks.\n",
      " 852/1563 [===============>..............] - ETA: 1:40 - loss: 1.0050 - accuracy: 0.6496WARNING:tensorflow:Method (on_train_batch_end) is slow compared to the batch update (0.119337). Check your callbacks.\n",
      " 853/1563 [===============>..............] - ETA: 1:40 - loss: 1.0050 - accuracy: 0.6494WARNING:tensorflow:Method (on_train_batch_end) is slow compared to the batch update (0.118492). Check your callbacks.\n",
      " 854/1563 [===============>..............] - ETA: 1:39 - loss: 1.0050 - accuracy: 0.6494WARNING:tensorflow:Method (on_train_batch_end) is slow compared to the batch update (0.108001). Check your callbacks.\n",
      " 884/1563 [===============>..............] - ETA: 1:39 - loss: 1.0042 - accuracy: 0.6494 ETA: 1:37 - loss: 1.004 - ETA: 1:36 - loss: 1.0038 - accuracy: 0.64 - ETA: 1:36 - loss: 1.0036 - accuracy: 0.64 - ETA: 1:37 - loss: 1.0038 - accuWARNING:tensorflow:Method (on_train_batch_end) is slow compared to the batch update (0.239358). Check your callbacks.\n",
      " 886/1563 [================>.............] - ETA: 1:39 - loss: 1.0046 - accuracy: 0.6491WARNING:tensorflow:Method (on_train_batch_end) is slow compared to the batch update (0.212381). Check your callbacks.\n",
      " 887/1563 [================>.............] - ETA: 1:39 - loss: 1.0050 - accuracy: 0.6491WARNING:tensorflow:Method (on_train_batch_end) is slow compared to the batch update (0.186512). Check your callbacks.\n",
      " 888/1563 [================>.............] - ETA: 1:39 - loss: 1.0050 - accuracy: 0.6491WARNING:tensorflow:Method (on_train_batch_end) is slow compared to the batch update (0.151850). Check your callbacks.\n",
      " 948/1563 [=================>............] - ETA: 1:33 - loss: 1.0049 - accuracy: 0.6493 ETA: 1:35 - loss: 1.0 - ETA: 1:34 - loss: 1 - ETA: 1:33 - loss: 1.0051 - accura - ETA: 1:33 - loss: 1.0049 - accuracy: 0.WARNING:tensorflow:Method (on_train_batch_end) is slow compared to the batch update (0.104511). Check your callbacks.\n",
      " 949/1563 [=================>............] - ETA: 1:33 - loss: 1.0048 - accuracy: 0.6494WARNING:tensorflow:Method (on_train_batch_end) is slow compared to the batch update (0.104511). Check your callbacks.\n",
      "1511/1563 [============================>.] - ETA: 7s - loss: 1.0095 - accuracy: 0.6481 - ETA: 5WARNING:tensorflow:Method (on_train_batch_end) is slow compared to the batch update (0.118525). Check your callbacks.\n",
      "1512/1563 [============================>.] - ETA: 7s - loss: 1.0094 - accuracy: 0.6482WARNING:tensorflow:Method (on_train_batch_end) is slow compared to the batch update (0.118525). Check your callbacks.\n",
      "1563/1563 [==============================] - 215s 138ms/step - loss: 1.0089 - accuracy: 0.6481\n",
      "Epoch 21/50\n",
      " 393/1563 [======>.......................] - ETA: 2:46 - loss: 0.9763 - accuracy: 0.6632 ETA: 2:47 - loss: 0.9759 - accura - ETA: 2:45 - l - ETA: 2:42 - loss: 0.9763 - WARNING:tensorflow:Method (on_train_batch_end) is slow compared to the batch update (0.102898). Check your callbacks.\n",
      " 394/1563 [======>.......................] - ETA: 2:46 - loss: 0.9758 - accuracy: 0.6634WARNING:tensorflow:Method (on_train_batch_end) is slow compared to the batch update (0.102898). Check your callbacks.\n",
      " 395/1563 [======>.......................] - ETA: 2:45 - loss: 0.9756 - accuracy: 0.6634WARNING:tensorflow:Method (on_train_batch_end) is slow compared to the batch update (0.102898). Check your callbacks.\n",
      " 486/1563 [========>.....................] - ETA: 2:34 - loss: 0.9719 - accuracy: 0.6625 ETA: 2:28 - loss: 0.9712 - accuracy - ETA: 2:31 - loss: 0.9709 - accuracyWARNING:tensorflow:Method (on_train_batch_end) is slow compared to the batch update (0.152505). Check your callbacks.\n",
      " 487/1563 [========>.....................] - ETA: 2:34 - loss: 0.9714 - accuracy: 0.6627WARNING:tensorflow:Method (on_train_batch_end) is slow compared to the batch update (0.152505). Check your callbacks.\n",
      " 488/1563 [========>.....................] - ETA: 2:33 - loss: 0.9720 - accuracy: 0.6624WARNING:tensorflow:Method (on_train_batch_end) is slow compared to the batch update (0.146641). Check your callbacks.\n",
      " 607/1563 [==========>...................] - ETA: 2:09 - loss: 0.9660 - accuracy: 0.6635WARNING:tensorflow:Method (on_train_batch_end) is slow compared to the batch update (0.100022). Check your callbacks.\n",
      " 608/1563 [==========>...................] - ETA: 2:09 - loss: 0.9663 - accuracy: 0.6633WARNING:tensorflow:Method (on_train_batch_end) is slow compared to the batch update (0.100022). Check your callbacks.\n",
      " 609/1563 [==========>...................] - ETA: 2:08 - loss: 0.9665 - accuracy: 0.6632WARNING:tensorflow:Method (on_train_batch_end) is slow compared to the batch update (0.100022). Check your callbacks.\n"
     ]
    },
    {
     "name": "stdout",
     "output_type": "stream",
     "text": [
      " 690/1563 [============>.................] - ETA: 2:02 - loss: 0.9711 - accuracy: 0.6629 ETA: 2:02 - loss: 0.9695 - accura - ETA: 2:02 - los - ETA: 1:58 - loss: 0.9714 - accura - ETA: 2:00 - loss: 0.9714 - accuraWARNING:tensorflow:Method (on_train_batch_end) is slow compared to the batch update (0.163973). Check your callbacks.\n",
      "1424/1563 [==========================>...] - ETA: 17s - loss: 0.9764 - accuracy: 0.6595  ETA: 1:01 - loss: 0. - ETA: 59s - l - - ETA: 26s - loss: 0. - ETA: 23s - ETA: 19s - loss: 0.9757 - WARNING:tensorflow:Method (on_train_batch_end) is slow compared to the batch update (0.102503). Check your callbacks.\n",
      "1563/1563 [==============================] - 196s 126ms/step - loss: 0.9791 - accuracy: 0.6588\n",
      "Epoch 22/50\n",
      " 519/1563 [========>.....................] - ETA: 2:32 - loss: 0.9583 - accuracy: 0.6671 ETA: 2:25 - losWARNING:tensorflow:Method (on_train_batch_end) is slow compared to the batch update (0.120936). Check your callbacks.\n",
      " 521/1563 [=========>....................] - ETA: 2:32 - loss: 0.9589 - accuracy: 0.6668WARNING:tensorflow:Method (on_train_batch_end) is slow compared to the batch update (0.112022). Check your callbacks.\n",
      " 669/1563 [===========>..................] - ETA: 2:10 - loss: 0.9548 - accuracy: 0.6686 ETA: 2:10 - loss: 0.9590 - accu - ETA: 2:08 - loss: 0.9WARNING:tensorflow:Method (on_train_batch_end) is slow compared to the batch update (0.100007). Check your callbacks.\n",
      " 670/1563 [===========>..................] - ETA: 2:10 - loss: 0.9552 - accuracy: 0.6685WARNING:tensorflow:Method (on_train_batch_end) is slow compared to the batch update (0.100007). Check your callbacks.\n",
      "1108/1563 [====================>.........] - ETA: 1:02 - loss: 0.9591 - accuracy: 0.6663 ETA: 1:02 - loss: 0.9595 - accuWARNING:tensorflow:Method (on_train_batch_end) is slow compared to the batch update (0.157005). Check your callbacks.\n",
      "1247/1563 [======================>.......] - ETA: 46s - loss: 0.9579 - accuracy: 0.6660- ETA: 52s - loss: 0.9560 - accuracy: 0.666 - ETA: 51s - loss: 0.9562 - a - ETA: 49s - - ETA: 46s - loss: 0.9579 - accuracy:WARNING:tensorflow:Method (on_train_batch_end) is slow compared to the batch update (0.116332). Check your callbacks.\n",
      "1248/1563 [======================>.......] - ETA: 45s - loss: 0.9577 - accuracy: 0.6660WARNING:tensorflow:Method (on_train_batch_end) is slow compared to the batch update (0.114308). Check your callbacks.\n",
      "1249/1563 [======================>.......] - ETA: 45s - loss: 0.9576 - accuracy: 0.6661WARNING:tensorflow:Method (on_train_batch_end) is slow compared to the batch update (0.114308). Check your callbacks.\n",
      "1250/1563 [======================>.......] - ETA: 45s - loss: 0.9577 - accuracy: 0.6661WARNING:tensorflow:Method (on_train_batch_end) is slow compared to the batch update (0.105996). Check your callbacks.\n",
      "1563/1563 [==============================] - 217s 139ms/step - loss: 0.9578 - accuracy: 0.6661 - loss:\n",
      "Epoch 23/50\n",
      " 313/1563 [=====>........................] - ETA: 2:53 - loss: 0.9232 - accuracy: 0.6845 ETA: 2:41 - loss: 0.9145 - accuracy: 0. - ETA: 2:26 - loss: 0.9202 - accuracy: 0.68 - ETA: 2:27 - loss: 0.9203 - accuracy: 0.68 - ETA: 2:27 - loss: - ETA: 2:41 - loss: 0.9202 - accuracy:  - ETA: 2:50 - loss: 0.9221 - accuracy: 0.WARNING:tensorflow:Method (on_train_batch_end) is slow compared to the batch update (0.148486). Check your callbacks.\n",
      " 314/1563 [=====>........................] - ETA: 2:52 - loss: 0.9230 - accuracy: 0.6846WARNING:tensorflow:Method (on_train_batch_end) is slow compared to the batch update (0.148486). Check your callbacks.\n",
      " 315/1563 [=====>........................] - ETA: 2:52 - loss: 0.9231 - accuracy: 0.6847WARNING:tensorflow:Method (on_train_batch_end) is slow compared to the batch update (0.144005). Check your callbacks.\n",
      "1563/1563 [==============================] - 176s 113ms/step - loss: 0.9340 - accuracy: 0.676854s - loss:  - ETA: 52s - loss: 0.9294 - accuracy:  - ETA: 3s - ETA: 1s - loss: 0.933 - ETA: 0s - loss: 0.9342 - accura\n",
      "Epoch 24/50\n",
      " 315/1563 [=====>........................] - ETA: 2:48 - loss: 0.8985 - accuracy: 0.6856 ETA: 2:38 - loss: 0.8973 WARNING:tensorflow:Method (on_train_batch_end) is slow compared to the batch update (0.142490). Check your callbacks.\n",
      " 316/1563 [=====>........................] - ETA: 2:47 - loss: 0.8977 - accuracy: 0.6860WARNING:tensorflow:Method (on_train_batch_end) is slow compared to the batch update (0.142485). Check your callbacks.\n",
      " 317/1563 [=====>........................] - ETA: 2:47 - loss: 0.8978 - accuracy: 0.6857WARNING:tensorflow:Method (on_train_batch_end) is slow compared to the batch update (0.130971). Check your callbacks.\n",
      " 318/1563 [=====>........................] - ETA: 2:47 - loss: 0.8983 - accuracy: 0.6857WARNING:tensorflow:Method (on_train_batch_end) is slow compared to the batch update (0.111989). Check your callbacks.\n",
      " 343/1563 [=====>........................] - ETA: 2:55 - loss: 0.8990 - accuracy: 0.6852 ETA: 2:54 - loss: 0.8993 - accuracy: 0.WARNING:tensorflow:Method (on_train_batch_end) is slow compared to the batch update (0.111489). Check your callbacks.\n",
      " 344/1563 [=====>........................] - ETA: 2:55 - loss: 0.8996 - accuracy: 0.6851WARNING:tensorflow:Method (on_train_batch_end) is slow compared to the batch update (0.111489). Check your callbacks.\n",
      " 345/1563 [=====>........................] - ETA: 2:55 - loss: 0.8996 - accuracy: 0.6855WARNING:tensorflow:Method (on_train_batch_end) is slow compared to the batch update (0.102012). Check your callbacks.\n",
      "1148/1563 [=====================>........] - ETA: 52s - loss: 0.9035 - accuracy: 0.689 - ETA: 52s - loss: 0.9037 - accuracy: 0.6889WARNING:tensorflow:Method (on_train_batch_end) is slow compared to the batch update (0.109360). Check your callbacks.\n",
      "1149/1563 [=====================>........] - ETA: 52s - loss: 0.9037 - accuracy: 0.6889WARNING:tensorflow:Method (on_train_batch_end) is slow compared to the batch update (0.110865). Check your callbacks.\n",
      "1312/1563 [========================>.....] - ETA: 32s - loss: 0.9048 - accuracy: 0.6877- ETA: 48s - loss: 0.9036 - accuracy: 0.68 - ETA: 48s - loss: 0.90 - ETA: 45s - loss: 0.9031 -  - ETA: 32s - loss: 0.9044 - accuracy: 0.687 - ETA: 32s - loss: 0.9045 - accuracy: 0.WARNING:tensorflow:Method (on_train_batch_end) is slow compared to the batch update (0.164321). Check your callbacks.\n",
      "1313/1563 [========================>.....] - ETA: 32s - loss: 0.9048 - accuracy: 0.6877WARNING:tensorflow:Method (on_train_batch_end) is slow compared to the batch update (0.164321). Check your callbacks.\n",
      "1314/1563 [========================>.....] - ETA: 32s - loss: 0.9047 - accuracy: 0.6877WARNING:tensorflow:Method (on_train_batch_end) is slow compared to the batch update (0.152341). Check your callbacks.\n",
      "1315/1563 [========================>.....] - ETA: 32s - loss: 0.9046 - accuracy: 0.6877WARNING:tensorflow:Method (on_train_batch_end) is slow compared to the batch update (0.104507). Check your callbacks.\n",
      "1563/1563 [==============================] - 198s 126ms/step - loss: 0.9083 - accuracy: 0.6864 - loss: 0.9082 - ac\n",
      "Epoch 25/50\n",
      "1163/1563 [=====================>........] - ETA: 59s - loss: 0.8747 - accuracy: 0.69688 ETA: 1:47 - loss: - ETA: 1:47 - losWARNING:tensorflow:Method (on_train_batch_end) is slow compared to the batch update (0.145866). Check your callbacks.\n",
      "1164/1563 [=====================>........] - ETA: 59s - loss: 0.8745 - accuracy: 0.6969WARNING:tensorflow:Method (on_train_batch_end) is slow compared to the batch update (0.141019). Check your callbacks.\n",
      "1165/1563 [=====================>........] - ETA: 59s - loss: 0.8745 - accuracy: 0.6969WARNING:tensorflow:Method (on_train_batch_end) is slow compared to the batch update (0.129031). Check your callbacks.\n",
      "1333/1563 [========================>.....] - ETA: 36s - loss: 0.8776 - accuracy: 0.6956- ETA: 58s - loss: 0.8 - ET - ETA: 37s - loss: 0.8774 - accuracy: 0.6 - ETA: 37s - loss: 0.8773 - accuracy: 0. - ETA: 37s - loss: 0.8776 - accuracy: 0.695 - ETA: 37s - loss: 0.8774 - accuracy: 0.6WARNING:tensorflow:Method (on_train_batch_end) is slow compared to the batch update (0.220901). Check your callbacks.\n"
     ]
    },
    {
     "name": "stdout",
     "output_type": "stream",
     "text": [
      "1366/1563 [=========================>....] - ETA: 32s - loss: 0.8787 - accuracy: 0.6954- ETA: 33s - loss: 0.8787 - accuraWARNING:tensorflow:Method (on_train_batch_end) is slow compared to the batch update (0.186501). Check your callbacks.\n",
      "1375/1563 [=========================>....] - ETA: 31s - loss: 0.8787 - accuracy: 0.6954- ETA: 31s - loss: 0.8786 - accuracy: 0.69 - ETA: 31s - loss: 0.8787 - accuracy: 0.6WARNING:tensorflow:Method (on_train_batch_end) is slow compared to the batch update (0.207352). Check your callbacks.\n",
      "1377/1563 [=========================>....] - ETA: 31s - loss: 0.8788 - accuracy: 0.6952WARNING:tensorflow:Method (on_train_batch_end) is slow compared to the batch update (0.207352). Check your callbacks.\n",
      "1378/1563 [=========================>....] - ETA: 31s - loss: 0.8787 - accuracy: 0.6953WARNING:tensorflow:Method (on_train_batch_end) is slow compared to the batch update (0.207352). Check your callbacks.\n",
      "1379/1563 [=========================>....] - ETA: 31s - loss: 0.8786 - accuracy: 0.6953WARNING:tensorflow:Method (on_train_batch_end) is slow compared to the batch update (0.207352). Check your callbacks.\n",
      "1563/1563 [==============================] - 262s 168ms/step - loss: 0.8814 - accuracy: 0.6939 - l - ETA: 2s - los\n",
      "Epoch 26/50\n",
      " 322/1563 [=====>........................] - ETA: 2:54 - loss: 0.8546 - accuracy: 0.7069 ETA: 2:42 - loss: 0.8513 - accuracy:  - ETA: 2:43 - - ETA: 2: - ETA: 2:44 - loss: 0.8516 - accuracy: 0. - ETA: 2:45 - loss: 0.8511 - accura - ETA: 2:46 - loss: 0.8530 - accuracy: 0.70 - ETA: 2:WARNING:tensorflow:Method (on_train_batch_end) is slow compared to the batch update (0.109495). Check your callbacks.\n",
      " 323/1563 [=====>........................] - ETA: 2:54 - loss: 0.8546 - accuracy: 0.7065WARNING:tensorflow:Method (on_train_batch_end) is slow compared to the batch update (0.103472). Check your callbacks.\n",
      " 415/1563 [======>.......................] - ETA: 2:53 - loss: 0.8520 - accuracy: 0.7073 ETA: 2:46 - loss: 0.8557 - accu - ETA: 2:39 - loss: 0.8526  - ETA: 2:46 - loss: 0.8519 - accuraWARNING:tensorflow:Method (on_train_batch_end) is slow compared to the batch update (0.216012). Check your callbacks.\n",
      " 418/1563 [=======>......................] - ETA: 2:54 - loss: 0.8510 - accuracy: 0.7072WARNING:tensorflow:Method (on_train_batch_end) is slow compared to the batch update (0.125608). Check your callbacks.\n",
      " 661/1563 [===========>..................] - ETA: 2:17 - loss: 0.8534 - accuracy: 0.7061WARNING:tensorflow:Method (on_train_batch_end) is slow compared to the batch update (0.157521). Check your callbacks.\n",
      " 664/1563 [===========>..................] - ETA: 2:17 - loss: 0.8539 - accuracy: 0.70 - ETA: 2:17 - loss: 0.8548 - accuracy: 0.7057WARNING:tensorflow:Method (on_train_batch_end) is slow compared to the batch update (0.137494). Check your callbacks.\n",
      " 673/1563 [===========>..................] - ETA: 2:20 - loss: 0.8551 - accuracy: 0.7055WARNING:tensorflow:Method (on_train_batch_end) is slow compared to the batch update (0.152418). Check your callbacks.\n",
      " 674/1563 [===========>..................] - ETA: 2:20 - loss: 0.8556 - accuracy: 0.7053WARNING:tensorflow:Method (on_train_batch_end) is slow compared to the batch update (0.152418). Check your callbacks.\n",
      " 691/1563 [============>.................] - ETA: 2:24 - loss: 0.8570 - accuracy: 0.7046 ETA: 2:21 - lWARNING:tensorflow:Method (on_train_batch_end) is slow compared to the batch update (0.126032). Check your callbacks.\n",
      " 692/1563 [============>.................] - ETA: 2:23 - loss: 0.8570 - accuracy: 0.7046WARNING:tensorflow:Method (on_train_batch_end) is slow compared to the batch update (0.126032). Check your callbacks.\n",
      " 693/1563 [============>.................] - ETA: 2:23 - loss: 0.8575 - accuracy: 0.7044WARNING:tensorflow:Method (on_train_batch_end) is slow compared to the batch update (0.117027). Check your callbacks.\n",
      " 801/1563 [==============>...............] - ETA: 2:02 - loss: 0.8543 - accuracy: 0.7055WARNING:tensorflow:Method (on_train_batch_end) is slow compared to the batch update (0.126335). Check your callbacks.\n",
      " 807/1563 [==============>...............] - ETA: 2:02 - loss: 0.8541 - accuracy: 0.7056 ETA: 2:02 - loss: 0.8541 - accuracy: WARNING:tensorflow:Method (on_train_batch_end) is slow compared to the batch update (0.129579). Check your callbacks.\n",
      "1287/1563 [=======================>......] - ETA: 41s - loss: 0.8562 - accuracy: 0.7035  ETA: 1WARNING:tensorflow:Method (on_train_batch_end) is slow compared to the batch update (0.110503). Check your callbacks.\n",
      "1563/1563 [==============================] - 222s 142ms/step - loss: 0.8574 - accuracy: 0.702619s - loss: 0.8563  - ETA: 6s - ETA: 4s - l - ETA: 2s - l - ETA: 0s - loss: 0.8575 - accuracy: 0.\n",
      "Epoch 27/50\n",
      "1563/1563 [==============================] - 183s 117ms/step - loss: 0.8321 - accuracy: 0.712643s - loss: 0.82 - ETA: 41s - los - ETA: 19s - loss: 0.8292 - accura - ETA: 18s - loss: 0.8288 - accura - ETA: 17s - loss: 0.8286 - accuracy: 0 - ETA: 16s - loss: 0.8286 - accurac - - ETA: 7s - loss: 0.8316 - accuracy: 0.71 - ETA: 7s - loss: 0.8315 - accu - ETA: 1s -\n",
      "Epoch 28/50\n",
      " 243/1563 [===>..........................] - ETA: 3:21 - loss: 0.7890 - accuracy: 0.7258 ETA: 2:52 - loss: 0.7843 - accura - ETA: 3:15 - loss: 0.7905 - accuracy: 0.72 - ETA: 3:19 - loss: 0.7894 - accuracy: 0.72WARNING:tensorflow:Method (on_train_batch_end) is slow compared to the batch update (0.203521). Check your callbacks.\n",
      " 244/1563 [===>..........................] - ETA: 3:21 - loss: 0.7891 - accuracy: 0.7257WARNING:tensorflow:Method (on_train_batch_end) is slow compared to the batch update (0.203521). Check your callbacks.\n",
      " 245/1563 [===>..........................] - ETA: 3:20 - loss: 0.7880 - accuracy: 0.7261WARNING:tensorflow:Method (on_train_batch_end) is slow compared to the batch update (0.203521). Check your callbacks.\n",
      " 246/1563 [===>..........................] - ETA: 3:20 - loss: 0.7902 - accuracy: 0.7256WARNING:tensorflow:Method (on_train_batch_end) is slow compared to the batch update (0.203521). Check your callbacks.\n",
      " 247/1563 [===>..........................] - ETA: 3:20 - loss: 0.7907 - accuracy: 0.7257WARNING:tensorflow:Method (on_train_batch_end) is slow compared to the batch update (0.132517). Check your callbacks.\n",
      " 953/1563 [=================>............] - ETA: 1:29 - loss: 0.8029 - accuracy: 0.7216 ETA: 1:28 - loss: 0.8031 -  - ETA: 1:28 - loss: 0.8024 - accuracy:  - ETA: 1:28 - loss: 0.8029 - accuraWARNING:tensorflow:Method (on_train_batch_end) is slow compared to the batch update (0.155004). Check your callbacks.\n",
      " 985/1563 [=================>............] - ETA: 1:29 - loss: 0.8034 - accuracy: 0.7208 ETA: 1:26 - loss: 0.8031 - accuracy: 0.72 - ETA: 1:26 - loss: 0.8033 - accuracy: 0.72 - ETA: 1:27 - loss: 0.8034 - accuracy: 0. - ETA: 1:28 - loss: 0.8033 - accuracy: 0.72 - ETA: 1:28 - loss: 0.8031 - accuracy: 0. - ETA: 1:29 - loss: 0.8035 - accuracy: WARNING:tensorflow:Method (on_train_batch_end) is slow compared to the batch update (0.323192). Check your callbacks.\n",
      " 986/1563 [=================>............] - ETA: 1:29 - loss: 0.8035 - accuracy: 0.7208WARNING:tensorflow:Method (on_train_batch_end) is slow compared to the batch update (0.314998). Check your callbacks.\n",
      " 990/1563 [==================>...........] - ETA: 1:29 - loss: 0.8040 - accuracy: 0.7207 ETA: 1:29 - loss: 0.8037 - accuracy: 0.72WARNING:tensorflow:Method (on_train_batch_end) is slow compared to the batch update (0.153491). Check your callbacks.\n",
      " 991/1563 [==================>...........] - ETA: 1:29 - loss: 0.8037 - accuracy: 0.7209WARNING:tensorflow:Method (on_train_batch_end) is slow compared to the batch update (0.121996). Check your callbacks.\n",
      "1019/1563 [==================>...........] - ETA: 1:26 - loss: 0.8028 - accuracy: 0.7214WARNING:tensorflow:Method (on_train_batch_end) is slow compared to the batch update (0.114539). Check your callbacks.\n",
      "1020/1563 [==================>...........] - ETA: 1:26 - loss: 0.8031 - accuracy: 0.7213WARNING:tensorflow:Method (on_train_batch_end) is slow compared to the batch update (0.114539). Check your callbacks.\n"
     ]
    },
    {
     "name": "stdout",
     "output_type": "stream",
     "text": [
      "1563/1563 [==============================] - 220s 141ms/step - loss: 0.8110 - accuracy: 0.719354s - ETA: 49s - loss: 0.8076 - accuracy: 0.71 - ETA - ETA: 35s - loss: 0.8075 - accuracy: 0.71 - ETA: 35s - loss: 0. - ETA: 31s - loss: 0.8076 - accuracy: 0. - ETA: 31s - loss: 0.80 - E\n",
      "Epoch 29/50\n",
      "  86/1563 [>.............................] - ETA: 5:56 - loss: 0.7865 - accuracy: 0.7304 ETA: 4:55 - loss: 0.817WARNING:tensorflow:Method (on_train_batch_end) is slow compared to the batch update (0.101491). Check your callbacks.\n",
      " 282/1563 [====>.........................] - ETA: 4:19 - loss: 0.7708 - accuracy: 0.7364 ETA: 4: - ETA: 4:23 - loss: 0.7632 - accuracy: 0.73 - ETA: 4:23 - loss: 0.7648 - accuracy:  - ETA: 4:22 - loss: 0.7678 - accuracy:  - ETA: 4:23 - loss: 0.7694  - ETA: 4:15 - loss: 0.7726 WARNING:tensorflow:Method (on_train_batch_end) is slow compared to the batch update (0.102746). Check your callbacks.\n",
      " 579/1563 [==========>...................] - ETA: 2:59 - loss: 0.7680 - accuracy: 0.7356 ETA: 2:54 - loss: 0.7700 - ac - ETA: 2: - ETA: 2:49 - loss: 0.7691 - accuracy: 0.73 - ETA: 2:52 - loss: 0.7691 - accuracy: 0.73 - ETA: 2:54 - loss: 0.7688 - accuracy: 0. - ETA: 2:57 - loss: 0.7684 - accuracy: 0.73 - ETA: 2:58 - loss: 0.7683 - accuracy: 0. - ETA: 3:00 - loss: 0.7675 - accuracy: 0.7358WARNING:tensorflow:Method (on_train_batch_end) is slow compared to the batch update (0.339855). Check your callbacks.\n",
      " 581/1563 [==========>...................] - ETA: 3:01 - loss: 0.7680 - accuracy: 0.7356WARNING:tensorflow:Method (on_train_batch_end) is slow compared to the batch update (0.342993). Check your callbacks.\n",
      " 582/1563 [==========>...................] - ETA: 3:01 - loss: 0.7682 - accuracy: 0.7354WARNING:tensorflow:Method (on_train_batch_end) is slow compared to the batch update (0.339855). Check your callbacks.\n",
      " 583/1563 [==========>...................] - ETA: 3:01 - loss: 0.7689 - accuracy: 0.7353WARNING:tensorflow:Method (on_train_batch_end) is slow compared to the batch update (0.316345). Check your callbacks.\n",
      " 584/1563 [==========>...................] - ETA: 3:01 - loss: 0.7691 - accuracy: 0.7352WARNING:tensorflow:Method (on_train_batch_end) is slow compared to the batch update (0.291844). Check your callbacks.\n",
      " 585/1563 [==========>...................] - ETA: 3:00 - loss: 0.7688 - accuracy: 0.7354WARNING:tensorflow:Method (on_train_batch_end) is slow compared to the batch update (0.134504). Check your callbacks.\n",
      " 885/1563 [===============>..............] - ETA: 1:49 - loss: 0.7798 - accuracy: 0.7312 ETA: 1:50 - loss: 0.7796 - accuracy:  - ETA: 1:49 - loss: 0.7791 - acWARNING:tensorflow:Method (on_train_batch_end) is slow compared to the batch update (0.105021). Check your callbacks.\n",
      " 886/1563 [================>.............] - ETA: 1:49 - loss: 0.7796 - accuracy: 0.7313WARNING:tensorflow:Method (on_train_batch_end) is slow compared to the batch update (0.105021). Check your callbacks.\n",
      " 887/1563 [================>.............] - ETA: 1:49 - loss: 0.7799 - accuracy: 0.7312WARNING:tensorflow:Method (on_train_batch_end) is slow compared to the batch update (0.105021). Check your callbacks.\n",
      " 994/1563 [==================>...........] - ETA: 1:40 - loss: 0.7784 - accuracy: 0.7320 ETA: 1:39 - ETA: 1:37 - loss: 0.7790 - accuracy: 0. - ETA: 1:36 - loss: 0.7788 - accura - ETA: 1:36 - loss: 0.7779 - accuracy: 0. - ETA: 1:35 - loss: 0.7778 - accuracy:  - ETA: 1:35 - loss: 0.7779 - accuracy: 0.73 - ETA: 1:36 - loss: 0.7779 - accuracy: 0.73 - ETA: 1:36 - loss: 0.7776 - accuracy: 0. - ETA: 1:36 - loss: 0.7778 - accuracy - ETA: 1:36 - loss: 0.7778 - accuracy:  - ETA: 1:38 - loss: 0.7782 - accuracy: 0.73 - ETA: 1:38 - loss: 0.7784 - accuracy: 0. - ETA: 1:39 - loss: 0.7786 - accuracy: 0.73WARNING:tensorflow:Method (on_train_batch_end) is slow compared to the batch update (0.367508). Check your callbacks.\n",
      " 995/1563 [==================>...........] - ETA: 1:40 - loss: 0.7784 - accuracy: 0.7320WARNING:tensorflow:Method (on_train_batch_end) is slow compared to the batch update (0.367508). Check your callbacks.\n",
      " 996/1563 [==================>...........] - ETA: 1:40 - loss: 0.7782 - accuracy: 0.7321WARNING:tensorflow:Method (on_train_batch_end) is slow compared to the batch update (0.367508). Check your callbacks.\n",
      " 997/1563 [==================>...........] - ETA: 1:39 - loss: 0.7786 - accuracy: 0.7319WARNING:tensorflow:Method (on_train_batch_end) is slow compared to the batch update (0.367508). Check your callbacks.\n",
      " 998/1563 [==================>...........] - ETA: 1:39 - loss: 0.7786 - accuracy: 0.7319WARNING:tensorflow:Method (on_train_batch_end) is slow compared to the batch update (0.349526). Check your callbacks.\n",
      " 999/1563 [==================>...........] - ETA: 1:39 - loss: 0.7786 - accuracy: 0.7319WARNING:tensorflow:Method (on_train_batch_end) is slow compared to the batch update (0.177516). Check your callbacks.\n",
      "1133/1563 [====================>.........] - ETA: 1:15 - loss: 0.7776 - accuracy: 0.7333 ETA: 1:23 - loss: 0.7 - ETA: 1:21 - loss: 0.777 - ETA: 1:19 - los - ETA: 1:17 - loss: 0.7773 - accuracy: 0. - ETA: 1:16 - los - ETA: 1:15 - loss: 0.7775 - acWARNING:tensorflow:Method (on_train_batch_end) is slow compared to the batch update (0.164138). Check your callbacks.\n",
      "1136/1563 [====================>.........] - ETA: 1:14 - loss: 0.7772 - accuracy: 0.7335WARNING:tensorflow:Method (on_train_batch_end) is slow compared to the batch update (0.143490). Check your callbacks.\n",
      "1137/1563 [====================>.........] - ETA: 1:14 - loss: 0.7772 - accuracy: 0.7335WARNING:tensorflow:Method (on_train_batch_end) is slow compared to the batch update (0.127964). Check your callbacks.\n",
      "1463/1563 [===========================>..] - ETA: 18s - loss: 0.7805 - accuracy: 0.7317- ETA: 55s - loss: 0.7786 - acc - ETA: 53s - loss: 0.7788 - accuracy:  - ETA: 52s - loss: 0.7786 - accuracy: 0. - ETA: 51s - loss: 0.7787 - accuracy - ETA: 5 - ETA: 45s - loss: 0.7781 - accuracy: 0.732 - ETA: 45s - loss: 0.7780 - accuracy: 0.732 - ETA: 45s - loss: 0.7781 - accuracy - ETA: 27s - loss: 0.7788 - accura - E - ETA: 19s - loss: 0.7803 - accuracy: 0.731 - ETA: 18s - loss: 0.7803 - accuracy: 0.731 - ETA: 18s - loss: 0.7803 - accuracy: 0.731 - ETA: 18s - loss: 0.7804 - accuracy: 0.7WARNING:tensorflow:Method (on_train_batch_end) is slow compared to the batch update (0.150998). Check your callbacks.\n",
      "1545/1563 [============================>.] - ETA: 3s - loss: 0.7805 - accuracy: 0.7320 ETA: 3s - loss: 0.7804 - accuracy: WARNING:tensorflow:Method (on_train_batch_end) is slow compared to the batch update (0.179842). Check your callbacks.\n",
      "1546/1563 [============================>.] - ETA: 3s - loss: 0.7804 - accuracy: 0.7320WARNING:tensorflow:Method (on_train_batch_end) is slow compared to the batch update (0.179842). Check your callbacks.\n",
      "1547/1563 [============================>.] - ETA: 2s - loss: 0.7805 - accuracy: 0.7319WARNING:tensorflow:Method (on_train_batch_end) is slow compared to the batch update (0.169000). Check your callbacks.\n",
      "1549/1563 [============================>.] - ETA: 2s - loss: 0.7806 - accuracy: 0.7318WARNING:tensorflow:Method (on_train_batch_end) is slow compared to the batch update (0.101310). Check your callbacks.\n",
      "1563/1563 [==============================] - 291s 186ms/step - loss: 0.7805 - accuracy: 0.7317\n",
      "Epoch 30/50\n",
      " 119/1563 [=>............................] - ETA: 4:56 - loss: 0.7296 - accuracy: 0.74 - ETA: 4:56 - loss: 0.7278 - accuracy: 0.7503WARNING:tensorflow:Method (on_train_batch_end) is slow compared to the batch update (0.132005). Check your callbacks.\n",
      " 128/1563 [=>............................] - ETA: 5:31 - loss: 0.7249 - accuracy: 0.7495 ETA: 5:22 - loss: 0.7249 - accuracy: 0.75 - ETA: 5:28 - loss: 0.7249 - accuracy: 0.WARNING:tensorflow:Method (on_train_batch_end) is slow compared to the batch update (0.143525). Check your callbacks.\n",
      " 129/1563 [=>............................] - ETA: 5:30 - loss: 0.7270 - accuracy: 0.7483WARNING:tensorflow:Method (on_train_batch_end) is slow compared to the batch update (0.143525). Check your callbacks.\n",
      " 130/1563 [=>............................] - ETA: 5:29 - loss: 0.7263 - accuracy: 0.7481WARNING:tensorflow:Method (on_train_batch_end) is slow compared to the batch update (0.127527). Check your callbacks.\n"
     ]
    },
    {
     "name": "stdout",
     "output_type": "stream",
     "text": [
      " 131/1563 [=>............................] - ETA: 5:27 - loss: 0.7266 - accuracy: 0.7479WARNING:tensorflow:Method (on_train_batch_end) is slow compared to the batch update (0.115615). Check your callbacks.\n",
      " 606/1563 [==========>...................] - ETA: 3:17 - loss: 0.7400 - accuracy: 0.7470 E - ETA: 3:28 - loss: 0.7 - ETA: 3:23 - loss: 0.7451 - accuracy: 0. - ETA: 3:22 - loss: 0.7449 - accu - ETA: 3:20 - loss: 0 - ETA - ETA: 3:18 - - ETA: 3:16 - loss: 0 - ETA: 3:14 - loss: 0.742 - ETA: 3:13 - loss: 0.7423 - accuracy: 0. - E - ETA: 3:09 - ETA: 3:07 - loss: 0.7 - ETA: 3:14 - loss: 0.7420 - accuracy:  - ETA: 3:16 - loss: 0.7412 - acWARNING:tensorflow:Method (on_train_batch_end) is slow compared to the batch update (0.141973). Check your callbacks.\n",
      " 610/1563 [==========>...................] - ETA: 3:17 - loss: 0.7404 - accuracy: 0.7470WARNING:tensorflow:Method (on_train_batch_end) is slow compared to the batch update (0.105508). Check your callbacks.\n",
      " 644/1563 [===========>..................] - ETA: 3:19 - loss: 0.7405 - accuracy: 0.7467 ETA: 3:16 - loss: 0 - ETA: 3:15 - loss: 0.7393 - accuracy:  - ETA: 3:15 - loss: 0.7395 - accura - ETA: 3:17 - loss: 0.7398 - accuraWARNING:tensorflow:Method (on_train_batch_end) is slow compared to the batch update (0.208346). Check your callbacks.\n",
      " 648/1563 [===========>..................] - ETA: 3:20 - loss: 0.7410 - accuracy: 0.7465WARNING:tensorflow:Method (on_train_batch_end) is slow compared to the batch update (0.173491). Check your callbacks.\n",
      " 649/1563 [===========>..................] - ETA: 3:19 - loss: 0.7410 - accuracy: 0.7464WARNING:tensorflow:Method (on_train_batch_end) is slow compared to the batch update (0.153988). Check your callbacks.\n",
      " 650/1563 [===========>..................] - ETA: 3:19 - loss: 0.7410 - accuracy: 0.7464WARNING:tensorflow:Method (on_train_batch_end) is slow compared to the batch update (0.146826). Check your callbacks.\n",
      " 867/1563 [===============>..............] - ETA: 2:24 - loss: 0.7495 - accuracy: 0.7427WARNING:tensorflow:Method (on_train_batch_end) is slow compared to the batch update (0.126485). Check your callbacks.\n",
      " 940/1563 [=================>............] - ETA: 2:07 - loss: 0.7508 - accuracy: 0.7434 ETA: 2:11 - loss: 0.7507 -  - ETA: 2:09 - loss: 0.7505 - accura - ETA: 2:08 - loss: 0.7509 - accuracy - ETA: 2:07 - loss: 0.7507 - acWARNING:tensorflow:Method (on_train_batch_end) is slow compared to the batch update (0.131513). Check your callbacks.\n",
      " 961/1563 [=================>............] - ETA: 2:06 - loss: 0.7498 - accuracy: 0.7440WARNING:tensorflow:Method (on_train_batch_end) is slow compared to the batch update (0.128873). Check your callbacks.\n",
      " 967/1563 [=================>............] - ETA: 2:06 - loss: 0.7510 - accuracy: 0.7436WARNING:tensorflow:Method (on_train_batch_end) is slow compared to the batch update (0.114509). Check your callbacks.\n",
      " 968/1563 [=================>............] - ETA: 2:05 - loss: 0.7513 - accuracy: 0.7435WARNING:tensorflow:Method (on_train_batch_end) is slow compared to the batch update (0.114509). Check your callbacks.\n",
      " 969/1563 [=================>............] - ETA: 2:05 - loss: 0.7514 - accuracy: 0.7434WARNING:tensorflow:Method (on_train_batch_end) is slow compared to the batch update (0.106020). Check your callbacks.\n",
      "1008/1563 [==================>...........] - ETA: 1:58 - loss: 0.7520 - accuracy: 0.7432 ETA: 1:58 - loss: 0.7514 - accuWARNING:tensorflow:Method (on_train_batch_end) is slow compared to the batch update (0.194346). Check your callbacks.\n",
      "1089/1563 [===================>..........] - ETA: 1:40 - loss: 0.7536 - accuracy: 0.7418 ETA: 1:54 - loss: 0.7511  - ETA: 1:40 - loss: 0.7534 - accuracy: 0.74 - ETA: 1:41 - loss: 0.7532 - accuWARNING:tensorflow:Method (on_train_batch_end) is slow compared to the batch update (0.166870). Check your callbacks.\n",
      "1094/1563 [===================>..........] - ETA: 1:39 - loss: 0.7535 - accuracy: 0.74 - ETA: 1:39 - loss: 0.7535 - accuracy: 0.7418WARNING:tensorflow:Method (on_train_batch_end) is slow compared to the batch update (0.122890). Check your callbacks.\n",
      "1100/1563 [====================>.........] - ETA: 1:39 - loss: 0.7536 - accuracy: 0.74 - ETA: 1:39 - loss: 0.7538 - accuracy: 0.74 - ETA: 1:39 - loss: 0.7538 - accuracy: 0.7420WARNING:tensorflow:Method (on_train_batch_end) is slow compared to the batch update (0.258893). Check your callbacks.\n",
      "1102/1563 [====================>.........] - ETA: 1:39 - loss: 0.7539 - accuracy: 0.74 - ETA: 1:39 - loss: 0.7539 - accuracy: 0.7419WARNING:tensorflow:Method (on_train_batch_end) is slow compared to the batch update (0.300973). Check your callbacks.\n",
      "1107/1563 [====================>.........] - ETA: 1:39 - loss: 0.7537 - accuracy: 0.7421WARNING:tensorflow:Method (on_train_batch_end) is slow compared to the batch update (0.267987). Check your callbacks.\n",
      "1115/1563 [====================>.........] - ETA: 1:39 - loss: 0.7536 - accuracy: 0.7422WARNING:tensorflow:Method (on_train_batch_end) is slow compared to the batch update (0.120502). Check your callbacks.\n",
      "1563/1563 [==============================] - 324s 208ms/step - loss: 0.7581 - accuracy: 0.74071:24 - loss: 0.7540 - accuracy: 0. - ETA: 1: - ETA: 1:20 - - ETA: 1:05 - loss: 0.7551 - accuracy: 0.74 - ETA: 1:05 - loss: 0.7549  - ETA: 57s - loss: 0 - ETA: 51s - loss: 0.7551 - -  - ETA: 30s - loss: 0.7570 - accu - ETA: 27s - loss: 0.7569 - accu - ETA: 25s - loss: 0.7567 - accura - ETA: 23s - loss: 0.7569 - accuracy: 0.7 - ETA: 1s - loss: 0.7585 - accuracy:  - ETA: 1s - loss: 0.7583 - ac\n",
      "Epoch 31/50\n",
      "  94/1563 [>.............................] - ETA: 5:10 - loss: 0.7164 - accuracy: 0.7493 ETA: 4:16 - loss: 0.746 - ETA: 5:01 - loss: 0.7208 - accuracyWARNING:tensorflow:Method (on_train_batch_end) is slow compared to the batch update (0.106012). Check your callbacks.\n",
      "  95/1563 [>.............................] - ETA: 5:08 - loss: 0.7161 - accuracy: 0.7493WARNING:tensorflow:Method (on_train_batch_end) is slow compared to the batch update (0.106012). Check your callbacks.\n",
      " 148/1563 [=>............................] - ETA: 4:54 - loss: 0.7074 - accuracy: 0.7589 ETA: 4:37 - l - ETA: 4:22 - los - ETA: 4:30 - loss: 0.7104 - WARNING:tensorflow:Method (on_train_batch_end) is slow compared to the batch update (0.156987). Check your callbacks.\n",
      " 150/1563 [=>............................] - ETA: 4:56 - loss: 0.7068 - accuracy: 0.7594WARNING:tensorflow:Method (on_train_batch_end) is slow compared to the batch update (0.156987). Check your callbacks.\n",
      " 157/1563 [==>...........................] - ETA: 5:13 - loss: 0.7052 - accuracy: 0.7600WARNING:tensorflow:Method (on_train_batch_end) is slow compared to the batch update (0.146331). Check your callbacks.\n",
      " 158/1563 [==>...........................] - ETA: 5:13 - loss: 0.7052 - accuracy: 0.7601WARNING:tensorflow:Method (on_train_batch_end) is slow compared to the batch update (0.146331). Check your callbacks.\n",
      " 159/1563 [==>...........................] - ETA: 5:12 - loss: 0.7072 - accuracy: 0.7592WARNING:tensorflow:Method (on_train_batch_end) is slow compared to the batch update (0.146331). Check your callbacks.\n",
      " 160/1563 [==>...........................] - ETA: 5:11 - loss: 0.7070 - accuracy: 0.7594WARNING:tensorflow:Method (on_train_batch_end) is slow compared to the batch update (0.101004). Check your callbacks.\n",
      " 217/1563 [===>..........................] - ETA: 5:21 - loss: 0.7157 - accuracy: 0.7597 ETA: 5:16 - loss: 0.7138 - accuracy: 0. - ETA: 5:20 - loss: 0.7164 - accuracy: 0. - ETA: 5:22 - loss: 0.7163 - accuracy: 0.7595WARNING:tensorflow:Method (on_train_batch_end) is slow compared to the batch update (0.143474). Check your callbacks.\n",
      " 222/1563 [===>..........................] - ETA: 5:31 - loss: 0.7144 - accuracy: 0.7608 ETA: 5:26 - loss: 0.7162 - accuracy: WARNING:tensorflow:Method (on_train_batch_end) is slow compared to the batch update (0.175526). Check your callbacks.\n",
      " 223/1563 [===>..........................] - ETA: 5:31 - loss: 0.7137 - accuracy: 0.7611WARNING:tensorflow:Method (on_train_batch_end) is slow compared to the batch update (0.136535). Check your callbacks.\n"
     ]
    },
    {
     "name": "stdout",
     "output_type": "stream",
     "text": [
      " 270/1563 [====>.........................] - ETA: 5:27 - loss: 0.7197 - accuracy: 0.7602 ETA: 5:29 - loss: 0.7160 - accuracy - ETA: 5:27 - loss: 0.7166 - accuracy: 0. - ETA: 5:26 - losWARNING:tensorflow:Method (on_train_batch_end) is slow compared to the batch update (0.115983). Check your callbacks.\n",
      " 279/1563 [====>.........................] - ETA: 5:30 - loss: 0.7200 - accuracy: 0.7601WARNING:tensorflow:Method (on_train_batch_end) is slow compared to the batch update (0.146497). Check your callbacks.\n",
      " 282/1563 [====>.........................] - ETA: 5:30 - loss: 0.7195 - accuracy: 0.7598WARNING:tensorflow:Method (on_train_batch_end) is slow compared to the batch update (0.111994). Check your callbacks.\n",
      " 318/1563 [=====>........................] - ETA: 6:14 - loss: 0.7182 - accuracy: 0.7609 ETA: 5:28 - loss: 0.7161 - accuracy - ETA: 5:24 - loss: 0.7178 - accuracy:  - ETA: 5:22 - loss: 0.7175 - accuracy: 0. - ETA: 5:26 - loss: 0.7176 - accuracy:  - ETA: 5:32 - loss: 0.7185 - accuracy: 0. - ETA: 5:35 - loss: 0.7197 - accuracy: 0.75 - ETA: 5:40 - loss: 0.7195 - accuracy:  - ETA: 5:52 - loss: 0.7189 - accuracy: 0.76 - ETA: 5:56 - loss: 0.7183 - accuracy: 0.76 - ETA: 5:57 - loss: 0.7187 - accuracy: 0.76 - ETA: 5:59 - loss: 0.7189 - accuracy: 0. - ETA: 6:07 - loss: 0.7180 - accuracy: 0.76 - ETA: 6:09 - loss: 0.7178 - accuracy: 0.76 - ETA: 6:13 - loss: 0.7178 - accuracy: 0.76WARNING:tensorflow:Method (on_train_batch_end) is slow compared to the batch update (0.330719). Check your callbacks.\n",
      " 319/1563 [=====>........................] - ETA: 6:15 - loss: 0.7181 - accuracy: 0.7611WARNING:tensorflow:Method (on_train_batch_end) is slow compared to the batch update (0.327500). Check your callbacks.\n",
      " 320/1563 [=====>........................] - ETA: 6:14 - loss: 0.7180 - accuracy: 0.7613WARNING:tensorflow:Method (on_train_batch_end) is slow compared to the batch update (0.307014). Check your callbacks.\n",
      " 321/1563 [=====>........................] - ETA: 6:14 - loss: 0.7181 - accuracy: 0.7612WARNING:tensorflow:Method (on_train_batch_end) is slow compared to the batch update (0.283517). Check your callbacks.\n",
      " 410/1563 [======>.......................] - ETA: 5:32 - loss: 0.7157 - accuracy: 0.7610 ETA: 5:33 - ETA: 5:WARNING:tensorflow:Method (on_train_batch_end) is slow compared to the batch update (0.146485). Check your callbacks.\n",
      " 416/1563 [======>.......................] - ETA: 5:30 - loss: 0.7160 - accuracy: 0.7607WARNING:tensorflow:Method (on_train_batch_end) is slow compared to the batch update (0.108359). Check your callbacks.\n",
      " 484/1563 [========>.....................] - ETA: 5:03 - loss: 0.7108 - accuracy: 0.7630 ETA: 5:00 - loss: 0.7104 - accuracy: 0.76 - ETA: 5:03 - loss: 0.7103 - accuracy: 0.76WARNING:tensorflow:Method (on_train_batch_end) is slow compared to the batch update (0.148012). Check your callbacks.\n",
      " 485/1563 [========>.....................] - ETA: 5:02 - loss: 0.7106 - accuracy: 0.7631WARNING:tensorflow:Method (on_train_batch_end) is slow compared to the batch update (0.148012). Check your callbacks.\n",
      " 487/1563 [========>.....................] - ETA: 5:01 - loss: 0.7112 - accuracy: 0.7627WARNING:tensorflow:Method (on_train_batch_end) is slow compared to the batch update (0.145998). Check your callbacks.\n",
      " 792/1563 [==============>...............] - ETA: 3:14 - loss: 0.7188 - accuracy: 0.7579 ETA: 3:53 - loss: 0.7144 -  - ETA: 3:30 - loss: 0.7156 - ac - ETA: 3:17 - los - ETA: 3:13 - loss: 0 - ETA: 3:13 - loss: 0.7178 - accuracy: 0.75 - ETA: 3:13 - loss: 0.7178 - accuracy: 0. - ETA: 3:14 - loss: 0.7183 - accuracy: 0.75 - ETA: 3:14 - loss: 0.7186 - accuracy: 0.75WARNING:tensorflow:Method (on_train_batch_end) is slow compared to the batch update (0.235232). Check your callbacks.\n",
      " 794/1563 [==============>...............] - ETA: 3:14 - loss: 0.7189 - accuracy: 0.7579WARNING:tensorflow:Method (on_train_batch_end) is slow compared to the batch update (0.181488). Check your callbacks.\n",
      " 814/1563 [==============>...............] - ETA: 3:11 - loss: 0.7201 - accuracy: 0.7567 ETA: 3:11 - loss: 0.7200 - accuracy: WARNING:tensorflow:Method (on_train_batch_end) is slow compared to the batch update (0.194938). Check your callbacks.\n",
      " 816/1563 [==============>...............] - ETA: 3:10 - loss: 0.7197 - accuracy: 0.7567WARNING:tensorflow:Method (on_train_batch_end) is slow compared to the batch update (0.194938). Check your callbacks.\n",
      " 817/1563 [==============>...............] - ETA: 3:10 - loss: 0.7198 - accuracy: 0.7566WARNING:tensorflow:Method (on_train_batch_end) is slow compared to the batch update (0.275488). Check your callbacks.\n",
      " 888/1563 [================>.............] - ETA: 2:56 - loss: 0.7231 - accuracy: 0.7557 ETA: 3:09 - loss: 0.7205 -  - ETA:  - ETA: 3:02 - - ETA: 2:56 - loss: 0.7225 - accuracy:  - ETA: 2:55 - loss: 0.7221 - accuracy: 0. - ETA: 2:55 - loss: 0.7222 - accuracy: 0.75 - ETA: 2:56 - loss: 0.7225 - accuraWARNING:tensorflow:Method (on_train_batch_end) is slow compared to the batch update (0.160299). Check your callbacks.\n",
      " 889/1563 [================>.............] - ETA: 2:55 - loss: 0.7232 - accuracy: 0.7557WARNING:tensorflow:Method (on_train_batch_end) is slow compared to the batch update (0.160299). Check your callbacks.\n",
      " 890/1563 [================>.............] - ETA: 2:55 - loss: 0.7233 - accuracy: 0.7556WARNING:tensorflow:Method (on_train_batch_end) is slow compared to the batch update (0.103009). Check your callbacks.\n",
      " 924/1563 [================>.............] - ETA: 2:46 - loss: 0.7249 - accuracy: 0.7546 ETA: 2:51 - los - ETA: 2:46 - loss: 0.7239 -  - ETA: 2:46 - loss: 0.7247 - accuracy: 0.WARNING:tensorflow:Method (on_train_batch_end) is slow compared to the batch update (0.170022). Check your callbacks.\n",
      " 926/1563 [================>.............] - ETA: 2:45 - loss: 0.7252 - accuracy: 0.7545WARNING:tensorflow:Method (on_train_batch_end) is slow compared to the batch update (0.158017). Check your callbacks.\n",
      " 928/1563 [================>.............] - ETA: 2:45 - loss: 0.7255 - accuracy: 0.7544WARNING:tensorflow:Method (on_train_batch_end) is slow compared to the batch update (0.152017). Check your callbacks.\n",
      " 930/1563 [================>.............] - ETA: 2:44 - loss: 0.7261 - accuracy: 0.7543WARNING:tensorflow:Method (on_train_batch_end) is slow compared to the batch update (0.117530). Check your callbacks.\n",
      " 975/1563 [=================>............] - ETA: 2:32 - loss: 0.7252 - accuracy: 0.7543 ETA: 2:33 - loss: 0.7252 - accuracy: 0. - ETA: 2:33 - loss: 0.7252 - accuracy: 0.75 - ETA: 2:33 - loss: 0.7251 - accuracy: WARNING:tensorflow:Method (on_train_batch_end) is slow compared to the batch update (0.198994). Check your callbacks.\n",
      " 985/1563 [=================>............] - ETA: 2:31 - loss: 0.7253 - accuracy: 0.7543WARNING:tensorflow:Method (on_train_batch_end) is slow compared to the batch update (0.152046). Check your callbacks.\n",
      "1021/1563 [==================>...........] - ETA: 2:25 - loss: 0.7261 - accuracy: 0.7538 ETA: 2:25 - loss: 0.7263 - accuracy:  - ETA: 2:25 - loss: 0.7268 - accuracy: 0.75 - ETA: 2:25 - loss: 0.7267 - accuracy: 0. - ETA: 2:25 - loss: 0.7264 - accuracy: WARNING:tensorflow:Method (on_train_batch_end) is slow compared to the batch update (0.235579). Check your callbacks.\n",
      "1026/1563 [==================>...........] - ETA: 2:25 - loss: 0.7260 - accuracy: 0.7540 ETA: 2:26 - loss: 0.7261 - accuracy: 0.WARNING:tensorflow:Method (on_train_batch_end) is slow compared to the batch update (0.217015). Check your callbacks.\n",
      "1029/1563 [==================>...........] - ETA: 2:25 - loss: 0.7259 - accuracy: 0.7541WARNING:tensorflow:Method (on_train_batch_end) is slow compared to the batch update (0.138989). Check your callbacks.\n",
      "1050/1563 [===================>..........] - ETA: 2:23 - loss: 0.7270 - accuracy: 0.7533 ETA: 2:25 - loss: 0.7259 - accuracy: 0. - ETA: 2:25 - loss: 0.7259 - accu - ETA: 2:24 - loss: 0.7267 - accuracy: 0.75 - ETA: 2:24 - loss: 0.7266 - accuracy: 0.75 - ETA: 2:24 - loss: 0.7269 - accuracy: 0.75 - ETA: 2:24 - loss: 0.7272 - accuracy - ETA: 2:24 - loss: 0.7271 - accuracy: 0.75WARNING:tensorflow:Method (on_train_batch_end) is slow compared to the batch update (0.296111). Check your callbacks.\n"
     ]
    },
    {
     "name": "stdout",
     "output_type": "stream",
     "text": [
      "1057/1563 [===================>..........] - ETA: 2:22 - loss: 0.7268 - accuracy: 0.7535 ETA: 2:23 - loss: 0.7270 - accuracyWARNING:tensorflow:Method (on_train_batch_end) is slow compared to the batch update (0.163016). Check your callbacks.\n",
      "1058/1563 [===================>..........] - ETA: 2:22 - loss: 0.7269 - accuracy: 0.7535WARNING:tensorflow:Method (on_train_batch_end) is slow compared to the batch update (0.130512). Check your callbacks.\n",
      "1070/1563 [===================>..........] - ETA: 2:19 - loss: 0.7275 - accuracy: 0.7532 ETA: 2:21 - loss: 0.7271 WARNING:tensorflow:Method (on_train_batch_end) is slow compared to the batch update (0.124870). Check your callbacks.\n",
      "1071/1563 [===================>..........] - ETA: 2:18 - loss: 0.7274 - accuracy: 0.7532WARNING:tensorflow:Method (on_train_batch_end) is slow compared to the batch update (0.124870). Check your callbacks.\n",
      "1338/1563 [========================>.....] - ETA: 1:00 - loss: 0.7295 - accuracy: 0.7518 ETA: 2:17 - loss: 0.7283 - accuracy: 0.75 - ETA: 2:16 - loss: 0.7284 - accu - ETA - ETA: 1:36 - loss: 0.729 - ETA: 1:33 - l - ETA: 1:28 - los - ETA: 1:17 - ETA: 1:WARNING:tensorflow:Method (on_train_batch_end) is slow compared to the batch update (0.111491). Check your callbacks.\n",
      "1367/1563 [=========================>....] - ETA: 53s - loss: 0.7298 - accuracy: 0.7515- ETA: 53s - loss: 0.7297 - accuracy: 0.WARNING:tensorflow:Method (on_train_batch_end) is slow compared to the batch update (0.102011). Check your callbacks.\n",
      "1368/1563 [=========================>....] - ETA: 52s - loss: 0.7298 - accuracy: 0.7515WARNING:tensorflow:Method (on_train_batch_end) is slow compared to the batch update (0.102011). Check your callbacks.\n",
      "1369/1563 [=========================>....] - ETA: 52s - loss: 0.7299 - accuracy: 0.7514WARNING:tensorflow:Method (on_train_batch_end) is slow compared to the batch update (0.102011). Check your callbacks.\n",
      "1405/1563 [=========================>....] - ETA: 42s - loss: 0.7306 - accuracy: 0.7512- ETA: 46s - loss: 0.7302 - accura - ETA: 43s - loss: 0.7303 - accuracy: 0WARNING:tensorflow:Method (on_train_batch_end) is slow compared to the batch update (0.167313). Check your callbacks.\n",
      "1408/1563 [==========================>...] - ETA: 41s - loss: 0.7310 - accuracy: 0.7511WARNING:tensorflow:Method (on_train_batch_end) is slow compared to the batch update (0.167313). Check your callbacks.\n",
      "1551/1563 [============================>.] - ETA: 3s - loss: 0.7322 - accuracy: 0.75032- ETA: 22s - loss: 0.7324 - accura - ETA: 19s - loss: - ETA: 12s - loss: 0.7323 - accuracy: - ETA: 11s - loss: 0.7326 - accuracy: 0 - ETA: 9 - ETA: 4s - loss: 0.7324 - acWARNING:tensorflow:Method (on_train_batch_end) is slow compared to the batch update (0.180114). Check your callbacks.\n",
      "1559/1563 [============================>.] - ETA: 1s - loss: 0.7318 - accuracy: 0.7506 ETA: 1s - loss: 0.7319 - accuracy: WARNING:tensorflow:Method (on_train_batch_end) is slow compared to the batch update (0.112012). Check your callbacks.\n",
      "1563/1563 [==============================] - 415s 266ms/step - loss: 0.7320 - accuracy: 0.7504\n",
      "Epoch 32/50\n",
      " 165/1563 [==>...........................] - ETA: 3:49 - loss: 0.6784 - accuracy: 0.7699 ETA: 4:19 - ETA: 4:12 - - ETA:  - ETA: 3:08 - loss: 0.6794 - accuracy: 0.76 - ETA: 3:10 - loss: 0.6787 - accuracy: 0. - ETA: 3:12 - loss: 0 - ETA: 3:31 - loss: 0.6790 - accuracy:  - ETA: 3:41 - loss: 0.6774 - accuracy: 0.WARNING:tensorflow:Method (on_train_batch_end) is slow compared to the batch update (0.211507). Check your callbacks.\n",
      " 170/1563 [==>...........................] - ETA: 4:08 - loss: 0.6792 - accuracy: 0.7695 ETA: 4:00 - loss: 0.6787 - accuracy: 0.76 - ETA: 4:04 - loss: 0.6797 - accuracy: 0.WARNING:tensorflow:Method (on_train_batch_end) is slow compared to the batch update (0.214879). Check your callbacks.\n",
      " 171/1563 [==>...........................] - ETA: 4:08 - loss: 0.6796 - accuracy: 0.7694WARNING:tensorflow:Method (on_train_batch_end) is slow compared to the batch update (0.214879). Check your callbacks.\n",
      " 177/1563 [==>...........................] - ETA: 4:34 - loss: 0.6785 - accuracy: 0.7694 ETA: 4:26 - loss: 0.6781 - accuracy: WARNING:tensorflow:Method (on_train_batch_end) is slow compared to the batch update (0.178002). Check your callbacks.\n",
      " 195/1563 [==>...........................] - ETA: 4:47 - loss: 0.6828 - accuracy: 0.7670 ETA: 4:37 - loss: 0.681WARNING:tensorflow:Method (on_train_batch_end) is slow compared to the batch update (0.117524). Check your callbacks.\n",
      " 209/1563 [===>..........................] - ETA: 4:54 - loss: 0.6831 - accuracy: 0.7660WARNING:tensorflow:Method (on_train_batch_end) is slow compared to the batch update (0.107482). Check your callbacks.\n",
      " 263/1563 [====>.........................] - ETA: 4:42 - loss: 0.6857 - accuracy: 0.7657 ETA:  - ETA: 4:33 - loss: 0.6845 - WARNING:tensorflow:Method (on_train_batch_end) is slow compared to the batch update (0.155011). Check your callbacks.\n",
      " 274/1563 [====>.........................] - ETA: 4:47 - loss: 0.6876 - accuracy: 0.7639WARNING:tensorflow:Method (on_train_batch_end) is slow compared to the batch update (0.110036). Check your callbacks.\n",
      " 382/1563 [======>.......................] - ETA: 4:00 - loss: 0.6872 - accuracy: 0.7658 ETA:  - ETA: 4:10 - loss: 0.6906 - accuracy: 0.76 - ETA: 4:10 - loss: 0.6905 - accuracy:  - ETA: 4:09 - loss: 0.6903 - accura - ETA: 4:08 - loss: 0.6906 - accura - ETA: 4:00 - loss: 0.6858 - accuracy: 0.76 - ETA: 3:59 - loss: 0 - ETA: 3:57 - loss: 0.6871 - accuraWARNING:tensorflow:Method (on_train_batch_end) is slow compared to the batch update (0.139471). Check your callbacks.\n",
      " 383/1563 [======>.......................] - ETA: 4:00 - loss: 0.6872 - accuracy: 0.7658WARNING:tensorflow:Method (on_train_batch_end) is slow compared to the batch update (0.139471). Check your callbacks.\n",
      " 384/1563 [======>.......................] - ETA: 3:59 - loss: 0.6866 - accuracy: 0.7660WARNING:tensorflow:Method (on_train_batch_end) is slow compared to the batch update (0.139471). Check your callbacks.\n",
      " 385/1563 [======>.......................] - ETA: 3:59 - loss: 0.6875 - accuracy: 0.7659WARNING:tensorflow:Method (on_train_batch_end) is slow compared to the batch update (0.113480). Check your callbacks.\n",
      " 515/1563 [========>.....................] - ETA: 3:34 - loss: 0.6911 - accuracy: 0.7665 ETA: 3:29 - loss: 0.6910 -  - ETA: 3:32 - loss: 0.6915 - accuracy: 0. - ETA: 3:34 - loss: 0.6914 - accuracy: 0. - ETA: 3:35 - loss: 0.6908 - accuracy: 0.76 - ETA: 3:36 - loss: 0.6907 - accuracy: 0.76 - ETA: 3:36 - loss: 0.6904 - accuracy: 0.7667WARNING:tensorflow:Method (on_train_batch_end) is slow compared to the batch update (0.271341). Check your callbacks.\n",
      " 518/1563 [========>.....................] - ETA: 3:42 - loss: 0.6910 - accuracy: 0.7664WARNING:tensorflow:Method (on_train_batch_end) is slow compared to the batch update (0.338493). Check your callbacks.\n",
      " 519/1563 [========>.....................] - ETA: 3:42 - loss: 0.6908 - accuracy: 0.7664WARNING:tensorflow:Method (on_train_batch_end) is slow compared to the batch update (0.307840). Check your callbacks.\n",
      " 520/1563 [========>.....................] - ETA: 3:42 - loss: 0.6912 - accuracy: 0.7662WARNING:tensorflow:Method (on_train_batch_end) is slow compared to the batch update (0.271341). Check your callbacks.\n",
      " 521/1563 [=========>....................] - ETA: 3:41 - loss: 0.6912 - accuracy: 0.7661WARNING:tensorflow:Method (on_train_batch_end) is slow compared to the batch update (0.163475). Check your callbacks.\n",
      " 522/1563 [=========>....................] - ETA: 3:41 - loss: 0.6915 - accuracy: 0.7662WARNING:tensorflow:Method (on_train_batch_end) is slow compared to the batch update (0.152491). Check your callbacks.\n",
      " 532/1563 [=========>....................] - ETA: 3:47 - loss: 0.6924 - accuracy: 0.7659 ETA: 3:45 - loss: 0.6926 - accuracyWARNING:tensorflow:Method (on_train_batch_end) is slow compared to the batch update (0.133994). Check your callbacks.\n"
     ]
    },
    {
     "name": "stdout",
     "output_type": "stream",
     "text": [
      " 675/1563 [===========>..................] - ETA: 3:13 - loss: 0.6964 - accuracy: 0.7651 ETA - ETA: 3:32 - loss: - ETA: 3:13 - loss: 0.6954 - accuracy:  - ETA: 3:13 - loss: 0.6959 - accura - ETA: 3:12 - loss: 0.6 - ETA: 3:10 - loss: 0.6959 - accuracy: 0.76 - ETA: 3:12 - loss: 0.6960 - acWARNING:tensorflow:Method (on_train_batch_end) is slow compared to the batch update (0.140507). Check your callbacks.\n",
      " 678/1563 [============>.................] - ETA: 3:14 - loss: 0.6960 - accuracy: 0.7651WARNING:tensorflow:Method (on_train_batch_end) is slow compared to the batch update (0.128505). Check your callbacks.\n",
      " 680/1563 [============>.................] - ETA: 3:13 - loss: 0.6959 - accuracy: 0.7651WARNING:tensorflow:Method (on_train_batch_end) is slow compared to the batch update (0.114182). Check your callbacks.\n",
      " 931/1563 [================>.............] - ETA: 2:12 - loss: 0.7015 - accuracy: 0.7618WARNING:tensorflow:Method (on_train_batch_end) is slow compared to the batch update (0.140506). Check your callbacks.\n",
      "1150/1563 [=====================>........] - ETA: 1:28 - loss: 0.7056 - accuracy: 0.7596 ETA: 1:51 - los - ETA: 1:29 - loss: 0.7059 - acWARNING:tensorflow:Method (on_train_batch_end) is slow compared to the batch update (0.145016). Check your callbacks.\n",
      "1157/1563 [=====================>........] - ETA: 1:27 - loss: 0.7060 - accuracy: 0.7595WARNING:tensorflow:Method (on_train_batch_end) is slow compared to the batch update (0.129504). Check your callbacks.\n",
      "1166/1563 [=====================>........] - ETA: 1:26 - loss: 0.7061 - accuracy: 0.7593WARNING:tensorflow:Method (on_train_batch_end) is slow compared to the batch update (0.121156). Check your callbacks.\n",
      "1167/1563 [=====================>........] - ETA: 1:26 - loss: 0.7061 - accuracy: 0.7593WARNING:tensorflow:Method (on_train_batch_end) is slow compared to the batch update (0.121156). Check your callbacks.\n",
      "1168/1563 [=====================>........] - ETA: 1:25 - loss: 0.7061 - accuracy: 0.7594WARNING:tensorflow:Method (on_train_batch_end) is slow compared to the batch update (0.107336). Check your callbacks.\n",
      "1255/1563 [=======================>......] - ETA: 1:06 - loss: 0.7082 - accuracy: 0.7586 ETA: 1:09 - - ETA: 1:06 - loss: 0.7082 - accuracy: 0. - ETA: 1:06 - loss: 0.7082 - accuracy: WARNING:tensorflow:Method (on_train_batch_end) is slow compared to the batch update (0.251603). Check your callbacks.\n",
      "1256/1563 [=======================>......] - ETA: 1:06 - loss: 0.7081 - accuracy: 0.7587WARNING:tensorflow:Method (on_train_batch_end) is slow compared to the batch update (0.233503). Check your callbacks.\n",
      "1382/1563 [=========================>....] - ETA: 38s - loss: 0.7083 - accuracy: 0.7582 - ETA: 39s - loss: 0.7087 - accuracy: 0.758 - ETA: 39s - loss: 0.7088 - accuracyWARNING:tensorflow:Method (on_train_batch_end) is slow compared to the batch update (0.139947). Check your callbacks.\n",
      "1383/1563 [=========================>....] - ETA: 37s - loss: 0.7084 - accuracy: 0.7582WARNING:tensorflow:Method (on_train_batch_end) is slow compared to the batch update (0.139947). Check your callbacks.\n",
      "1559/1563 [============================>.] - ETA: 0s - loss: 0.7083 - accuracy: 0.7580 - ETA: 35s - loss: 0.7085 - accuracy: 0. -  - ETA: 3s - loss: 0.7075  - ETA: 1s - loss: 0.7080 - accuracy: 0.75 - ETA: 1s - loss: 0.7079 - accuracy: 0.75 - ETA: 1s - loss: 0.7081 - accuracy: 0.75 - ETA: 1s - loss: 0.7082 - accuracy: 0.75 - ETA: 1s - loss: 0.7082 - accuracy: 0.75WARNING:tensorflow:Method (on_train_batch_end) is slow compared to the batch update (0.245851). Check your callbacks.\n",
      "1560/1563 [============================>.] - ETA: 0s - loss: 0.7083 - accuracy: 0.7580WARNING:tensorflow:Method (on_train_batch_end) is slow compared to the batch update (0.245851). Check your callbacks.\n",
      "1561/1563 [============================>.] - ETA: 0s - loss: 0.7084 - accuracy: 0.7580WARNING:tensorflow:Method (on_train_batch_end) is slow compared to the batch update (0.245851). Check your callbacks.\n",
      "1562/1563 [============================>.] - ETA: 0s - loss: 0.7082 - accuracy: 0.7581WARNING:tensorflow:Method (on_train_batch_end) is slow compared to the batch update (0.245851). Check your callbacks.\n",
      "1563/1563 [==============================] - 322s 206ms/step - loss: 0.7081 - accuracy: 0.7581\n",
      "Epoch 33/50\n",
      "  71/1563 [>.............................] - ETA: 5:25 - loss: 0.6401 - accuracy: 0.7870 - ETA: 5:01 - loss: 0.6531  - ETA: 5:18 - loss: 0.6408 - accuracy: 0.WARNING:tensorflow:Method (on_train_batch_end) is slow compared to the batch update (0.130998). Check your callbacks.\n",
      "  74/1563 [>.............................] - ETA: 5:32 - loss: 0.6490 - accuracy: 0.7812WARNING:tensorflow:Method (on_train_batch_end) is slow compared to the batch update (0.138984). Check your callbacks.\n",
      "  75/1563 [>.............................] - ETA: 5:29 - loss: 0.6517 - accuracy: 0.7796WARNING:tensorflow:Method (on_train_batch_end) is slow compared to the batch update (0.130998). Check your callbacks.\n",
      "  76/1563 [>.............................] - ETA: 5:27 - loss: 0.6510 - accuracy: 0.7804WARNING:tensorflow:Method (on_train_batch_end) is slow compared to the batch update (0.120899). Check your callbacks.\n",
      " 129/1563 [=>............................] - ETA: 4:54 - loss: 0.6711 - accuracy: 0.7718WARNING:tensorflow:Method (on_train_batch_end) is slow compared to the batch update (0.148492). Check your callbacks.\n",
      " 130/1563 [=>............................] - ETA: 4:53 - loss: 0.6707 - accuracy: 0.7719WARNING:tensorflow:Method (on_train_batch_end) is slow compared to the batch update (0.130485). Check your callbacks.\n",
      " 131/1563 [=>............................] - ETA: 4:51 - loss: 0.6707 - accuracy: 0.7715WARNING:tensorflow:Method (on_train_batch_end) is slow compared to the batch update (0.125507). Check your callbacks.\n",
      " 686/1563 [============>.................] - ETA: 2:23 - loss: 0.6759 - accuracy: 0.7732 ETA: 2:24 - loss: 0.6758 - accuracy - ETA: 2:25 - los - ETA: 2:22 - loss: 0.6757 - accuracy: 0. - ETA: 2:22 - loss: 0.6754 WARNING:tensorflow:Method (on_train_batch_end) is slow compared to the batch update (0.139509). Check your callbacks.\n",
      " 759/1563 [=============>................] - ETA: 2:16 - loss: 0.6769 - accuracy: 0.7738 ETA: 2:12 - loss: 0.6770 - accuracy: 0. - ETA: 2:13 - loss: 0.6776 - accuracy: 0. - ETA: 2:15 - loss: 0.6773 - accuracy: 0.77 - ETA: 2:15 - loss: 0.6771 - accuWARNING:tensorflow:Method (on_train_batch_end) is slow compared to the batch update (0.187511). Check your callbacks.\n",
      " 760/1563 [=============>................] - ETA: 2:16 - loss: 0.6770 - accuracy: 0.7736WARNING:tensorflow:Method (on_train_batch_end) is slow compared to the batch update (0.101023). Check your callbacks.\n",
      " 833/1563 [==============>...............] - ETA: 2:04 - loss: 0.6790 - accuracy: 0.7717 ETA: 2:04 - loss: 0.6794 - accuracy: 0.WARNING:tensorflow:Method (on_train_batch_end) is slow compared to the batch update (0.135859). Check your callbacks.\n",
      " 834/1563 [===============>..............] - ETA: 2:03 - loss: 0.6789 - accuracy: 0.7718WARNING:tensorflow:Method (on_train_batch_end) is slow compared to the batch update (0.135859). Check your callbacks.\n",
      " 835/1563 [===============>..............] - ETA: 2:03 - loss: 0.6788 - accuracy: 0.7718WARNING:tensorflow:Method (on_train_batch_end) is slow compared to the batch update (0.105998). Check your callbacks.\n",
      " 871/1563 [===============>..............] - ETA: 2:00 - loss: 0.6782 - accuracy: 0.7727 ETA: 2:00 - loss: 0.6784 - accu - ETA: 1:59 - loss: 0.6WARNING:tensorflow:Method (on_train_batch_end) is slow compared to the batch update (0.132508). Check your callbacks.\n",
      "1450/1563 [==========================>...] - ETA: 19s - loss: 0.6841 - accuracy: 0.7684  ETA: 1:1 - ETA: 48s - loss: 0.6828 - accuracy:  - ETA: 47s - loss: 0.6828 - accurac - ETA: 45s - loss: 0.6826 - accuracy: 0.7 - ETA: 45s - lo - ETA: 40s - loss: 0.6840 - accuracy: 0.7 - ETA: 40s - loss: 0.6843 - accuracy:  - ETA: 31s - loss: 0.6830 - ac - ETA: 29s - loss: 0.6827 - accuracy: 0.769 - ETA: 28s - loss: 0.6827 - accuracy: 0.76 - ETA: 28s - lo - ETA: 23s - loss: 0.6834 - accuracy: 0.76 - ETA: 23s - loss: WARNING:tensorflow:Method (on_train_batch_end) is slow compared to the batch update (0.120988). Check your callbacks.\n"
     ]
    },
    {
     "name": "stdout",
     "output_type": "stream",
     "text": [
      "1451/1563 [==========================>...] - ETA: 19s - loss: 0.6842 - accuracy: 0.7684WARNING:tensorflow:Method (on_train_batch_end) is slow compared to the batch update (0.113493). Check your callbacks.\n",
      "1452/1563 [==========================>...] - ETA: 19s - loss: 0.6841 - accuracy: 0.7685WARNING:tensorflow:Method (on_train_batch_end) is slow compared to the batch update (0.113493). Check your callbacks.\n",
      "1453/1563 [==========================>...] - ETA: 18s - loss: 0.6840 - accuracy: 0.7685WARNING:tensorflow:Method (on_train_batch_end) is slow compared to the batch update (0.102009). Check your callbacks.\n",
      "1563/1563 [==============================] - 263s 168ms/step - loss: 0.6860 - accuracy: 0.7671\n",
      "Epoch 34/50\n",
      "  13/1563 [..............................] - ETA: 8:33 - loss: 0.6822 - accuracy: 0.7380WARNING:tensorflow:Method (on_train_batch_end) is slow compared to the batch update (0.119483). Check your callbacks.\n",
      "  14/1563 [..............................] - ETA: 8:06 - loss: 0.6654 - accuracy: 0.7478WARNING:tensorflow:Method (on_train_batch_end) is slow compared to the batch update (0.100995). Check your callbacks.\n",
      " 138/1563 [=>............................] - ETA: 4:46 - loss: 0.6723 - accuracy: 0.7738WARNING:tensorflow:Method (on_train_batch_end) is slow compared to the batch update (0.112498). Check your callbacks.\n",
      " 147/1563 [=>............................] - ETA: 4:55 - loss: 0.6682 - accuracy: 0.7742WARNING:tensorflow:Method (on_train_batch_end) is slow compared to the batch update (0.104494). Check your callbacks.\n",
      " 366/1563 [======>.......................] - ETA: 3:05 - loss: 0.6573 - accuracy: 0.7802 ETA: 2:59 - l - ETA: 3:04 - loss: 0.6585 - accuracy: 0.WARNING:tensorflow:Method (on_train_batch_end) is slow compared to the batch update (0.106923). Check your callbacks.\n",
      " 661/1563 [===========>..................] - ETA: 2:20 - loss: 0.6608 - accuracy: 0.7764 ETA: 2:16 - loss: 0.6617 -  - ETA: 2:18 - loss: 0.6608 - accuracy: 0.77 - ETA: 2:19 - loss: 0.6611 - accuracy: 0.77WARNING:tensorflow:Method (on_train_batch_end) is slow compared to the batch update (0.147504). Check your callbacks.\n",
      " 750/1563 [=============>................] - ETA: 2:12 - loss: 0.6570 - accuracy: 0.7782 ETA: 2:11 - loss: 0.6590 - accuracy: 0.77 - ETA: 2:11 - loss: 0.6589 - accuracy - ETA: 2:11 - loss: 0.6579 - accuWARNING:tensorflow:Method (on_train_batch_end) is slow compared to the batch update (0.175029). Check your callbacks.\n",
      " 751/1563 [=============>................] - ETA: 2:12 - loss: 0.6567 - accuracy: 0.7783WARNING:tensorflow:Method (on_train_batch_end) is slow compared to the batch update (0.175029). Check your callbacks.\n",
      " 752/1563 [=============>................] - ETA: 2:12 - loss: 0.6566 - accuracy: 0.7784WARNING:tensorflow:Method (on_train_batch_end) is slow compared to the batch update (0.175029). Check your callbacks.\n",
      " 753/1563 [=============>................] - ETA: 2:12 - loss: 0.6563 - accuracy: 0.7785WARNING:tensorflow:Method (on_train_batch_end) is slow compared to the batch update (0.115524). Check your callbacks.\n",
      " 936/1563 [================>.............] - ETA: 1:43 - loss: 0.6576 - accuracy: 0.7784 ETA - ETA: 1:53 - loss: - ETA: 1:46 - - ETA: 1:43 - losWARNING:tensorflow:Method (on_train_batch_end) is slow compared to the batch update (0.131506). Check your callbacks.\n",
      " 937/1563 [================>.............] - ETA: 1:43 - loss: 0.6576 - accuracy: 0.7784WARNING:tensorflow:Method (on_train_batch_end) is slow compared to the batch update (0.131506). Check your callbacks.\n",
      " 938/1563 [=================>............] - ETA: 1:43 - loss: 0.6575 - accuracy: 0.7785WARNING:tensorflow:Method (on_train_batch_end) is slow compared to the batch update (0.129507). Check your callbacks.\n",
      "1081/1563 [===================>..........] - ETA: 1:20 - loss: 0.6572 - accuracy: 0.7776 ETA: 1:20 - loss: 0.6570 - accuracy: 0.WARNING:tensorflow:Method (on_train_batch_end) is slow compared to the batch update (0.181026). Check your callbacks.\n",
      "1082/1563 [===================>..........] - ETA: 1:20 - loss: 0.6571 - accuracy: 0.7776WARNING:tensorflow:Method (on_train_batch_end) is slow compared to the batch update (0.175507). Check your callbacks.\n",
      "1092/1563 [===================>..........] - ETA: 1:21 - loss: 0.6564 - accuracy: 0.7777 ETA: 1:21 - loss: 0.6571 - accuracy: 0.77 - ETA: 1:21 - loss: 0.6569 - accuracy: 0.77 - ETA: 1:22 - loss: 0.6568 - accuracyWARNING:tensorflow:Method (on_train_batch_end) is slow compared to the batch update (0.206003). Check your callbacks.\n",
      "1563/1563 [==============================] - 271s 173ms/step - loss: 0.6601 - accuracy: 0.775436s - los - ETA: 31s - loss: 0.6579 - accuracy: 0.776 - ETA: - ETA: 24s - loss: 0.6 -\n",
      "Epoch 35/50\n",
      "  89/1563 [>.............................] - ETA: 4:55 - loss: 0.6138 - accuracy: 0.7918WARNING:tensorflow:Method (on_train_batch_end) is slow compared to the batch update (0.103470). Check your callbacks.\n",
      "  90/1563 [>.............................] - ETA: 4:53 - loss: 0.6131 - accuracy: 0.7924WARNING:tensorflow:Method (on_train_batch_end) is slow compared to the batch update (0.103470). Check your callbacks.\n",
      " 215/1563 [===>..........................] - ETA: 4:09 - loss: 0.6217 - accuracy: 0.7910 ETA: 4:00 - loss: 0.6201 - accuraWARNING:tensorflow:Method (on_train_batch_end) is slow compared to the batch update (0.147736). Check your callbacks.\n",
      " 216/1563 [===>..........................] - ETA: 4:09 - loss: 0.6215 - accuracy: 0.7915WARNING:tensorflow:Method (on_train_batch_end) is slow compared to the batch update (0.147736). Check your callbacks.\n",
      " 217/1563 [===>..........................] - ETA: 4:08 - loss: 0.6213 - accuracy: 0.7915WARNING:tensorflow:Method (on_train_batch_end) is slow compared to the batch update (0.120723). Check your callbacks.\n",
      " 404/1563 [======>.......................] - ETA: 3:07 - loss: 0.6210 - accuracy: 0.7921WARNING:tensorflow:Method (on_train_batch_end) is slow compared to the batch update (0.120503). Check your callbacks.\n",
      " 416/1563 [======>.......................] - ETA: 3:12 - loss: 0.6217 - accuracy: 0.7924 ETA: 3:09 - loss: 0.6214 - accuraWARNING:tensorflow:Method (on_train_batch_end) is slow compared to the batch update (0.204696). Check your callbacks.\n",
      " 418/1563 [=======>......................] - ETA: 3:15 - loss: 0.6220 - accuracy: 0.7928WARNING:tensorflow:Method (on_train_batch_end) is slow compared to the batch update (0.213463). Check your callbacks.\n",
      " 419/1563 [=======>......................] - ETA: 3:14 - loss: 0.6216 - accuracy: 0.7928WARNING:tensorflow:Method (on_train_batch_end) is slow compared to the batch update (0.213463). Check your callbacks.\n",
      " 420/1563 [=======>......................] - ETA: 3:14 - loss: 0.6218 - accuracy: 0.7925WARNING:tensorflow:Method (on_train_batch_end) is slow compared to the batch update (0.204696). Check your callbacks.\n",
      " 421/1563 [=======>......................] - ETA: 3:14 - loss: 0.6215 - accuracy: 0.7927WARNING:tensorflow:Method (on_train_batch_end) is slow compared to the batch update (0.170786). Check your callbacks.\n",
      " 482/1563 [========>.....................] - ETA: 3:05 - loss: 0.6221 - accuracy: 0.7914 ETA: 3:WARNING:tensorflow:Method (on_train_batch_end) is slow compared to the batch update (0.106977). Check your callbacks.\n",
      " 613/1563 [==========>...................] - ETA: 2:30 - loss: 0.6210 - accuracy: 0.7916 E - ETA: 2: - ETA: 2:32 - loss: - ETA: 2:30 - loss: 0.6196 - accuracy:  - ETA: 2:30 - loss: 0.6200 - accuWARNING:tensorflow:Method (on_train_batch_end) is slow compared to the batch update (0.115514). Check your callbacks.\n",
      " 617/1563 [==========>...................] - ETA: 2:30 - loss: 0.6212 - accuracy: 0.7914WARNING:tensorflow:Method (on_train_batch_end) is slow compared to the batch update (0.102003). Check your callbacks.\n",
      " 659/1563 [===========>..................] - ETA: 2:25 - loss: 0.6220 - accuracy: 0.7912 ETA: 2:29 - loss: 0.6210 - accuracy:  - ETA: 2:29 - loss: 0.6218 - ac - ETA: 2:27 - loss: 0.6218 - accuracy: 0.79 - ETA: 2:27 - los - ETA: 2:23 - loss: 0.6210 - accuracy:  - ETA: 2:23 - loss: 0.6210 - accuracy: 0. - ETA: 2:23 - loss: 0.621WARNING:tensorflow:Method (on_train_batch_end) is slow compared to the batch update (0.108006). Check your callbacks.\n"
     ]
    },
    {
     "name": "stdout",
     "output_type": "stream",
     "text": [
      " 660/1563 [===========>..................] - ETA: 2:25 - loss: 0.6226 - accuracy: 0.7910WARNING:tensorflow:Method (on_train_batch_end) is slow compared to the batch update (0.108006). Check your callbacks.\n",
      " 825/1563 [==============>...............] - ETA: 1:58 - loss: 0.6223 - accuracy: 0.7920 ETA: 2: - ETA: 2:02 - loss: 0.6242 - accuracy: 0.79 - ETA: 2: - ETA: 1:58 - loss: 0.6229 - accuracy: 0. - ETA: 1:58 - loss: 0.6223 - accuracy: 0.WARNING:tensorflow:Method (on_train_batch_end) is slow compared to the batch update (0.117507). Check your callbacks.\n",
      " 826/1563 [==============>...............] - ETA: 1:58 - loss: 0.6224 - accuracy: 0.7919WARNING:tensorflow:Method (on_train_batch_end) is slow compared to the batch update (0.117507). Check your callbacks.\n",
      " 827/1563 [==============>...............] - ETA: 1:58 - loss: 0.6223 - accuracy: 0.7920WARNING:tensorflow:Method (on_train_batch_end) is slow compared to the batch update (0.117507). Check your callbacks.\n",
      "1282/1563 [=======================>......] - ETA: 41s - loss: 0.6319 - accuracy: 0.7870  ETA: 1:03 - ETA: 1:01 - loss: 0.6278 - accu - ETA: 41s - loss: 0.6321 - accuracy:WARNING:tensorflow:Method (on_train_batch_end) is slow compared to the batch update (0.100003). Check your callbacks.\n",
      "1296/1563 [=======================>......] - ETA: 40s - loss: 0.6324 - accuracy: 0.7866- ETA: 40s - loss: 0.6325 - accuracy: 0.78 - ETA: 40s - loss: 0.6324 - accuracWARNING:tensorflow:Method (on_train_batch_end) is slow compared to the batch update (0.173006). Check your callbacks.\n",
      "1563/1563 [==============================] - 232s 149ms/step - loss: 0.6389 - accuracy: 0.784036s - loss: 0.6329 - accuracy: - ETA: 35s - loss: - ETA: - ETA: 25s - loss: 0.6331 - a - ETA: 6s - loss: 0.6355 - accuracy - ETA: 5s - loss: 0.6355 - accu - ETA: 4s - loss: 0\n",
      "Epoch 36/50\n",
      " 148/1563 [=>............................] - ETA: 3:30 - loss: 0.5602 - accuracy: 0.8165 ETA: 3:09 - loss: - ETA: 3:14 - loss: 0.5562 - accuracyWARNING:tensorflow:Method (on_train_batch_end) is slow compared to the batch update (0.118717). Check your callbacks.\n",
      " 149/1563 [=>............................] - ETA: 3:30 - loss: 0.5594 - accuracy: 0.8167WARNING:tensorflow:Method (on_train_batch_end) is slow compared to the batch update (0.118717). Check your callbacks.\n",
      " 150/1563 [=>............................] - ETA: 3:29 - loss: 0.5593 - accuracy: 0.8171WARNING:tensorflow:Method (on_train_batch_end) is slow compared to the batch update (0.118717). Check your callbacks.\n",
      " 277/1563 [====>.........................] - ETA: 3:29 - loss: 0.5816 - accuracy: 0.8076 ETA: 3:00 - loss: 0.5767 - accura - ETA: 3:04 - losWARNING:tensorflow:Method (on_train_batch_end) is slow compared to the batch update (0.176496). Check your callbacks.\n",
      " 281/1563 [====>.........................] - ETA: 3:34 - loss: 0.5810 - accuracy: 0.8075WARNING:tensorflow:Method (on_train_batch_end) is slow compared to the batch update (0.166330). Check your callbacks.\n",
      " 284/1563 [====>.........................] - ETA: 3:35 - loss: 0.5807 - accuracy: 0.8075WARNING:tensorflow:Method (on_train_batch_end) is slow compared to the batch update (0.134510). Check your callbacks.\n",
      " 328/1563 [=====>........................] - ETA: 3:42 - loss: 0.5796 - accuracy: 0.8071WARNING:tensorflow:Method (on_train_batch_end) is slow compared to the batch update (0.111493). Check your callbacks.\n",
      " 329/1563 [=====>........................] - ETA: 3:42 - loss: 0.5798 - accuracy: 0.8070WARNING:tensorflow:Method (on_train_batch_end) is slow compared to the batch update (0.111493). Check your callbacks.\n",
      " 390/1563 [======>.......................] - ETA: 3:21 - loss: 0.5801 - accuracy: 0.8074WARNING:tensorflow:Method (on_train_batch_end) is slow compared to the batch update (0.112872). Check your callbacks.\n",
      " 394/1563 [======>.......................] - ETA: 3:23 - loss: 0.5803 - accuracy: 0.8073WARNING:tensorflow:Method (on_train_batch_end) is slow compared to the batch update (0.112872). Check your callbacks.\n",
      " 635/1563 [===========>..................] - ETA: 2:32 - loss: 0.5841 - accuracy: 0.8061 ETA - ETA: 2:31 - loss: 0.5846 - accuracy: 0. - ETA: 2:31 - loss: 0.5847 - WARNING:tensorflow:Method (on_train_batch_end) is slow compared to the batch update (0.106499). Check your callbacks.\n",
      " 636/1563 [===========>..................] - ETA: 2:32 - loss: 0.5845 - accuracy: 0.8058WARNING:tensorflow:Method (on_train_batch_end) is slow compared to the batch update (0.106499). Check your callbacks.\n",
      "1460/1563 [===========================>..] - ETA: 15s - loss: 0.6086 - accuracy: 0.7962  E - E - ETA: 1 - ETA: 55s - loss: 0.6043 - ac - ETA: 45s - loss:  - ETA: 15s - loss: 0.6084 - accuracy: 0.7963WARNING:tensorflow:Method (on_train_batch_end) is slow compared to the batch update (0.117497). Check your callbacks.\n",
      "1563/1563 [==============================] - 234s 150ms/step - loss: 0.6104 - accuracy: 0.7950\n",
      "Epoch 37/50\n",
      "  29/1563 [..............................] - ETA: 8:21 - loss: 0.4982 - accuracy: 0.8308 ETA: 7:40 - loss: 0.4652 - accura - ETA: 7:10 - losWARNING:tensorflow:Method (on_train_batch_end) is slow compared to the batch update (0.139046). Check your callbacks.\n",
      " 177/1563 [==>...........................] - ETA: 5:16 - loss: 0.5515 - accuracy: 0.8169 ETA: 5:12 - loss: 0.5496 - accuracy: WARNING:tensorflow:Method (on_train_batch_end) is slow compared to the batch update (0.156895). Check your callbacks.\n",
      " 182/1563 [==>...........................] - ETA: 5:30 - loss: 0.5542 - accuracy: 0.8154WARNING:tensorflow:Method (on_train_batch_end) is slow compared to the batch update (0.169014). Check your callbacks.\n",
      " 183/1563 [==>...........................] - ETA: 5:29 - loss: 0.5543 - accuracy: 0.8152WARNING:tensorflow:Method (on_train_batch_end) is slow compared to the batch update (0.169014). Check your callbacks.\n",
      " 184/1563 [==>...........................] - ETA: 5:27 - loss: 0.5552 - accuracy: 0.8152WARNING:tensorflow:Method (on_train_batch_end) is slow compared to the batch update (0.165990). Check your callbacks.\n",
      " 295/1563 [====>.........................] - ETA: 4:36 - loss: 0.5701 - accuracy: 0.8113 ETA: 4:25 - loss: 0.5676 - accuracy - ETA: 4:33 - loss: 0.5695 - accuracy: 0.WARNING:tensorflow:Method (on_train_batch_end) is slow compared to the batch update (0.186123). Check your callbacks.\n",
      " 296/1563 [====>.........................] - ETA: 4:36 - loss: 0.5696 - accuracy: 0.8117WARNING:tensorflow:Method (on_train_batch_end) is slow compared to the batch update (0.186123). Check your callbacks.\n",
      " 297/1563 [====>.........................] - ETA: 4:35 - loss: 0.5692 - accuracy: 0.8119WARNING:tensorflow:Method (on_train_batch_end) is slow compared to the batch update (0.156143). Check your callbacks.\n",
      " 345/1563 [=====>........................] - ETA: 4:51 - loss: 0.5711 - accuracy: 0.8105 - ETA: 4:31 - l - ETA: 4:30 - loss: 0.5724 - accuracy: 0.81 - ETA: 4:32 - loss: 0.5719 - accuracy: 0.81 - ETA: 4:37 - loss: 0.5715 - accuracy: 0. - ETA: 4:42 - loss: 0.5714 - accuracy: 0. - ETA: 4:49 - loss: 0.5715 - accuracy: 0.WARNING:tensorflow:Method (on_train_batch_end) is slow compared to the batch update (0.328728). Check your callbacks.\n",
      " 346/1563 [=====>........................] - ETA: 4:51 - loss: 0.5702 - accuracy: 0.8108WARNING:tensorflow:Method (on_train_batch_end) is slow compared to the batch update (0.233726). Check your callbacks.\n",
      " 373/1563 [======>.......................] - ETA: 5:03 - loss: 0.5697 - accuracy: 0.8114 ETA: 4:54 - loss: 0.5710 - accuracy: 0.81 - ETA: 4:55 - loss: 0.5711 - accu - ETA: 4:57 - loss: 0.5700 - accu - ETA: 5:03 - loss: 0.5691 - accuracy: 0.8116WARNING:tensorflow:Method (on_train_batch_end) is slow compared to the batch update (0.181515). Check your callbacks.\n",
      " 376/1563 [======>.......................] - ETA: 5:07 - loss: 0.5698 - accuracy: 0.8114WARNING:tensorflow:Method (on_train_batch_end) is slow compared to the batch update (0.185526). Check your callbacks.\n",
      " 377/1563 [======>.......................] - ETA: 5:06 - loss: 0.5701 - accuracy: 0.8113WARNING:tensorflow:Method (on_train_batch_end) is slow compared to the batch update (0.180013). Check your callbacks.\n"
     ]
    },
    {
     "name": "stdout",
     "output_type": "stream",
     "text": [
      " 378/1563 [======>.......................] - ETA: 5:05 - loss: 0.5695 - accuracy: 0.8116WARNING:tensorflow:Method (on_train_batch_end) is slow compared to the batch update (0.169016). Check your callbacks.\n",
      " 379/1563 [======>.......................] - ETA: 5:04 - loss: 0.5689 - accuracy: 0.8118WARNING:tensorflow:Method (on_train_batch_end) is slow compared to the batch update (0.169016). Check your callbacks.\n",
      " 537/1563 [=========>....................] - ETA: 3:47 - loss: 0.5735 - accuracy: 0.8082 EWARNING:tensorflow:Method (on_train_batch_end) is slow compared to the batch update (0.130021). Check your callbacks.\n",
      " 538/1563 [=========>....................] - ETA: 3:46 - loss: 0.5735 - accuracy: 0.8083WARNING:tensorflow:Method (on_train_batch_end) is slow compared to the batch update (0.114001). Check your callbacks.\n",
      " 539/1563 [=========>....................] - ETA: 3:46 - loss: 0.5735 - accuracy: 0.8083WARNING:tensorflow:Method (on_train_batch_end) is slow compared to the batch update (0.114001). Check your callbacks.\n",
      "1563/1563 [==============================] - 255s 163ms/step - loss: 0.5873 - accuracy: 0.80141:00 - loss: 0.5824 - a - ETA: 57s - loss: 0.5819 - accuracy: 0.803 - ETA: 5 - ETA: 50s - loss: 0.581 - ETA: 46s - loss: 0. - ETA: 42s - loss: 0.5819 - - ETA: 23s - loss: 0.5855 - - ETA: 20s - loss: 0.5865  - ETA: 17s - l - ETA: 12s - loss: 0.5863 - accuracy: 0.80 - ETA: 12s - loss: 0.5863 - accuracy: 0.8 - ETA: 11s - loss: 0.5864 - accuracy - ETA: 10s - loss: - ETA: 7s - loss: - ETA: 5s - los\n",
      "Epoch 38/50\n",
      "  78/1563 [>.............................] - ETA: 3:30 - loss: 0.5407 - accuracy: 0.8277WARNING:tensorflow:Method (on_train_batch_end) is slow compared to the batch update (0.126317). Check your callbacks.\n",
      " 214/1563 [===>..........................] - ETA: 3:01 - loss: 0.5463 - accuracy: 0.8237WARNING:tensorflow:Method (on_train_batch_end) is slow compared to the batch update (0.105500). Check your callbacks.\n",
      " 506/1563 [========>.....................] - ETA: 2:23 - loss: 0.5472 - accuracy: 0.8220 ETA: 2:14 - loss: 0.5470 - accura - ETA: 2:15 - loss: 0.5464 - ac - ETA: 2:16 - loss: 0.5482 - accuracy: 0.82 - ETA: 2:16 - loss: 0.5481 - accuracy: 0. - ETA: 2:16 - loss: 0.5475 - accuracy: 0. - ETA: 2:16 - los - ETA: 2:19 - loss: 0.5471 - accuracy: 0. - ETA: 2:22 - loss: 0.5470 - accuracy: 0.WARNING:tensorflow:Method (on_train_batch_end) is slow compared to the batch update (0.144989). Check your callbacks.\n",
      " 507/1563 [========>.....................] - ETA: 2:23 - loss: 0.5471 - accuracy: 0.8221WARNING:tensorflow:Method (on_train_batch_end) is slow compared to the batch update (0.144989). Check your callbacks.\n",
      " 566/1563 [=========>....................] - ETA: 2:19 - loss: 0.5468 - accuracy: 0.8221 ETA: 2:19 - loss: 0.5476 - ac - ETA: 2:18 - losWARNING:tensorflow:Method (on_train_batch_end) is slow compared to the batch update (0.106008). Check your callbacks.\n",
      " 567/1563 [=========>....................] - ETA: 2:19 - loss: 0.5470 - accuracy: 0.8221WARNING:tensorflow:Method (on_train_batch_end) is slow compared to the batch update (0.106008). Check your callbacks.\n",
      "1130/1563 [====================>.........] - ETA: 58s - loss: 0.5586 - accuracy: 0.8156  ETA: 1:02 - l - ETA: 1:00 - loss: 0.5580 - accuracy:  - ETA: 59s - loss: 0.WARNING:tensorflow:Method (on_train_batch_end) is slow compared to the batch update (0.103981). Check your callbacks.\n",
      "1131/1563 [====================>.........] - ETA: 57s - loss: 0.5584 - accuracy: 0.8157WARNING:tensorflow:Method (on_train_batch_end) is slow compared to the batch update (0.103981). Check your callbacks.\n",
      "1563/1563 [==============================] - 208s 133ms/step - loss: 0.5656 - accuracy: 0.812126s - loss: - ETA: 22s - loss: 0.5610 - accura - ETA: 2 - ETA: 7s - ETA: 2s - loss: 0.5653 - accuracy: 0.81 - ETA: \n",
      "Epoch 39/50\n",
      " 288/1563 [====>.........................] - ETA: 2:47 - loss: 0.5356 - accuracy: 0.8249WARNING:tensorflow:Method (on_train_batch_end) is slow compared to the batch update (0.106494). Check your callbacks.\n",
      " 289/1563 [====>.........................] - ETA: 2:47 - loss: 0.5347 - accuracy: 0.8252WARNING:tensorflow:Method (on_train_batch_end) is slow compared to the batch update (0.106494). Check your callbacks.\n",
      " 912/1563 [================>.............] - ETA: 1:29 - loss: 0.5362 - accuracy: 0.8219 ETA: 1:35 - loss: 0.5350  - ETA: 1:30 - loss: 0.5367 -  - ETA: 1:30 - loss: 0.5364 - accuracy: 0. - ETA: 1:30 - loss: 0.5366 -  - ETA: 1:29 - loss: 0.5369 - ac - ETA: 1:29 - loss: 0.5361 - accuracy: 0.8219WARNING:tensorflow:Method (on_train_batch_end) is slow compared to the batch update (0.115501). Check your callbacks.\n",
      " 913/1563 [================>.............] - ETA: 1:29 - loss: 0.5362 - accuracy: 0.8219WARNING:tensorflow:Method (on_train_batch_end) is slow compared to the batch update (0.115501). Check your callbacks.\n",
      " 914/1563 [================>.............] - ETA: 1:29 - loss: 0.5362 - accuracy: 0.8218WARNING:tensorflow:Method (on_train_batch_end) is slow compared to the batch update (0.115501). Check your callbacks.\n",
      " 915/1563 [================>.............] - ETA: 1:29 - loss: 0.5362 - accuracy: 0.8218WARNING:tensorflow:Method (on_train_batch_end) is slow compared to the batch update (0.115501). Check your callbacks.\n",
      "1030/1563 [==================>...........] - ETA: 1:14 - loss: 0.5417 - accuracy: 0.8193 ETA: 1:27 - - ETA: 1:14 - loss: 0.541 - ETA: 1:14 - loss: 0.5419  - ETA: 1:14 - loss: 0.5419 - accuracy: WARNING:tensorflow:Method (on_train_batch_end) is slow compared to the batch update (0.147991). Check your callbacks.\n",
      "1031/1563 [==================>...........] - ETA: 1:14 - loss: 0.5417 - accuracy: 0.8192WARNING:tensorflow:Method (on_train_batch_end) is slow compared to the batch update (0.147991). Check your callbacks.\n",
      "1032/1563 [==================>...........] - ETA: 1:14 - loss: 0.5417 - accuracy: 0.8193WARNING:tensorflow:Method (on_train_batch_end) is slow compared to the batch update (0.147991). Check your callbacks.\n",
      "1033/1563 [==================>...........] - ETA: 1:14 - loss: 0.5417 - accuracy: 0.8192WARNING:tensorflow:Method (on_train_batch_end) is slow compared to the batch update (0.114459). Check your callbacks.\n",
      "1060/1563 [===================>..........] - ETA: 1:12 - loss: 0.5414 - accuracy: 0.8193 ETA: 1:12 - loss: 0.5412 - accuracyWARNING:tensorflow:Method (on_train_batch_end) is slow compared to the batch update (0.138864). Check your callbacks.\n",
      "1082/1563 [===================>..........] - ETA: 1:13 - loss: 0.5414 - accuracy: 0.8193 ETA: 1:12 - loss: 0.5413 - accuracy: 0. - ETA: 1:12 - loss: 0.5414 - accuracy:  - ETA: 1:12 - loss: 0.5417 - accuracy: 0.81 - ETA: 1:13 - loss: 0.5416 - accuracy: 0. - ETA: 1:13 - loss: 0.5414 - accuracy: 0.8193WARNING:tensorflow:Method (on_train_batch_end) is slow compared to the batch update (0.326988). Check your callbacks.\n",
      "1084/1563 [===================>..........] - ETA: 1:13 - loss: 0.5414 - accuracy: 0.8192WARNING:tensorflow:Method (on_train_batch_end) is slow compared to the batch update (0.282499). Check your callbacks.\n",
      "1085/1563 [===================>..........] - ETA: 1:13 - loss: 0.5414 - accuracy: 0.8193WARNING:tensorflow:Method (on_train_batch_end) is slow compared to the batch update (0.282499). Check your callbacks.\n",
      "1086/1563 [===================>..........] - ETA: 1:13 - loss: 0.5414 - accuracy: 0.8193WARNING:tensorflow:Method (on_train_batch_end) is slow compared to the batch update (0.221012). Check your callbacks.\n",
      "1087/1563 [===================>..........] - ETA: 1:12 - loss: 0.5413 - accuracy: 0.8193WARNING:tensorflow:Method (on_train_batch_end) is slow compared to the batch update (0.179489). Check your callbacks.\n",
      "1563/1563 [==============================] - 225s 144ms/step - loss: 0.5438 - accuracy: 0.81901: - ETA: 1:09 - los - ETA: 1:03 - loss: 0.5390 - accuracy: 0 - ETA: 50s - loss: 0.5405 - ETA: 48s - loss: 0.5403 - accuracy: 0 - ETA: 47s - loss:  - ETA: 43s - loss: 0.5399 - accuracy: 0.8 - ETA: 43s - ETA: 6s - loss: 0.5439 - accuracy: 0.81 - ETA: 6s - loss: - ETA: 1s - loss: 0.5432 - accuracy: 0.81 - ETA: 1s - loss: 0\n",
      "Epoch 40/50\n"
     ]
    },
    {
     "name": "stdout",
     "output_type": "stream",
     "text": [
      " 862/1563 [===============>..............] - ETA: 1:43 - loss: 0.5077 - accuracy: 0.8319 ETA: 3:21 - loss: 0.5002 - accuracy: 0.83 - ETA: 3:20 - loss: 0.5004 - accuracy:  - ETA: 3:19 - loss: 0.5005 - accura - ETA: 3:17 - E - ETA: 1:42 - loss: 0.5065 - accuracy: 0. - ETA: 1:42 - losWARNING:tensorflow:Method (on_train_batch_end) is slow compared to the batch update (0.106506). Check your callbacks.\n",
      " 863/1563 [===============>..............] - ETA: 1:43 - loss: 0.5079 - accuracy: 0.8318WARNING:tensorflow:Method (on_train_batch_end) is slow compared to the batch update (0.106506). Check your callbacks.\n",
      " 864/1563 [===============>..............] - ETA: 1:43 - loss: 0.5080 - accuracy: 0.8317WARNING:tensorflow:Method (on_train_batch_end) is slow compared to the batch update (0.106506). Check your callbacks.\n",
      " 998/1563 [==================>...........] - ETA: 1:24 - loss: 0.5118 - accuracy: 0.8304WARNING:tensorflow:Method (on_train_batch_end) is slow compared to the batch update (0.118494). Check your callbacks.\n",
      " 999/1563 [==================>...........] - ETA: 1:24 - loss: 0.5117 - accuracy: 0.8305WARNING:tensorflow:Method (on_train_batch_end) is slow compared to the batch update (0.105881). Check your callbacks.\n",
      "1180/1563 [=====================>........] - ETA: 57s - loss: 0.5160 - accuracy: 0.8289  ETA: 1:07 - loss: 0.5138 - accura - ETA: 1:02 - loss: 0.5142 - accuracy:  - ETA: 1:01 - loss: 0.514 - ETA: 1:00 - los - ETA: 57s - loss: 0.5162 - accuracy: 0.828 - ETA: 57s - loss: 0.5163 - accuracy: 0.828 - ETA: 57s - loss: 0.5163 - accuracy: 0.828 - ETA: 57s - loss: 0.5162 - accuracy: 0.828WARNING:tensorflow:Method (on_train_batch_end) is slow compared to the batch update (0.233227). Check your callbacks.\n",
      "1181/1563 [=====================>........] - ETA: 57s - loss: 0.5159 - accuracy: 0.8289WARNING:tensorflow:Method (on_train_batch_end) is slow compared to the batch update (0.233227). Check your callbacks.\n",
      "1183/1563 [=====================>........] - ETA: 56s - loss: 0.5160 - accuracy: 0.8290WARNING:tensorflow:Method (on_train_batch_end) is slow compared to the batch update (0.232989). Check your callbacks.\n",
      "1563/1563 [==============================] - 216s 138ms/step - loss: 0.5229 - accuracy: 0.826132s - loss: 0.5173 - accuracy: 0. - ETA: 31s - loss: 0.5174 - accuracy: 0 - ETA: 30s - l - ETA: 5s - loss: 0.5225 - accuracy: 0. - ETA: 4s - loss: 0.5224 - accuracy: 0. - ETA: 4s - ETA: 2s\n",
      "Epoch 41/50\n",
      "  25/1563 [..............................] - ETA: 7:41 - loss: 0.5096 - accuracy: 0.8400 ETA: 5:29 - lWARNING:tensorflow:Method (on_train_batch_end) is slow compared to the batch update (0.137341). Check your callbacks.\n",
      "  27/1563 [..............................] - ETA: 7:44 - loss: 0.5070 - accuracy: 0.8426WARNING:tensorflow:Method (on_train_batch_end) is slow compared to the batch update (0.137341). Check your callbacks.\n",
      "  31/1563 [..............................] - ETA: 7:59 - loss: 0.5006 - accuracy: 0.8448WARNING:tensorflow:Method (on_train_batch_end) is slow compared to the batch update (0.112020). Check your callbacks.\n",
      "  32/1563 [..............................] - ETA: 7:47 - loss: 0.4995 - accuracy: 0.8447WARNING:tensorflow:Method (on_train_batch_end) is slow compared to the batch update (0.112020). Check your callbacks.\n",
      "  85/1563 [>.............................] - ETA: 6:05 - loss: 0.4677 - accuracy: 0.8507 ETA: 5:08 - loss: 0.4687 - ac - ETA: 5:16 - loss: 0.4703 - accura - ETA: 5:58 - loss: 0.4678 - accuracy: 0.WARNING:tensorflow:Method (on_train_batch_end) is slow compared to the batch update (0.176503). Check your callbacks.\n",
      "  86/1563 [>.............................] - ETA: 6:02 - loss: 0.4687 - accuracy: 0.8507WARNING:tensorflow:Method (on_train_batch_end) is slow compared to the batch update (0.176503). Check your callbacks.\n",
      "  87/1563 [>.............................] - ETA: 6:00 - loss: 0.4670 - accuracy: 0.8517WARNING:tensorflow:Method (on_train_batch_end) is slow compared to the batch update (0.161988). Check your callbacks.\n",
      " 174/1563 [==>...........................] - ETA: 4:49 - loss: 0.4668 - accuracy: 0.8497 ETA:  - ETA: 4:31 - lWARNING:tensorflow:Method (on_train_batch_end) is slow compared to the batch update (0.105856). Check your callbacks.\n",
      " 385/1563 [======>.......................] - ETA: 3:38 - loss: 0.4869 - accuracy: 0.8412 ETA: 3:36 - loss: 0WARNING:tensorflow:Method (on_train_batch_end) is slow compared to the batch update (0.102871). Check your callbacks.\n",
      " 408/1563 [======>.......................] - ETA: 3:56 - loss: 0.4898 - accuracy: 0.8402 ETA: 3:45 - loss: 0.4896 - accuracy:  - ETA: 3:47 - loss: 0.4891 - accuracy - ETA: 3:52 - loss: 0.4890 - accuracy: WARNING:tensorflow:Method (on_train_batch_end) is slow compared to the batch update (0.213988). Check your callbacks.\n",
      " 409/1563 [======>.......................] - ETA: 3:55 - loss: 0.4895 - accuracy: 0.8402WARNING:tensorflow:Method (on_train_batch_end) is slow compared to the batch update (0.197853). Check your callbacks.\n",
      " 410/1563 [======>.......................] - ETA: 3:55 - loss: 0.4893 - accuracy: 0.8403WARNING:tensorflow:Method (on_train_batch_end) is slow compared to the batch update (0.197853). Check your callbacks.\n",
      " 411/1563 [======>.......................] - ETA: 3:55 - loss: 0.4891 - accuracy: 0.8403WARNING:tensorflow:Method (on_train_batch_end) is slow compared to the batch update (0.106357). Check your callbacks.\n",
      " 423/1563 [=======>......................] - ETA: 4:03 - loss: 0.4894 - accuracy: 0.8401 ETA: 3:55 - loss: 0.4886 - accuracy: 0. - ETA: 3:57 - loss: 0.4885 - accuracy: 0.84 - ETA: 3:58 - loss: 0.4890 - accuracyWARNING:tensorflow:Method (on_train_batch_end) is slow compared to the batch update (0.252297). Check your callbacks.\n",
      " 425/1563 [=======>......................] - ETA: 4:04 - loss: 0.4894 - accuracy: 0.8401WARNING:tensorflow:Method (on_train_batch_end) is slow compared to the batch update (0.252297). Check your callbacks.\n",
      " 426/1563 [=======>......................] - ETA: 4:04 - loss: 0.4895 - accuracy: 0.8402WARNING:tensorflow:Method (on_train_batch_end) is slow compared to the batch update (0.215462). Check your callbacks.\n",
      " 427/1563 [=======>......................] - ETA: 4:03 - loss: 0.4893 - accuracy: 0.8402WARNING:tensorflow:Method (on_train_batch_end) is slow compared to the batch update (0.213955). Check your callbacks.\n",
      " 448/1563 [=======>......................] - ETA: 4:03 - loss: 0.4888 - accuracy: 0.8403 ETA: 4:02 - loss: 0.488WARNING:tensorflow:Method (on_train_batch_end) is slow compared to the batch update (0.127030). Check your callbacks.\n",
      " 657/1563 [===========>..................] - ETA: 3:05 - loss: 0.4898 - accuracy: 0.8398 ETA: 3:18 - loss: 0.4912 - accura - ETA: 3:16 - l - ETA: 3:07 - loss: 0.4 - ETA: 3:02 - loss: 0.4894 - accuracy:  - ETA: 3:02 - loss: 0.489 - ETA: 3:02 - loss: 0.4886 - accuracy: 0. - ETA: 3:04 - loss: 0.4890 - accuWARNING:tensorflow:Method (on_train_batch_end) is slow compared to the batch update (0.187721). Check your callbacks.\n",
      " 658/1563 [===========>..................] - ETA: 3:05 - loss: 0.4900 - accuracy: 0.8397WARNING:tensorflow:Method (on_train_batch_end) is slow compared to the batch update (0.173129). Check your callbacks.\n",
      " 659/1563 [===========>..................] - ETA: 3:05 - loss: 0.4903 - accuracy: 0.8396WARNING:tensorflow:Method (on_train_batch_end) is slow compared to the batch update (0.164136). Check your callbacks.\n",
      " 796/1563 [==============>...............] - ETA: 2:37 - loss: 0.4894 - accuracy: 0.8396 ETA: 2:40 - loss: 0 - ETA: 2:36 - loss: 0 - ETA: 2:35 - loss: 0.4894 - accuracy: 0.83 - ETA: 2:36 - loss: 0.4894 - accuracy: 0. - ETA: 2:37 - loss: 0.4895 - accuracy: 0.83WARNING:tensorflow:Method (on_train_batch_end) is slow compared to the batch update (0.191503). Check your callbacks.\n",
      " 797/1563 [==============>...............] - ETA: 2:37 - loss: 0.4892 - accuracy: 0.8397WARNING:tensorflow:Method (on_train_batch_end) is slow compared to the batch update (0.191503). Check your callbacks.\n",
      " 798/1563 [==============>...............] - ETA: 2:36 - loss: 0.4891 - accuracy: 0.8398WARNING:tensorflow:Method (on_train_batch_end) is slow compared to the batch update (0.191503). Check your callbacks.\n"
     ]
    },
    {
     "name": "stdout",
     "output_type": "stream",
     "text": [
      " 800/1563 [==============>...............] - ETA: 2:37 - loss: 0.4901 - accuracy: 0.8394WARNING:tensorflow:Method (on_train_batch_end) is slow compared to the batch update (0.172497). Check your callbacks.\n",
      " 801/1563 [==============>...............] - ETA: 2:36 - loss: 0.4902 - accuracy: 0.8393WARNING:tensorflow:Method (on_train_batch_end) is slow compared to the batch update (0.131455). Check your callbacks.\n",
      " 802/1563 [==============>...............] - ETA: 2:36 - loss: 0.4903 - accuracy: 0.8392WARNING:tensorflow:Method (on_train_batch_end) is slow compared to the batch update (0.121483). Check your callbacks.\n",
      " 911/1563 [================>.............] - ETA: 2:14 - loss: 0.4931 - accuracy: 0.8382 - ETA: 2:20 - loss: 0.4920 - accuracy: 0.83 - ETA: 2:15 - losWARNING:tensorflow:Method (on_train_batch_end) is slow compared to the batch update (0.136326). Check your callbacks.\n",
      " 912/1563 [================>.............] - ETA: 2:13 - loss: 0.4932 - accuracy: 0.8381WARNING:tensorflow:Method (on_train_batch_end) is slow compared to the batch update (0.136326). Check your callbacks.\n",
      " 978/1563 [=================>............] - ETA: 1:57 - loss: 0.4945 - accuracy: 0.8373 ETA: 1:57 - loss: 0.4945 - accuracy:  - ETA: 1:57 - loss: 0.4945 - accuracy: 0. - ETA: 1:57 - loss: 0.4945 - accuracy: 0.83 - ETA: 1:57 - loss: 0.4945 - accuracy: 0.83WARNING:tensorflow:Method (on_train_batch_end) is slow compared to the batch update (0.194811). Check your callbacks.\n",
      " 982/1563 [=================>............] - ETA: 1:57 - loss: 0.4943 - accuracy: 0.8374WARNING:tensorflow:Method (on_train_batch_end) is slow compared to the batch update (0.194811). Check your callbacks.\n",
      " 983/1563 [=================>............] - ETA: 1:57 - loss: 0.4942 - accuracy: 0.8375WARNING:tensorflow:Method (on_train_batch_end) is slow compared to the batch update (0.194811). Check your callbacks.\n",
      "1099/1563 [====================>.........] - ETA: 1:32 - loss: 0.4952 - accuracy: 0.8366WARNING:tensorflow:Method (on_train_batch_end) is slow compared to the batch update (0.101390). Check your callbacks.\n",
      "1381/1563 [=========================>....] - ETA: 33s - loss: 0.4963 - accuracy: 0.8369  ETA: 1:07 - loss: 0.4953 - accuracy:  - ETA: 1:06 - loss: 0.4951 - accuracy: 0. - ETA: 1:06 - loss: 0.4948 - accuracy: 0.83 - ETA: 1:05 - loss: 0.4 - ETA: 57s - loss: 0.4957 - accuracy: 0.83 - ETA: 56s - loss: 0.4956 - accuracy - ETA: 55s - loss: 0.4954 -  - ETA - ETA: 35s - loss: 0.4959 - accuracWARNING:tensorflow:Method (on_train_batch_end) is slow compared to the batch update (0.129228). Check your callbacks.\n",
      "1382/1563 [=========================>....] - ETA: 33s - loss: 0.4963 - accuracy: 0.8369WARNING:tensorflow:Method (on_train_batch_end) is slow compared to the batch update (0.110507). Check your callbacks.\n",
      "1383/1563 [=========================>....] - ETA: 33s - loss: 0.4964 - accuracy: 0.8368WARNING:tensorflow:Method (on_train_batch_end) is slow compared to the batch update (0.100495). Check your callbacks.\n",
      "1563/1563 [==============================] - 276s 177ms/step - loss: 0.4996 - accuracy: 0.8356\n",
      "Epoch 42/50\n",
      " 285/1563 [====>.........................] - ETA: 4:07 - loss: 0.4617 - accuracy: 0.85 - ETA: 4:07 - loss: 0.4610 - accuracy: 0.8554WARNING:tensorflow:Method (on_train_batch_end) is slow compared to the batch update (0.135492). Check your callbacks.\n",
      " 286/1563 [====>.........................] - ETA: 4:07 - loss: 0.4607 - accuracy: 0.8554WARNING:tensorflow:Method (on_train_batch_end) is slow compared to the batch update (0.151527). Check your callbacks.\n",
      " 295/1563 [====>.........................] - ETA: 4:14 - loss: 0.4620 - accuracy: 0.8541WARNING:tensorflow:Method (on_train_batch_end) is slow compared to the batch update (0.143515). Check your callbacks.\n",
      " 296/1563 [====>.........................] - ETA: 4:13 - loss: 0.4625 - accuracy: 0.8540WARNING:tensorflow:Method (on_train_batch_end) is slow compared to the batch update (0.134998). Check your callbacks.\n",
      " 713/1563 [============>.................] - ETA: 2:35 - loss: 0.4716 - accuracy: 0.8467 ETA: 2: - - ETA: 2:38 - loss: 0.4724 - accuracy: 0. - ETA: 2:37 - loss: 0.4723 - ac - ETA: 2:34 - loss: 0.4712 WARNING:tensorflow:Method (on_train_batch_end) is slow compared to the batch update (0.124543). Check your callbacks.\n",
      " 715/1563 [============>.................] - ETA: 2:35 - loss: 0.4716 - accuracy: 0.8468WARNING:tensorflow:Method (on_train_batch_end) is slow compared to the batch update (0.104033). Check your callbacks.\n",
      " 807/1563 [==============>...............] - ETA: 2:21 - loss: 0.4703 - accuracy: 0.8472 ETA: 2:23 - loss: 0.4715 - accuracy: 0.84 - ETA: 2:23 -WARNING:tensorflow:Method (on_train_batch_end) is slow compared to the batch update (0.128027). Check your callbacks.\n",
      " 818/1563 [==============>...............] - ETA: 2:22 - loss: 0.4703 - accuracy: 0.8471 ETA: 2:21 - loss: 0.4706 - accuracy - ETA: 2:22 - loss: 0.4702 - accuracy: 0.8470WARNING:tensorflow:Method (on_train_batch_end) is slow compared to the batch update (0.214004). Check your callbacks.\n",
      " 822/1563 [==============>...............] - ETA: 2:23 - loss: 0.4702 - accuracy: 0.8470 ETA: 2:23 - loss: 0.4702 - accuracy: 0.WARNING:tensorflow:Method (on_train_batch_end) is slow compared to the batch update (0.255876). Check your callbacks.\n",
      " 823/1563 [==============>...............] - ETA: 2:23 - loss: 0.4702 - accuracy: 0.8470WARNING:tensorflow:Method (on_train_batch_end) is slow compared to the batch update (0.255876). Check your callbacks.\n",
      " 826/1563 [==============>...............] - ETA: 2:23 - loss: 0.4700 - accuracy: 0.8470 ETA: 2:23 - loss: 0.4700 - accuracy: 0.84WARNING:tensorflow:Method (on_train_batch_end) is slow compared to the batch update (0.227532). Check your callbacks.\n",
      " 843/1563 [===============>..............] - ETA: 2:25 - loss: 0.4697 - accuracy: 0.8470 ETA: 2:23 - loss: 0.4695 - accuracy: 0.84 - ETA: 2:23 - loss: 0.4694 - accuracy: 0. - ETA: 2:24 - loss: 0.4693 - accuracy: 0. - ETA: 2:24 - loss: 0.4694 - accuracy:  - ETA: 2:25 - loss: 0.4696 - accuracy: 0.84WARNING:tensorflow:Method (on_train_batch_end) is slow compared to the batch update (0.225456). Check your callbacks.\n",
      " 844/1563 [===============>..............] - ETA: 2:24 - loss: 0.4698 - accuracy: 0.8470WARNING:tensorflow:Method (on_train_batch_end) is slow compared to the batch update (0.185481). Check your callbacks.\n",
      " 845/1563 [===============>..............] - ETA: 2:24 - loss: 0.4698 - accuracy: 0.8469WARNING:tensorflow:Method (on_train_batch_end) is slow compared to the batch update (0.125008). Check your callbacks.\n",
      " 846/1563 [===============>..............] - ETA: 2:24 - loss: 0.4703 - accuracy: 0.8467WARNING:tensorflow:Method (on_train_batch_end) is slow compared to the batch update (0.119985). Check your callbacks.\n",
      " 862/1563 [===============>..............] - ETA: 2:23 - loss: 0.4695 - accuracy: 0.8469WARNING:tensorflow:Method (on_train_batch_end) is slow compared to the batch update (0.121503). Check your callbacks.\n",
      " 864/1563 [===============>..............] - ETA: 2:23 - loss: 0.4696 - accuracy: 0.8469WARNING:tensorflow:Method (on_train_batch_end) is slow compared to the batch update (0.121503). Check your callbacks.\n",
      " 902/1563 [================>.............] - ETA: 2:15 - loss: 0.4700 - accuracy: 0.8467WARNING:tensorflow:Method (on_train_batch_end) is slow compared to the batch update (0.106884). Check your callbacks.\n",
      " 903/1563 [================>.............] - ETA: 2:14 - loss: 0.4700 - accuracy: 0.8467WARNING:tensorflow:Method (on_train_batch_end) is slow compared to the batch update (0.106884). Check your callbacks.\n",
      " 904/1563 [================>.............] - ETA: 2:14 - loss: 0.4700 - accuracy: 0.8466WARNING:tensorflow:Method (on_train_batch_end) is slow compared to the batch update (0.106884). Check your callbacks.\n",
      " 958/1563 [=================>............] - ETA: 2:03 - loss: 0.4705 - accuracy: 0.8463 ETA: 2:11 - loss: 0.4698 - accu - ETA: 2:10 - - ETA: 2:05 - loss: 0.4688 - accuracy - ETA: 2:05 - loss: 0.469 - ETA: 2:03 - loss: 0.4692 - acWARNING:tensorflow:Method (on_train_batch_end) is slow compared to the batch update (0.128382). Check your callbacks.\n"
     ]
    },
    {
     "name": "stdout",
     "output_type": "stream",
     "text": [
      " 959/1563 [=================>............] - ETA: 2:03 - loss: 0.4706 - accuracy: 0.8463WARNING:tensorflow:Method (on_train_batch_end) is slow compared to the batch update (0.128382). Check your callbacks.\n",
      " 985/1563 [=================>............] - ETA: 2:01 - loss: 0.4714 - accuracy: 0.8457 ETA: 2:02 - loss: 0.4706  - ETA: 2:02 - loss: 0.4WARNING:tensorflow:Method (on_train_batch_end) is slow compared to the batch update (0.128640). Check your callbacks.\n",
      "1040/1563 [==================>...........] - ETA: 1:55 - loss: 0.4701 - accuracy: 0.8462 ETA: 1:54 - loss: 0.4702 - accuracy: 0.84 - ETA: 1:54 - loss: 0.4702 - accuracy: 0. - ETA: 1:55 - loss: 0.4700 - accuracy: 0. - ETA: 1:55 - loss: 0.4697 - accuracy: 0.84 - ETA: 1:55 - loss: 0.4698 - accuracy: 0.WARNING:tensorflow:Method (on_train_batch_end) is slow compared to the batch update (0.318114). Check your callbacks.\n",
      "1048/1563 [===================>..........] - ETA: 1:56 - loss: 0.4704 - accuracy: 0.8460 ETA: 1:56 - loss: 0.4702 - accuracy: 0.84 - ETA: 1:56 - loss: 0.4704 - accuracy: 0. - ETA: 1:56 - loss: 0.4705 - accuracy: 0.84 - ETA: 1:56 - loss: 0.4707 - accuracy: 0.WARNING:tensorflow:Method (on_train_batch_end) is slow compared to the batch update (0.296751). Check your callbacks.\n",
      "1049/1563 [===================>..........] - ETA: 1:56 - loss: 0.4702 - accuracy: 0.8461WARNING:tensorflow:Method (on_train_batch_end) is slow compared to the batch update (0.259968). Check your callbacks.\n",
      "1050/1563 [===================>..........] - ETA: 1:56 - loss: 0.4702 - accuracy: 0.8462WARNING:tensorflow:Method (on_train_batch_end) is slow compared to the batch update (0.250005). Check your callbacks.\n",
      "1051/1563 [===================>..........] - ETA: 1:55 - loss: 0.4700 - accuracy: 0.8462WARNING:tensorflow:Method (on_train_batch_end) is slow compared to the batch update (0.204987). Check your callbacks.\n",
      "1052/1563 [===================>..........] - ETA: 1:55 - loss: 0.4699 - accuracy: 0.8462WARNING:tensorflow:Method (on_train_batch_end) is slow compared to the batch update (0.108981). Check your callbacks.\n",
      "1563/1563 [==============================] - 302s 193ms/step - loss: 0.4779 - accuracy: 0.843628s - loss: 0.4766 - accuracy:  - ETA: 27s - loss: 0  - ETA: 7s -\n",
      "Epoch 43/50\n",
      "  79/1563 [>.............................] - ETA: 5:07 - loss: 0.4155 - accuracy: 0.8675 ETA: 1:55 - l - ETA: 2:39 - loss: 0.3949 -  - ETA: 3:10 - loss: 0.4 - ETA: 3:17 - loss: 0.418 - ETA: 3:46 - loss: 0.4212 - accuracy: 0. - ETA: 3:42 - ETA: 3:55 - loss: 0.4203 - accuracy:  - ETA: 4:14 - loss: 0.4220 - accuWARNING:tensorflow:Method (on_train_batch_end) is slow compared to the batch update (0.205013). Check your callbacks.\n",
      "  82/1563 [>.............................] - ETA: 5:15 - loss: 0.4193 - accuracy: 0.8655WARNING:tensorflow:Method (on_train_batch_end) is slow compared to the batch update (0.205013). Check your callbacks.\n",
      "  83/1563 [>.............................] - ETA: 5:13 - loss: 0.4187 - accuracy: 0.8656WARNING:tensorflow:Method (on_train_batch_end) is slow compared to the batch update (0.159707). Check your callbacks.\n",
      " 148/1563 [=>............................] - ETA: 4:50 - loss: 0.4148 - accuracy: 0.8668WARNING:tensorflow:Method (on_train_batch_end) is slow compared to the batch update (0.127015). Check your callbacks.\n",
      " 149/1563 [=>............................] - ETA: 4:50 - loss: 0.4145 - accuracy: 0.8670WARNING:tensorflow:Method (on_train_batch_end) is slow compared to the batch update (0.127015). Check your callbacks.\n",
      " 150/1563 [=>............................] - ETA: 4:49 - loss: 0.4132 - accuracy: 0.8675WARNING:tensorflow:Method (on_train_batch_end) is slow compared to the batch update (0.132015). Check your callbacks.\n",
      " 304/1563 [====>.........................] - ETA: 3:31 - loss: 0.4330 - accuracy: 0.8584 ETA: 3:27 - loss: 0.431WARNING:tensorflow:Method (on_train_batch_end) is slow compared to the batch update (0.105341). Check your callbacks.\n",
      " 305/1563 [====>.........................] - ETA: 3:30 - loss: 0.4332 - accuracy: 0.8583WARNING:tensorflow:Method (on_train_batch_end) is slow compared to the batch update (0.105341). Check your callbacks.\n",
      " 326/1563 [=====>........................] - ETA: 3:40 - loss: 0.4362 - accuracy: 0.8574 ETA: 3:28 - loss: 0.4 - ETA: 3:30 - loss: 0.4359 - accuracy: 0. - ETA: 3:37 - loss: 0.4349 - accuracy: 0.85 - ETA: 3:39 - loss: 0.4346 - accuracy: 0.WARNING:tensorflow:Method (on_train_batch_end) is slow compared to the batch update (0.181372). Check your callbacks.\n",
      " 329/1563 [=====>........................] - ETA: 3:44 - loss: 0.4370 - accuracy: 0.8566WARNING:tensorflow:Method (on_train_batch_end) is slow compared to the batch update (0.152493). Check your callbacks.\n",
      " 394/1563 [======>.......................] - ETA: 3:44 - loss: 0.4393 - accuracy: 0.8556 ETA: 3:39 - loss: 0.4370 - accuracy - ETA: 3:43 - loss: 0.4388 - accuracy: 0.WARNING:tensorflow:Method (on_train_batch_end) is slow compared to the batch update (0.186478). Check your callbacks.\n",
      " 397/1563 [======>.......................] - ETA: 3:46 - loss: 0.4392 - accuracy: 0.8559WARNING:tensorflow:Method (on_train_batch_end) is slow compared to the batch update (0.175481). Check your callbacks.\n",
      " 398/1563 [======>.......................] - ETA: 3:45 - loss: 0.4387 - accuracy: 0.8561WARNING:tensorflow:Method (on_train_batch_end) is slow compared to the batch update (0.148493). Check your callbacks.\n",
      " 399/1563 [======>.......................] - ETA: 3:45 - loss: 0.4393 - accuracy: 0.8560WARNING:tensorflow:Method (on_train_batch_end) is slow compared to the batch update (0.124033). Check your callbacks.\n",
      " 842/1563 [===============>..............] - ETA: 1:51 - loss: 0.4469 - accuracy: 0.8538WARNING:tensorflow:Method (on_train_batch_end) is slow compared to the batch update (0.121528). Check your callbacks.\n",
      " 845/1563 [===============>..............] - ETA: 1:52 - loss: 0.4469 - accuracy: 0.8539WARNING:tensorflow:Method (on_train_batch_end) is slow compared to the batch update (0.125889). Check your callbacks.\n",
      " 847/1563 [===============>..............] - ETA: 1:52 - loss: 0.4467 - accuracy: 0.8539WARNING:tensorflow:Method (on_train_batch_end) is slow compared to the batch update (0.127025). Check your callbacks.\n",
      " 848/1563 [===============>..............] - ETA: 1:51 - loss: 0.4466 - accuracy: 0.8539WARNING:tensorflow:Method (on_train_batch_end) is slow compared to the batch update (0.127025). Check your callbacks.\n",
      " 849/1563 [===============>..............] - ETA: 1:51 - loss: 0.4464 - accuracy: 0.8540WARNING:tensorflow:Method (on_train_batch_end) is slow compared to the batch update (0.114981). Check your callbacks.\n",
      "1050/1563 [===================>..........] - ETA: 1:20 - loss: 0.4468 - accuracy: 0.8550 ETA: 1:20 - loss: 0.4464 - accuracy: 0. - ETA: 1:20 - loss: 0.4461 - accu - ETA: 1:21 - loss: 0.4459 WARNING:tensorflow:Method (on_train_batch_end) is slow compared to the batch update (0.129015). Check your callbacks.\n",
      "1081/1563 [===================>..........] - ETA: 1:20 - loss: 0.4483 - accuracy: 0.8544 ETA: 1:19 - loss: 0.4471 - accura - ETA: 1:19 - loss: 0.4 - ETA: 1:19 - loss: 0.4479 - accuracy: 0.85 - ETA: 1:19 - loss: 0.4481 - accuracy: 0. - ETA: 1:20 - loss: 0.4480 - accuracy: 0.85 - ETA: 1:20 - loss: 0.4480 - accuracyWARNING:tensorflow:Method (on_train_batch_end) is slow compared to the batch update (0.290238). Check your callbacks.\n",
      "1082/1563 [===================>..........] - ETA: 1:20 - loss: 0.4482 - accuracy: 0.8544WARNING:tensorflow:Method (on_train_batch_end) is slow compared to the batch update (0.224888). Check your callbacks.\n",
      "1106/1563 [====================>.........] - ETA: 1:19 - loss: 0.4492 - accuracy: 0.8541 ETA: 1:19 - loss: 0.4487 - accuracy: 0. - ETA: 1:19 - loss: 0.4488 - accuracy: 0. - ETA: 1:19 - loss: 0.4488 - accura - ETA: 1:19 - loss: 0.4493 - accuracy: 0.WARNING:tensorflow:Method (on_train_batch_end) is slow compared to the batch update (0.192987). Check your callbacks.\n",
      "1111/1563 [====================>.........] - ETA: 1:20 - loss: 0.4492 - accuracy: 0.8542 ETA: 1:20 - loss: 0.4493 - accuracy: WARNING:tensorflow:Method (on_train_batch_end) is slow compared to the batch update (0.192987). Check your callbacks.\n"
     ]
    },
    {
     "name": "stdout",
     "output_type": "stream",
     "text": [
      "1112/1563 [====================>.........] - ETA: 1:19 - loss: 0.4492 - accuracy: 0.8541WARNING:tensorflow:Method (on_train_batch_end) is slow compared to the batch update (0.188601). Check your callbacks.\n",
      "1113/1563 [====================>.........] - ETA: 1:19 - loss: 0.4495 - accuracy: 0.8541WARNING:tensorflow:Method (on_train_batch_end) is slow compared to the batch update (0.164472). Check your callbacks.\n",
      "1131/1563 [====================>.........] - ETA: 1:17 - loss: 0.4497 - accuracy: 0.8539WARNING:tensorflow:Method (on_train_batch_end) is slow compared to the batch update (0.136477). Check your callbacks.\n",
      "1142/1563 [====================>.........] - ETA: 1:16 - loss: 0.4497 - accuracy: 0.8539 ETA: 1:16 - loss: 0.4499 - accuracy: 0.WARNING:tensorflow:Method (on_train_batch_end) is slow compared to the batch update (0.166472). Check your callbacks.\n",
      "1147/1563 [=====================>........] - ETA: 1:16 - loss: 0.4496 - accuracy: 0.85 - ETA: 1:16 - loss: 0.4495 - accuracy: 0.85 - ETA: 1:16 - loss: 0.4497 - accuracy: 0.85 - ETA: 1:16 - loss: 0.4499 - accuracy: 0.8540WARNING:tensorflow:Method (on_train_batch_end) is slow compared to the batch update (0.207109). Check your callbacks.\n",
      "1154/1563 [=====================>........] - ETA: 1:16 - loss: 0.4510 - accuracy: 0.8536 ETA: 1:16 - loss: 0.4503 - accuracy: WARNING:tensorflow:Method (on_train_batch_end) is slow compared to the batch update (0.167476). Check your callbacks.\n",
      "1263/1563 [=======================>......] - ETA: 57s - loss: 0.4528 - accuracy: 0.8532- ETA: 57s - loss: 0.4519 - accuracy: 0.853 - ETA: 57s - loss: 0.4520 - accuracy: 0.8 - ETA: 57s - loss: 0.4524 - accuracy: 0.WARNING:tensorflow:Method (on_train_batch_end) is slow compared to the batch update (0.122995). Check your callbacks.\n",
      "1264/1563 [=======================>......] - ETA: 56s - loss: 0.4526 - accuracy: 0.8533WARNING:tensorflow:Method (on_train_batch_end) is slow compared to the batch update (0.122995). Check your callbacks.\n",
      "1265/1563 [=======================>......] - ETA: 56s - loss: 0.4525 - accuracy: 0.8533WARNING:tensorflow:Method (on_train_batch_end) is slow compared to the batch update (0.122995). Check your callbacks.\n",
      "1266/1563 [=======================>......] - ETA: 56s - loss: 0.4523 - accuracy: 0.8535WARNING:tensorflow:Method (on_train_batch_end) is slow compared to the batch update (0.105522). Check your callbacks.\n",
      "1292/1563 [=======================>......] - ETA: 52s - loss: 0.4521 - accuracy: 0.8537- ETA: 54s - loss: 0.4519 - accuracy: 0.8 - ETA: 53s - loss: 0.4517 - accuracy: - ETA: 52s - loss: 0.4518 - accuracy: WARNING:tensorflow:Method (on_train_batch_end) is slow compared to the batch update (0.116047). Check your callbacks.\n",
      "1526/1563 [============================>.] - ETA: 7s - loss: 0.4546 - accuracy: 0.8522 - ETA: 50s  - ETA: 43s - loss: 0.4538 - accur - ETA: 32s - loss: 0.4542 - accuracy: 0.853 - ETA:  - ETA: 24s - loss: 0.4547 - ac - ETA: 2 - ETA: 15s - loss: 0.4 - ETA: 11s - loss: 0.4542 - acc - ETA: 9s - losWARNING:tensorflow:Method (on_train_batch_end) is slow compared to the batch update (0.125844). Check your callbacks.\n",
      "1527/1563 [============================>.] - ETA: 6s - loss: 0.4545 - accuracy: 0.8523WARNING:tensorflow:Method (on_train_batch_end) is slow compared to the batch update (0.125844). Check your callbacks.\n",
      "1528/1563 [============================>.] - ETA: 6s - loss: 0.4545 - accuracy: 0.8523WARNING:tensorflow:Method (on_train_batch_end) is slow compared to the batch update (0.123322). Check your callbacks.\n",
      "1563/1563 [==============================] - 294s 188ms/step - loss: 0.4544 - accuracy: 0.8520 - ETA: 1s - loss: 0.4547 \n",
      "Epoch 44/50\n",
      " 323/1563 [=====>........................] - ETA: 2:54 - loss: 0.4199 - accuracy: 0.8687WARNING:tensorflow:Method (on_train_batch_end) is slow compared to the batch update (0.123482). Check your callbacks.\n",
      " 553/1563 [=========>....................] - ETA: 2:29 - loss: 0.4217 - accuracy: 0.8679 - ETA: 2:28 - loss: 0.4226 - acWARNING:tensorflow:Method (on_train_batch_end) is slow compared to the batch update (0.117971). Check your callbacks.\n",
      " 693/1563 [============>.................] - ETA: 2:26 - loss: 0.4214 - accuracy: 0.8663 ETA: 2:16 - loss: 0.4208 - accuracy: 0.86 - ETA: 2:17 - loss: 0.4209 - accuracy: 0. - ETA: 2:19 - loss: 0.4212 - accuracy:  - ETA: 2:22 - loss: 0.4213 - accuracy - ETA: 2:24 - loss: 0.4215 - accuracyWARNING:tensorflow:Method (on_train_batch_end) is slow compared to the batch update (0.232731). Check your callbacks.\n",
      " 695/1563 [============>.................] - ETA: 2:26 - loss: 0.4212 - accuracy: 0.8663WARNING:tensorflow:Method (on_train_batch_end) is slow compared to the batch update (0.194510). Check your callbacks.\n",
      " 700/1563 [============>.................] - ETA: 2:27 - loss: 0.4221 - accuracy: 0.8660WARNING:tensorflow:Method (on_train_batch_end) is slow compared to the batch update (0.144989). Check your callbacks.\n",
      " 715/1563 [============>.................] - ETA: 2:28 - loss: 0.4220 - accuracy: 0.8659 ETA: 2:27 - loss: 0.4223 - accuracy: 0.86 - ETA: 2:28 - loss: 0.4225 - accuracy: 0.86 - ETA: 2:28 - loss: 0.4224 - accuracy: 0.WARNING:tensorflow:Method (on_train_batch_end) is slow compared to the batch update (0.143319). Check your callbacks.\n",
      " 716/1563 [============>.................] - ETA: 2:28 - loss: 0.4220 - accuracy: 0.8660WARNING:tensorflow:Method (on_train_batch_end) is slow compared to the batch update (0.143319). Check your callbacks.\n",
      " 717/1563 [============>.................] - ETA: 2:28 - loss: 0.4222 - accuracy: 0.8659WARNING:tensorflow:Method (on_train_batch_end) is slow compared to the batch update (0.143319). Check your callbacks.\n",
      " 718/1563 [============>.................] - ETA: 2:28 - loss: 0.4221 - accuracy: 0.8659WARNING:tensorflow:Method (on_train_batch_end) is slow compared to the batch update (0.143319). Check your callbacks.\n",
      "1061/1563 [===================>..........] - ETA: 1:20 - loss: 0.4286 - accuracy: 0.8641 ETA: 1:52 - l - ETA: 1:45 - loss: 0.4239  - ETA: 1:31 - loss: 0.4270 - accuracy: 0.86 - ETA: 1:31 - loss: 0.4270 - accuracy:  - ETA: 1:30 - l - ETA: 1:27 - loss: 0.4277 - accuracy: 0.86 - ETA: 1:27 - loss: 0.4276 - accura - ETA: 1: - ETA: 1:23 - loss: 0.4282  - ETA: 1:20 - loss: 0.4287 - accuracy: 0.86 - ETA: 1:21 - loss: 0.4286 - accuracy: 0.86 - ETA: 1:21 - loss: 0.4286 - accuracy: 0.8641WARNING:tensorflow:Method (on_train_batch_end) is slow compared to the batch update (0.224008). Check your callbacks.\n",
      "1066/1563 [===================>..........] - ETA: 1:21 - loss: 0.4282 - accuracy: 0.8642WARNING:tensorflow:Method (on_train_batch_end) is slow compared to the batch update (0.234529). Check your callbacks.\n",
      "1067/1563 [===================>..........] - ETA: 1:21 - loss: 0.4283 - accuracy: 0.8641WARNING:tensorflow:Method (on_train_batch_end) is slow compared to the batch update (0.234529). Check your callbacks.\n",
      "1072/1563 [===================>..........] - ETA: 1:21 - loss: 0.4278 - accuracy: 0.8642WARNING:tensorflow:Method (on_train_batch_end) is slow compared to the batch update (0.105491). Check your callbacks.\n",
      "1084/1563 [===================>..........] - ETA: 1:21 - loss: 0.4273 - accuracy: 0.8644 ETA: 1:21 - loss: 0.4276 - accuracy: 0.86 - ETA: 1:21 - loss: 0.4277 - accuracy: 0.86 - ETA: 1:21 - loss: 0.4276 - accuracy: 0.86 - ETA: 1:21 - loss: 0.4275 - accuracy: WARNING:tensorflow:Method (on_train_batch_end) is slow compared to the batch update (0.222991). Check your callbacks.\n",
      "1086/1563 [===================>..........] - ETA: 1:21 - loss: 0.4271 - accuracy: 0.8645WARNING:tensorflow:Method (on_train_batch_end) is slow compared to the batch update (0.222991). Check your callbacks.\n",
      "1087/1563 [===================>..........] - ETA: 1:21 - loss: 0.4273 - accuracy: 0.8644WARNING:tensorflow:Method (on_train_batch_end) is slow compared to the batch update (0.159492). Check your callbacks.\n",
      "1130/1563 [====================>.........] - ETA: 1:16 - loss: 0.4271 - accuracy: 0.8647 ETA: 1:18 - los - ETA: 1:16 - loss: 0.4271 - accuracy: 0. - ETA: 1:16 - loss: 0.4271 - accuracy: 0. - ETA: 1:16 - loss: 0.4273 - accuracy: 0. - ETA: 1:16 - loss: 0.4273 - accuracy: 0.WARNING:tensorflow:Method (on_train_batch_end) is slow compared to the batch update (0.229005). Check your callbacks.\n"
     ]
    },
    {
     "name": "stdout",
     "output_type": "stream",
     "text": [
      "1131/1563 [====================>.........] - ETA: 1:16 - loss: 0.4271 - accuracy: 0.8647WARNING:tensorflow:Method (on_train_batch_end) is slow compared to the batch update (0.229005). Check your callbacks.\n",
      "1132/1563 [====================>.........] - ETA: 1:15 - loss: 0.4271 - accuracy: 0.8647WARNING:tensorflow:Method (on_train_batch_end) is slow compared to the batch update (0.197524). Check your callbacks.\n",
      "1137/1563 [====================>.........] - ETA: 1:15 - loss: 0.4271 - accuracy: 0.8647WARNING:tensorflow:Method (on_train_batch_end) is slow compared to the batch update (0.192023). Check your callbacks.\n",
      "1139/1563 [====================>.........] - ETA: 1:15 - loss: 0.4271 - accuracy: 0.8647WARNING:tensorflow:Method (on_train_batch_end) is slow compared to the batch update (0.191267). Check your callbacks.\n",
      "1141/1563 [====================>.........] - ETA: 1:15 - loss: 0.4270 - accuracy: 0.8646WARNING:tensorflow:Method (on_train_batch_end) is slow compared to the batch update (0.191267). Check your callbacks.\n",
      "1143/1563 [====================>.........] - ETA: 1:15 - loss: 0.4268 - accuracy: 0.8647WARNING:tensorflow:Method (on_train_batch_end) is slow compared to the batch update (0.163753). Check your callbacks.\n",
      "1144/1563 [====================>.........] - ETA: 1:14 - loss: 0.4269 - accuracy: 0.8646WARNING:tensorflow:Method (on_train_batch_end) is slow compared to the batch update (0.110252). Check your callbacks.\n",
      "1238/1563 [======================>.......] - ETA: 59s - loss: 0.4274 - accuracy: 0.8638  ETA: 1: - ETA: 1:04 - l - ETA: 1:01 - loss: 0.4284 - accuracy - ETA: 1:01WARNING:tensorflow:Method (on_train_batch_end) is slow compared to the batch update (0.148990). Check your callbacks.\n",
      "1249/1563 [======================>.......] - ETA: 58s - loss: 0.4270 - accuracy: 0.8640- ETA: 58s - loss: 0.4271 - accuracy: 0.863 - ETA: 58s - loss: 0.4271 - accuracy: 0.86 - ETA: 58s - loss: 0.4272 - accuracy: 0.863 - ETA: 58s - loss: 0.4272 - accuracy: 0.863 - ETA: 59s - loss: 0.4272 - accuracy: 0.863 - ETA: 59s - loss: 0.4271 - accuracy: 0.863 - ETA: 58s - loss: 0.4271 - accuracy: 0.8639WARNING:tensorflow:Method (on_train_batch_end) is slow compared to the batch update (0.324979). Check your callbacks.\n",
      "1252/1563 [=======================>......] - ETA: 58s - loss: 0.4271 - accuracy: 0.8640WARNING:tensorflow:Method (on_train_batch_end) is slow compared to the batch update (0.286311). Check your callbacks.\n",
      "1253/1563 [=======================>......] - ETA: 58s - loss: 0.4273 - accuracy: 0.8639WARNING:tensorflow:Method (on_train_batch_end) is slow compared to the batch update (0.259317). Check your callbacks.\n",
      "1254/1563 [=======================>......] - ETA: 58s - loss: 0.4272 - accuracy: 0.8640WARNING:tensorflow:Method (on_train_batch_end) is slow compared to the batch update (0.259317). Check your callbacks.\n",
      "1376/1563 [=========================>....] - ETA: 36s - loss: 0.4272 - accuracy: 0.8644- ETA: 49s - loss:  - ETA: 44s - - ETA: 38s - loss: 0.4265 - accuracy - ETA: 37s - loss: 0.4269 - accuracy: 0.864 - ETA: 37s - loss: 0.4269 - accuracy: 0.8 - ETA: 37s - loss: 0.4268 - accuracy: 0.86 - ETA: 37s - loss: 0.4267 - accuracy: 0.8 - ETA: 36s - loss: 0.4270 - accuracy: 0.864 - ETA: 36s - loss: 0.4271 - accuracy: 0.86WARNING:tensorflow:Method (on_train_batch_end) is slow compared to the batch update (0.250851). Check your callbacks.\n",
      "1377/1563 [=========================>....] - ETA: 36s - loss: 0.4272 - accuracy: 0.8644WARNING:tensorflow:Method (on_train_batch_end) is slow compared to the batch update (0.243864). Check your callbacks.\n",
      "1378/1563 [=========================>....] - ETA: 36s - loss: 0.4271 - accuracy: 0.8644WARNING:tensorflow:Method (on_train_batch_end) is slow compared to the batch update (0.218008). Check your callbacks.\n",
      "1563/1563 [==============================] - 302s 193ms/step - loss: 0.4305 - accuracy: 0.8632 - loss: 0.4306 -  - ETA: 1s - loss: 0.4303 - accuracy: 0.86 - ETA: 1s - loss: 0.4302 \n",
      "Epoch 45/50\n",
      "  56/1563 [>.............................] - ETA: 6:38 - loss: 0.4087 - accuracy: 0.8677 ETA: 6:07 - loss: 0.4093 - acWARNING:tensorflow:Method (on_train_batch_end) is slow compared to the batch update (0.134618). Check your callbacks.\n",
      " 184/1563 [==>...........................] - ETA: 5:11 - loss: 0.4040 - accuracy: 0.8711 ETA: 4:59 - loss: 0 - ETA: 4:46 - loss: 0.4 - EWARNING:tensorflow:Method (on_train_batch_end) is slow compared to the batch update (0.138040). Check your callbacks.\n",
      " 185/1563 [==>...........................] - ETA: 5:10 - loss: 0.4041 - accuracy: 0.8708WARNING:tensorflow:Method (on_train_batch_end) is slow compared to the batch update (0.138040). Check your callbacks.\n",
      " 208/1563 [==>...........................] - ETA: 5:46 - loss: 0.4028 - accuracy: 0.8712 ETA: 5:16 - loss: 0.4022 - accuracy: 0. - ETA: 5:29 - loss: 0.4021 - accuracy: 0. - ETA: 5:36 - loss: 0.4033 - accuraWARNING:tensorflow:Method (on_train_batch_end) is slow compared to the batch update (0.215968). Check your callbacks.\n",
      " 209/1563 [===>..........................] - ETA: 5:45 - loss: 0.4025 - accuracy: 0.8711WARNING:tensorflow:Method (on_train_batch_end) is slow compared to the batch update (0.206954). Check your callbacks.\n",
      " 210/1563 [===>..........................] - ETA: 5:43 - loss: 0.4021 - accuracy: 0.8713WARNING:tensorflow:Method (on_train_batch_end) is slow compared to the batch update (0.189492). Check your callbacks.\n",
      " 211/1563 [===>..........................] - ETA: 5:42 - loss: 0.4014 - accuracy: 0.8716WARNING:tensorflow:Method (on_train_batch_end) is slow compared to the batch update (0.164495). Check your callbacks.\n",
      " 222/1563 [===>..........................] - ETA: 5:56 - loss: 0.4031 - accuracy: 0.8719 ETA: 5:51 - loss: 0.4041 - accuracy: 0. - ETA: 5:55 - loss: 0.4043 - accuracy: WARNING:tensorflow:Method (on_train_batch_end) is slow compared to the batch update (0.168937). Check your callbacks.\n",
      " 224/1563 [===>..........................] - ETA: 5:55 - loss: 0.4033 - accuracy: 0.8721WARNING:tensorflow:Method (on_train_batch_end) is slow compared to the batch update (0.129997). Check your callbacks.\n",
      " 245/1563 [===>..........................] - ETA: 5:51 - loss: 0.4042 - accuracy: 0.8719 ETA: 5:45 - loss: 0.4037 - accuracy:  - ETA: 5:49 - loss: 0.4037 - ac - ETA: 5:58 - loss: 0.4037 - accuracy: 0.87 - ETA: 6:04 - loss: 0.4040 - accuracy: 0.87 - ETA: 6:07 - loss: 0.4033 - accuracy: 0.8719WARNING:tensorflow:Method (on_train_batch_end) is slow compared to the batch update (0.156853). Check your callbacks.\n",
      " 250/1563 [===>..........................] - ETA: 6:21 - loss: 0.4032 - accuracy: 0.8723 ETA: 6:10 - loss: 0.4038 - accuracy: 0. - ETA: 6:20 - loss: 0.4034 - accuracy: 0.87WARNING:tensorflow:Method (on_train_batch_end) is slow compared to the batch update (0.329353). Check your callbacks.\n",
      " 251/1563 [===>..........................] - ETA: 6:21 - loss: 0.4025 - accuracy: 0.8726WARNING:tensorflow:Method (on_train_batch_end) is slow compared to the batch update (0.329353). Check your callbacks.\n",
      " 252/1563 [===>..........................] - ETA: 6:21 - loss: 0.4031 - accuracy: 0.8724WARNING:tensorflow:Method (on_train_batch_end) is slow compared to the batch update (0.309869). Check your callbacks.\n",
      " 253/1563 [===>..........................] - ETA: 6:20 - loss: 0.4029 - accuracy: 0.8723WARNING:tensorflow:Method (on_train_batch_end) is slow compared to the batch update (0.214223). Check your callbacks.\n",
      " 430/1563 [=======>......................] - ETA: 5:12 - loss: 0.4070 - accuracy: 0.8712 ETA: 5:10 - loss: 0.4090 - ac - ETA: 5:11 - loss: 0.4076 - accuracyWARNING:tensorflow:Method (on_train_batch_end) is slow compared to the batch update (0.133460). Check your callbacks.\n",
      " 431/1563 [=======>......................] - ETA: 5:11 - loss: 0.4078 - accuracy: 0.8709WARNING:tensorflow:Method (on_train_batch_end) is slow compared to the batch update (0.133460). Check your callbacks.\n",
      " 432/1563 [=======>......................] - ETA: 5:10 - loss: 0.4078 - accuracy: 0.8708WARNING:tensorflow:Method (on_train_batch_end) is slow compared to the batch update (0.105465). Check your callbacks.\n"
     ]
    },
    {
     "name": "stdout",
     "output_type": "stream",
     "text": [
      " 589/1563 [==========>...................] - ETA: 4:09 - loss: 0.4068 - accuracy: 0.8709 ETA: 4:13 - l - ETA: 4:09 - loss: 0.4072 - accuraWARNING:tensorflow:Method (on_train_batch_end) is slow compared to the batch update (0.118650). Check your callbacks.\n",
      " 590/1563 [==========>...................] - ETA: 4:09 - loss: 0.4067 - accuracy: 0.8709WARNING:tensorflow:Method (on_train_batch_end) is slow compared to the batch update (0.118650). Check your callbacks.\n",
      " 591/1563 [==========>...................] - ETA: 4:08 - loss: 0.4066 - accuracy: 0.8710WARNING:tensorflow:Method (on_train_batch_end) is slow compared to the batch update (0.118650). Check your callbacks.\n",
      " 649/1563 [===========>..................] - ETA: 3:47 - loss: 0.4057 - accuracy: 0.8712 ETA: 3:49 - lWARNING:tensorflow:Method (on_train_batch_end) is slow compared to the batch update (0.141481). Check your callbacks.\n",
      " 650/1563 [===========>..................] - ETA: 3:47 - loss: 0.4056 - accuracy: 0.8712WARNING:tensorflow:Method (on_train_batch_end) is slow compared to the batch update (0.141481). Check your callbacks.\n",
      " 786/1563 [==============>...............] - ETA: 3:04 - loss: 0.4072 - accuracy: 0.8699 - ETA: 3:12 - los - ETA: 3:07 - loss: 0WARNING:tensorflow:Method (on_train_batch_end) is slow compared to the batch update (0.102337). Check your callbacks.\n",
      " 787/1563 [==============>...............] - ETA: 3:04 - loss: 0.4073 - accuracy: 0.8699WARNING:tensorflow:Method (on_train_batch_end) is slow compared to the batch update (0.102337). Check your callbacks.\n",
      " 805/1563 [==============>...............] - ETA: 3:00 - loss: 0.4071 - accuracy: 0.8700 ETA: 3:01 - loss: 0.4075 - accu - ETA: 3:00 - loss: 0.4071 - accuracy: WARNING:tensorflow:Method (on_train_batch_end) is slow compared to the batch update (0.107004). Check your callbacks.\n",
      " 806/1563 [==============>...............] - ETA: 3:00 - loss: 0.4071 - accuracy: 0.8701WARNING:tensorflow:Method (on_train_batch_end) is slow compared to the batch update (0.105011). Check your callbacks.\n",
      " 887/1563 [================>.............] - ETA: 2:35 - loss: 0.4064 - accuracy: 0.8704 ETA: 2:35 - loss: 0.4064 - accuracy: 0.87 - ETA: 2:35 - loss: 0.4064 - accuracy: 0.WARNING:tensorflow:Method (on_train_batch_end) is slow compared to the batch update (0.115000). Check your callbacks.\n",
      " 888/1563 [================>.............] - ETA: 2:34 - loss: 0.4064 - accuracy: 0.8705WARNING:tensorflow:Method (on_train_batch_end) is slow compared to the batch update (0.115000). Check your callbacks.\n",
      " 889/1563 [================>.............] - ETA: 2:34 - loss: 0.4063 - accuracy: 0.8705WARNING:tensorflow:Method (on_train_batch_end) is slow compared to the batch update (0.115000). Check your callbacks.\n",
      " 890/1563 [================>.............] - ETA: 2:34 - loss: 0.4065 - accuracy: 0.8705WARNING:tensorflow:Method (on_train_batch_end) is slow compared to the batch update (0.115000). Check your callbacks.\n",
      "1012/1563 [==================>...........] - ETA: 1:58 - loss: 0.4080 - accuracy: 0.8696WARNING:tensorflow:Method (on_train_batch_end) is slow compared to the batch update (0.135483). Check your callbacks.\n",
      "1013/1563 [==================>...........] - ETA: 1:58 - loss: 0.4082 - accuracy: 0.8695WARNING:tensorflow:Method (on_train_batch_end) is slow compared to the batch update (0.132496). Check your callbacks.\n",
      "1014/1563 [==================>...........] - ETA: 1:58 - loss: 0.4083 - accuracy: 0.8694WARNING:tensorflow:Method (on_train_batch_end) is slow compared to the batch update (0.115011). Check your callbacks.\n",
      "1048/1563 [===================>..........] - ETA: 1:51 - loss: 0.4091 - accuracy: 0.8692 ETA: 1:51 - loss: 0.4091 - accuracy: 0. - ETA: 1:51 - loss: 0.4092 - accuracy: 0.WARNING:tensorflow:Method (on_train_batch_end) is slow compared to the batch update (0.163836). Check your callbacks.\n",
      "1337/1563 [========================>.....] - ETA: 46s - loss: 0.4121 - accuracy: 0.8685- ETA: 54s - loss: 0.4105 - accuracy: - ETA: 52s - loss: 0.4110 - accu - ETA: 50s - loss: 0.4106 - accuracy: 0.869 - ETA: 50s - loss: 0.4107 - ac - ETA: 47s - loss: 0.4116 - accuracy:WARNING:tensorflow:Method (on_train_batch_end) is slow compared to the batch update (0.143523). Check your callbacks.\n",
      "1339/1563 [========================>.....] - ETA: 45s - loss: 0.4120 - accuracy: 0.8686WARNING:tensorflow:Method (on_train_batch_end) is slow compared to the batch update (0.141002). Check your callbacks.\n",
      "1340/1563 [========================>.....] - ETA: 45s - loss: 0.4121 - accuracy: 0.8686WARNING:tensorflow:Method (on_train_batch_end) is slow compared to the batch update (0.127014). Check your callbacks.\n",
      "1341/1563 [========================>.....] - ETA: 45s - loss: 0.4120 - accuracy: 0.8686WARNING:tensorflow:Method (on_train_batch_end) is slow compared to the batch update (0.116025). Check your callbacks.\n",
      "1563/1563 [==============================] - 305s 195ms/step - loss: 0.4158 - accuracy: 0.866727s - loss: - - ETA: 7s - l\n",
      "Epoch 46/50\n",
      " 211/1563 [===>..........................] - ETA: 3:36 - loss: 0.3871 - accuracy: 0.8795 ETA: 3:20 - loss: 0.3856 - accuracy: 0. - ETA: 3:31 - loss: 0.3866 - accuracy: 0. - ETA: 3:40 - loss: 0.3871 - accuracy: 0.87 - ETA: 3:46 - loss: 0.3871 - accuracy: 0.87 - ETA: 3:48 - loss: 0.3874 - accuracy: 0.8793WARNING:tensorflow:Method (on_train_batch_end) is slow compared to the batch update (0.284346). Check your callbacks.\n",
      " 217/1563 [===>..........................] - ETA: 4:09 - loss: 0.3884 - accuracy: 0.8792 ETA: 3:59 - loss: 0.3881 - accuracyWARNING:tensorflow:Method (on_train_batch_end) is slow compared to the batch update (0.284324). Check your callbacks.\n",
      " 243/1563 [===>..........................] - ETA: 4:38 - loss: 0.3846 - accuracy: 0.8807WARNING:tensorflow:Method (on_train_batch_end) is slow compared to the batch update (0.123968). Check your callbacks.\n",
      " 244/1563 [===>..........................] - ETA: 4:37 - loss: 0.3846 - accuracy: 0.8806WARNING:tensorflow:Method (on_train_batch_end) is slow compared to the batch update (0.114507). Check your callbacks.\n",
      " 245/1563 [===>..........................] - ETA: 4:36 - loss: 0.3849 - accuracy: 0.8805WARNING:tensorflow:Method (on_train_batch_end) is slow compared to the batch update (0.114507). Check your callbacks.\n",
      " 337/1563 [=====>........................] - ETA: 4:14 - loss: 0.3828 - accuracy: 0.8792 ETA: 4:10 - loss: 0.3824 - accuracy: 0.87 - ETA: 4:12 - loss: 0.3821 - accuracy: WARNING:tensorflow:Method (on_train_batch_end) is slow compared to the batch update (0.118521). Check your callbacks.\n",
      " 339/1563 [=====>........................] - ETA: 4:13 - loss: 0.3827 - accuracy: 0.8791WARNING:tensorflow:Method (on_train_batch_end) is slow compared to the batch update (0.118521). Check your callbacks.\n",
      " 866/1563 [===============>..............] - ETA: 1:48 - loss: 0.3921 - accuracy: 0.8758 ETA: 1:48 - loss: 0.3918 - accuracy: 0.87WARNING:tensorflow:Method (on_train_batch_end) is slow compared to the batch update (0.169501). Check your callbacks.\n",
      " 871/1563 [===============>..............] - ETA: 1:49 - loss: 0.3923 - accuracy: 0.8756 ETA: 1:49 - loss: 0.3921 - accuracy: WARNING:tensorflow:Method (on_train_batch_end) is slow compared to the batch update (0.172504). Check your callbacks.\n",
      " 872/1563 [===============>..............] - ETA: 1:48 - loss: 0.3922 - accuracy: 0.8756WARNING:tensorflow:Method (on_train_batch_end) is slow compared to the batch update (0.114499). Check your callbacks.\n",
      " 942/1563 [=================>............] - ETA: 1:42 - loss: 0.3930 - accuracy: 0.8748 ETA: 1:42 - loss: 0.3931 - accuracy: 0. - ETA: 1:42 - loss: 0.3930 - accuracy: 0. - ETA: 1:42 - loss: 0.3933 - accuraWARNING:tensorflow:Method (on_train_batch_end) is slow compared to the batch update (0.125511). Check your callbacks.\n",
      " 944/1563 [=================>............] - ETA: 1:42 - loss: 0.3926 - accuracy: 0.8749WARNING:tensorflow:Method (on_train_batch_end) is slow compared to the batch update (0.125511). Check your callbacks.\n",
      "1293/1563 [=======================>......] - ETA: 44s - loss: 0.3939 - accuracy: 0.8746- ETA: 44s - loss: 0.3939 - accuracy: 0WARNING:tensorflow:Method (on_train_batch_end) is slow compared to the batch update (0.135509). Check your callbacks.\n"
     ]
    },
    {
     "name": "stdout",
     "output_type": "stream",
     "text": [
      "1563/1563 [==============================] - 244s 156ms/step - loss: 0.3954 - accuracy: 0.8732\n",
      "Epoch 47/50\n",
      " 322/1563 [=====>........................] - ETA: 3:17 - loss: 0.3486 - accuracy: 0.8926 ETA: 3:09 - loss: 0.3491 - accuracy:  - ETA: 3:16 - loss: 0.3484 - accuracy: 0.WARNING:tensorflow:Method (on_train_batch_end) is slow compared to the batch update (0.219721). Check your callbacks.\n",
      " 323/1563 [=====>........................] - ETA: 3:17 - loss: 0.3487 - accuracy: 0.8925WARNING:tensorflow:Method (on_train_batch_end) is slow compared to the batch update (0.196230). Check your callbacks.\n",
      " 324/1563 [=====>........................] - ETA: 3:17 - loss: 0.3485 - accuracy: 0.8925WARNING:tensorflow:Method (on_train_batch_end) is slow compared to the batch update (0.162014). Check your callbacks.\n",
      " 432/1563 [=======>......................] - ETA: 3:01 - loss: 0.3558 - accuracy: 0.8880 ETA: 2:56 - loss: 0.3513 - ac - ETA: 2:55 - loss: 0.3536 - accu - ETA: 2:56 - loss: 0.3547 - accuWARNING:tensorflow:Method (on_train_batch_end) is slow compared to the batch update (0.115487). Check your callbacks.\n",
      " 433/1563 [=======>......................] - ETA: 3:01 - loss: 0.3559 - accuracy: 0.8881WARNING:tensorflow:Method (on_train_batch_end) is slow compared to the batch update (0.115487). Check your callbacks.\n",
      " 434/1563 [=======>......................] - ETA: 3:01 - loss: 0.3563 - accuracy: 0.8879WARNING:tensorflow:Method (on_train_batch_end) is slow compared to the batch update (0.115487). Check your callbacks.\n",
      " 435/1563 [=======>......................] - ETA: 3:00 - loss: 0.3566 - accuracy: 0.8877WARNING:tensorflow:Method (on_train_batch_end) is slow compared to the batch update (0.112003). Check your callbacks.\n",
      "1151/1563 [=====================>........] - ETA: 1:06 - loss: 0.3695 - accuracy: 0.8845 ETA: 2:24 - loss: 0.3633 - accura - ETA: 2:23 - los - ETA:  - - E - - ETA: 1:14 - - ETA: 1:WARNING:tensorflow:Method (on_train_batch_end) is slow compared to the batch update (0.130874). Check your callbacks.\n",
      "1152/1563 [=====================>........] - ETA: 1:06 - loss: 0.3696 - accuracy: 0.8845WARNING:tensorflow:Method (on_train_batch_end) is slow compared to the batch update (0.130874). Check your callbacks.\n",
      "1153/1563 [=====================>........] - ETA: 1:05 - loss: 0.3696 - accuracy: 0.8845WARNING:tensorflow:Method (on_train_batch_end) is slow compared to the batch update (0.112009). Check your callbacks.\n",
      "1215/1563 [======================>.......] - ETA: 57s - loss: 0.3711 - accuracy: 0.8838  ETA: 1:05 - loss: - ETA: 1:03 - loss: 0.3707 -WARNING:tensorflow:Method (on_train_batch_end) is slow compared to the batch update (0.113004). Check your callbacks.\n",
      "1216/1563 [======================>.......] - ETA: 57s - loss: 0.3711 - accuracy: 0.8838WARNING:tensorflow:Method (on_train_batch_end) is slow compared to the batch update (0.113004). Check your callbacks.\n",
      "1217/1563 [======================>.......] - ETA: 57s - loss: 0.3711 - accuracy: 0.8838WARNING:tensorflow:Method (on_train_batch_end) is slow compared to the batch update (0.106992). Check your callbacks.\n",
      "1218/1563 [======================>.......] - ETA: 57s - loss: 0.3711 - accuracy: 0.8838WARNING:tensorflow:Method (on_train_batch_end) is slow compared to the batch update (0.106992). Check your callbacks.\n",
      "1291/1563 [=======================>......] - ETA: 49s - loss: 0.3726 - accuracy: 0.8830- ETA: 53s - loss: 0.3717 - accuracy: 0.883 - ETA: 53s - ETA: 50s - loss: 0.3725 - accuracy: 0.883 - ETA: 50s - loss: 0.3726 - accuracy: - ETA: 49s - loss: 0.3728 - accuracy: 0.8 - ETA: 49s - loss: 0.3727 - accuracy: 0.WARNING:tensorflow:Method (on_train_batch_end) is slow compared to the batch update (0.212838). Check your callbacks.\n",
      "1292/1563 [=======================>......] - ETA: 49s - loss: 0.3724 - accuracy: 0.8830WARNING:tensorflow:Method (on_train_batch_end) is slow compared to the batch update (0.212838). Check your callbacks.\n",
      "1293/1563 [=======================>......] - ETA: 49s - loss: 0.3724 - accuracy: 0.8830WARNING:tensorflow:Method (on_train_batch_end) is slow compared to the batch update (0.212838). Check your callbacks.\n",
      "1456/1563 [==========================>...] - ETA: 19s - loss: 0.3765 - accuracy: 0.8809- ETA: 25s - loss - ETA: 20s - loss: 0.3765 - accuracy: 0.880 - ETA: 20s - loss: 0.3765 - accuracy: 0.88 - ETA: 20s - loss: 0.3765 - accuracy: 0.8 - ETA: 19s - loss: 0.3765 - accuracy: 0.8WARNING:tensorflow:Method (on_train_batch_end) is slow compared to the batch update (0.270870). Check your callbacks.\n",
      "1459/1563 [===========================>..] - ETA: 18s - loss: 0.3765 - accuracy: 0.8810WARNING:tensorflow:Method (on_train_batch_end) is slow compared to the batch update (0.242351). Check your callbacks.\n",
      "1462/1563 [===========================>..] - ETA: 18s - loss: 0.3766 - accuracy: 0.8809WARNING:tensorflow:Method (on_train_batch_end) is slow compared to the batch update (0.165366). Check your callbacks.\n",
      "1463/1563 [===========================>..] - ETA: 18s - loss: 0.3765 - accuracy: 0.8809WARNING:tensorflow:Method (on_train_batch_end) is slow compared to the batch update (0.159372). Check your callbacks.\n",
      "1464/1563 [===========================>..] - ETA: 18s - loss: 0.3764 - accuracy: 0.8810WARNING:tensorflow:Method (on_train_batch_end) is slow compared to the batch update (0.137504). Check your callbacks.\n",
      "1476/1563 [===========================>..] - ETA: 16s - loss: 0.3768 - accuracy: 0.8808- ETA: 17s - loss: 0.3766 - accuracy: 0.88 - ETA: 17s - loss: 0.3768 - accuracy: 0.88 - ETA: 16s - loss: 0.3767 - accuracy: 0.8WARNING:tensorflow:Method (on_train_batch_end) is slow compared to the batch update (0.131501). Check your callbacks.\n",
      "1477/1563 [===========================>..] - ETA: 16s - loss: 0.3768 - accuracy: 0.8808WARNING:tensorflow:Method (on_train_batch_end) is slow compared to the batch update (0.131501). Check your callbacks.\n",
      "1504/1563 [===========================>..] - ETA: 11s - loss: 0.3771 - accuracy: 0.8806- ETA: 14s - loss: 0.3768 - accurac - ETA: 12s - loss: 0.3766 - accuracy: 0.880 - ETA: 12s - loss: 0.3766 - accuracy:WARNING:tensorflow:Method (on_train_batch_end) is slow compared to the batch update (0.177003). Check your callbacks.\n",
      "1505/1563 [===========================>..] - ETA: 11s - loss: 0.3770 - accuracy: 0.8806WARNING:tensorflow:Method (on_train_batch_end) is slow compared to the batch update (0.145996). Check your callbacks.\n",
      "1563/1563 [==============================] - 302s 193ms/step - loss: 0.3781 - accuracy: 0.8802 - loss: 0.3783 - accuracy\n",
      "Epoch 48/50\n",
      "   6/1563 [..............................] - ETA: 17:38 - loss: 0.3265 - accuracy: 0.8958A: 4:39 - loss: 0.3078 - accuracy: 0.90 - ETA: 15:02 - loss: 0.2807 - accuracy: 0.91 - ETA: 17:39 - loss: 0.3414 - accuracy: 0.893WARNING:tensorflow:Method (on_train_batch_end) is slow compared to the batch update (0.293243). Check your callbacks.\n",
      "  12/1563 [..............................] - ETA: 17:09 - loss: 0.3096 - accuracy: 0.9115WARNING:tensorflow:Method (on_train_batch_end) is slow compared to the batch update (0.272237). Check your callbacks.\n",
      "  14/1563 [..............................] - ETA: 18:31 - loss: 0.3031 - accuracy: 0.9107WARNING:tensorflow:Method (on_train_batch_end) is slow compared to the batch update (0.207011). Check your callbacks.\n",
      "  15/1563 [..............................] - ETA: 17:46 - loss: 0.3040 - accuracy: 0.9083WARNING:tensorflow:Method (on_train_batch_end) is slow compared to the batch update (0.196506). Check your callbacks.\n",
      "  16/1563 [..............................] - ETA: 17:06 - loss: 0.3307 - accuracy: 0.8984WARNING:tensorflow:Method (on_train_batch_end) is slow compared to the batch update (0.171491). Check your callbacks.\n",
      " 599/1563 [==========>...................] - ETA: 3:35 - loss: 0.3571 - accuracy: 0.8870 ETA: 3:41 - loss: 0.3 - ETA: 3:33 - loss: 0.3555 - accuracy: 0.88 - ETA: 3:35 - loss: 0.3559 - accuracy: 0.WARNING:tensorflow:Method (on_train_batch_end) is slow compared to the batch update (0.141867). Check your callbacks.\n"
     ]
    },
    {
     "name": "stdout",
     "output_type": "stream",
     "text": [
      " 711/1563 [============>.................] - ETA: 3:10 - loss: 0.3575 - accuracy: 0.8861WARNING:tensorflow:Method (on_train_batch_end) is slow compared to the batch update (0.214222). Check your callbacks.\n",
      " 712/1563 [============>.................] - ETA: 3:10 - loss: 0.3576 - accuracy: 0.8860WARNING:tensorflow:Method (on_train_batch_end) is slow compared to the batch update (0.214222). Check your callbacks.\n",
      " 713/1563 [============>.................] - ETA: 3:09 - loss: 0.3579 - accuracy: 0.8860WARNING:tensorflow:Method (on_train_batch_end) is slow compared to the batch update (0.196189). Check your callbacks.\n",
      " 714/1563 [============>.................] - ETA: 3:09 - loss: 0.3577 - accuracy: 0.8859WARNING:tensorflow:Method (on_train_batch_end) is slow compared to the batch update (0.163239). Check your callbacks.\n",
      " 745/1563 [=============>................] - ETA: 3:06 - loss: 0.3565 - accuracy: 0.8863 ETA:  - ETA: 3:05 - loss: 0.3565 - accuracy:  - ETA: 3:06 - loss: 0.3562 - accura - ETA: 3:06 - loss: 0.3566 - accuracy: 0.8862WARNING:tensorflow:Method (on_train_batch_end) is slow compared to the batch update (0.167541). Check your callbacks.\n",
      " 746/1563 [=============>................] - ETA: 3:06 - loss: 0.3565 - accuracy: 0.8863WARNING:tensorflow:Method (on_train_batch_end) is slow compared to the batch update (0.139011). Check your callbacks.\n",
      " 747/1563 [=============>................] - ETA: 3:05 - loss: 0.3566 - accuracy: 0.8863WARNING:tensorflow:Method (on_train_batch_end) is slow compared to the batch update (0.118984). Check your callbacks.\n",
      " 879/1563 [===============>..............] - ETA: 2:56 - loss: 0.3588 - accuracy: 0.8857 ETA: 3:04 - - ETA: 3:00 - loss: 0.3562 - accuracy: 0.88 - ETA: 3:00 - loss: 0.3561  - ETA: 2:52 - loss: 0.3571 - accuracy:  - ETA: 2:54 - loss: 0.3587 - accuracy:  - ETA: 2:54 - loss: 0.3583 - accuracy: 0. - ETA: 2:55 - loss: 0.3587 - accuracy: 0.88 - ETA: 2:55 - loss: 0.3588 - accuracy: 0.88 - ETA: 2:56 - loss: 0.3589 - accuracy: 0.88WARNING:tensorflow:Method (on_train_batch_end) is slow compared to the batch update (0.318480). Check your callbacks.\n",
      " 884/1563 [===============>..............] - ETA: 2:57 - loss: 0.3589 - accuracy: 0.8856 ETA: 2:57 - loss: 0.3589 - accuracy: 0. - ETA: 2:57 - loss: 0.3590 - accuracy: 0.88WARNING:tensorflow:Method (on_train_batch_end) is slow compared to the batch update (0.381432). Check your callbacks.\n",
      " 896/1563 [================>.............] - ETA: 3:03 - loss: 0.3581 - accuracy: 0.8861 ETA: 2:58 - loss: 0.3588 - accuracy:  - ETA: 3:00 - loss: 0.3587 - accuracy: 0. - ETA: 3:01 - loss: 0.3583 - accuracy: 0. - ETA: 3:02 - loss: 0.3582 - accuracy: 0.88 - ETA: 3:02 - loss: 0.3581 - accuracy: 0.WARNING:tensorflow:Method (on_train_batch_end) is slow compared to the batch update (0.444996). Check your callbacks.\n",
      " 897/1563 [================>.............] - ETA: 3:03 - loss: 0.3580 - accuracy: 0.8861WARNING:tensorflow:Method (on_train_batch_end) is slow compared to the batch update (0.444996). Check your callbacks.\n",
      " 898/1563 [================>.............] - ETA: 3:03 - loss: 0.3580 - accuracy: 0.8861WARNING:tensorflow:Method (on_train_batch_end) is slow compared to the batch update (0.444996). Check your callbacks.\n",
      " 904/1563 [================>.............] - ETA: 3:04 - loss: 0.3576 - accuracy: 0.8863 ETA: 3:04 - loss: 0.3579 - accuracyWARNING:tensorflow:Method (on_train_batch_end) is slow compared to the batch update (0.169526). Check your callbacks.\n",
      " 920/1563 [================>.............] - ETA: 3:03 - loss: 0.3574 - accuracy: 0.8864 ETA: 3:03 - loss: 0.3570 - accuracy: 0. - ETA: 3:03 - loss: 0.3568 - ac - ETA: 3:03 - loss: 0.3575 - accuracy: 0.WARNING:tensorflow:Method (on_train_batch_end) is slow compared to the batch update (0.172718). Check your callbacks.\n",
      " 921/1563 [================>.............] - ETA: 3:03 - loss: 0.3573 - accuracy: 0.8865WARNING:tensorflow:Method (on_train_batch_end) is slow compared to the batch update (0.167027). Check your callbacks.\n",
      " 922/1563 [================>.............] - ETA: 3:02 - loss: 0.3571 - accuracy: 0.8866WARNING:tensorflow:Method (on_train_batch_end) is slow compared to the batch update (0.167027). Check your callbacks.\n",
      " 923/1563 [================>.............] - ETA: 3:02 - loss: 0.3570 - accuracy: 0.8866WARNING:tensorflow:Method (on_train_batch_end) is slow compared to the batch update (0.167027). Check your callbacks.\n",
      "1124/1563 [====================>.........] - ETA: 2:14 - loss: 0.3537 - accuracy: 0.8884 ETA: 2:51 - loss: - E - ETA: 2:26 - loss: 0.3524 - accuracy: 0.88 - ETA: 2:26 - loss: 0.3523 - accu - ETA: 2:25 - loss: 0.3522 - accuracy: 0.88 - ETA: 2:26 - loss: 0.3522 - accura - ETA: 2:25 - loss: 0.3522 - accuracy: 0.88 - ETA: 2:25 - ETA: 2:16 - loss: 0.3526 - accuracy: 0.88 - ETA: 2:16 - loss: - ETA: 2:13 - loss: 0.3533 - accuracy:  - ETA: 2:13 - loss: 0.3533 - accuracy:  - ETA: 2:14 - loss: 0.3535 - accuracy: 0.88 - ETA: 2:14 - loss: 0.3537 - accuracy: 0.88 - ETA: 2:14 - loss: 0.3536 - accuracy: WARNING:tensorflow:Method (on_train_batch_end) is slow compared to the batch update (0.357857). Check your callbacks.\n",
      "1291/1563 [=======================>......] - ETA: 1:20 - loss: 0.3551 - accuracy: 0.8881 ETA: 2:11 - loss: 0.3536 - accuracy: 0. - ETA: 2:11 - loss: 0.3 - ETA - ETA: 1:22 - loss: 0.3552 - accuracy: 0.88 - ETA: 1:22 - loss: 0.3552 - accuracy: 0.88 - ETA: 1:22 - loss: 0.3551 - accura - ETA: 1:21 - loss: 0.3553 - accuracy: WARNING:tensorflow:Method (on_train_batch_end) is slow compared to the batch update (0.141522). Check your callbacks.\n",
      "1292/1563 [=======================>......] - ETA: 1:20 - loss: 0.3550 - accuracy: 0.8882WARNING:tensorflow:Method (on_train_batch_end) is slow compared to the batch update (0.135186). Check your callbacks.\n",
      "1293/1563 [=======================>......] - ETA: 1:19 - loss: 0.3552 - accuracy: 0.8880WARNING:tensorflow:Method (on_train_batch_end) is slow compared to the batch update (0.108694). Check your callbacks.\n",
      " 263/1563 [====>.........................] - ETA: 8:03 - loss: 0.3373 - accuracy: 0.8982 ETA: 54s - loss: 0.3564  - ETA: 10:38 -  - ETA: 8:58  - ETA: 7:16 - loss: - ETA: 6:54 - loss: 0.3410 - accuracy: 0. - ETA: 6:50 - loss: 0.3406 -  - ETA: 6:44 - loss: 0.338 - ETA: 7:13 - loss: 0.3392 - accuracy: 0. - ETA: 7:24 - loss: 0.3385 - accuracy: 0.89 - ETA: 7:27 - loss: 0.3379 - accuracy: 0. - ETA: 7:36 - loss: 0.3373 - accuracy: 0.89 - ETA: 7:38 - loss: 0.3370 - accuracy: 0. - ETA: 7:50 - loss: 0.3372 - accuracy: 0.89 - ETA: 7:56 - loss: 0.3372 - accuracy: 0.89 - ETA: 8:02 - loss: 0.3369 - accuracy: 0.WARNING:tensorflow:Method (on_train_batch_end) is slow compared to the batch update (0.322449). Check your callbacks.\n",
      " 283/1563 [====>.........................] - ETA: 8:38 - loss: 0.3349 - accuracy: 0.8992 ETA: 8:10 - loss: 0.3356 - accuracy: 0. - ETA: 8:18 - loss: 0.3362 - accuracy: 0.89 - ETA: 8:19 - loss: 0.3362 - accuracy: 0.89 - ETA: 8:26 - loss: 0.3359 - accuracy - ETA: 8:28 - loss: 0.3350 - accuracy:  - ETA: 8:39 - loss: 0.3351 - accuracy: 0.8991WARNING:tensorflow:Method (on_train_batch_end) is slow compared to the batch update (0.366472). Check your callbacks.\n",
      " 288/1563 [====>.........................] - ETA: 8:42 - loss: 0.3349 - accuracy: 0.89 - ETA: 8:44 - loss: 0.3352 - accuracy: 0.89 - ETA: 8:48 - loss: 0.3347 - accuracy: 0.89 - ETA: 8:52 - loss: 0.3345 - accuracy: 0.89 - ETA: 8:53 - loss: 0.3342 - accuracy: 0.8993WARNING:tensorflow:Method (on_train_batch_end) is slow compared to the batch update (0.395818). Check your callbacks.\n",
      " 293/1563 [====>.........................] - ETA: 8:59 - loss: 0.3349 - accuracy: 0.89 - ETA: 9:00 - loss: 0.3356 - accuracy: 0.89 - ETA: 9:01 - loss: 0.3354 - accuracy: 0.8989WARNING:tensorflow:Method (on_train_batch_end) is slow compared to the batch update (0.364001). Check your callbacks.\n",
      " 296/1563 [====>.........................] - ETA: 9:05 - loss: 0.3350 - accuracy: 0.8991WARNING:tensorflow:Method (on_train_batch_end) is slow compared to the batch update (0.227502). Check your callbacks.\n"
     ]
    },
    {
     "name": "stdout",
     "output_type": "stream",
     "text": [
      " 319/1563 [=====>........................] - ETA: 8:57 - loss: 0.3345 - accuracy: 0.8984 ETA: 8:52 - loss: 0.3352 - accuracy: 0.89 - ETA: 8:54 - loss: 0.3353 - accuracy - ETA: 8:53 - loss: 0.3344 - accuracy: 0.WARNING:tensorflow:Method (on_train_batch_end) is slow compared to the batch update (0.250572). Check your callbacks.\n",
      " 320/1563 [=====>........................] - ETA: 8:56 - loss: 0.3347 - accuracy: 0.8984WARNING:tensorflow:Method (on_train_batch_end) is slow compared to the batch update (0.250572). Check your callbacks.\n",
      " 376/1563 [======>.......................] - ETA: 8:51 - loss: 0.3332 - accuracy: 0.8995 ETA: 8:40 - loss: 0.3335 - accuracy: 0. - ETA: 8:42 - loss: 0.3334 - accu - ETA: 8:43 - loss: 0.3329 - accuracy: 0. - ETA: 8:45 - loss: 0.3332 - accuracy - ETA: 8:49 - loss: 0.3332 - accuracy: 0.WARNING:tensorflow:Method (on_train_batch_end) is slow compared to the batch update (0.363495). Check your callbacks.\n",
      " 535/1563 [=========>....................] - ETA: 7:22 - loss: 0.3333 - accuracy: 0.8987 ETA: 7:23 - loss: 0.3338 - ac - ETA: 7:21 - loss: 0.3333 - accuracy: 0.89 - ETA: 7:21 - loss: 0.3335 - accuracy:  - ETA: 7:22 - loss: 0.3333 - accuraWARNING:tensorflow:Method (on_train_batch_end) is slow compared to the batch update (0.218551). Check your callbacks.\n",
      " 538/1563 [=========>....................] - ETA: 7:20 - loss: 0.3334 - accuracy: 0.8986WARNING:tensorflow:Method (on_train_batch_end) is slow compared to the batch update (0.108077). Check your callbacks.\n",
      " 601/1563 [==========>...................] - ETA: 6:34 - loss: 0.3329 - accuracy: 0.8982 ETA: 6:41 - loss:WARNING:tensorflow:Method (on_train_batch_end) is slow compared to the batch update (0.132497). Check your callbacks.\n",
      " 602/1563 [==========>...................] - ETA: 6:33 - loss: 0.3329 - accuracy: 0.8981WARNING:tensorflow:Method (on_train_batch_end) is slow compared to the batch update (0.132497). Check your callbacks.\n",
      " 603/1563 [==========>...................] - ETA: 6:32 - loss: 0.3332 - accuracy: 0.8981WARNING:tensorflow:Method (on_train_batch_end) is slow compared to the batch update (0.104487). Check your callbacks.\n",
      " 812/1563 [==============>...............] - ETA: 4:50 - loss: 0.3390 - accuracy: 0.8953 ETA: 5: - ETA: 5:21 - loss: 0.3362 - accu - ETA: 5:08 - los - ETA:  - ETA: 4:47 - loss: 0.3384 - accuracy: 0.89 - ETA: 4:47 - loss: 0.3382 - accuracy: 0.89 - ETA: 4:47 - loss: 0.3385 - accuracy: 0.89 - ETA: 4:47 - loss: 0.3385 - accuracy - ETA: 4:48 - loss: 0.3384 - accuracy: 0. - ETA: 4:48 - loss: 0.3386 - accuracy: 0. - ETA: 4:49 - loss: 0.3391 - accura - ETA: 4:50 - loss: 0.3393 - accuracy:  - ETA: 4:50 - loss: 0.3392 - accuracy: 0.89WARNING:tensorflow:Method (on_train_batch_end) is slow compared to the batch update (0.251004). Check your callbacks.\n",
      " 823/1563 [==============>...............] - ETA: 4:48 - loss: 0.3393 - accuracy: 0.8953 ETA: 4:49 - loss: 0.3392 - accu - ETA: 4:49 - loss: 0.3394 - accuracy: WARNING:tensorflow:Method (on_train_batch_end) is slow compared to the batch update (0.195028). Check your callbacks.\n",
      " 826/1563 [==============>...............] - ETA: 4:48 - loss: 0.3394 - accuracy: 0.8953WARNING:tensorflow:Method (on_train_batch_end) is slow compared to the batch update (0.166474). Check your callbacks.\n",
      " 876/1563 [===============>..............] - ETA: 4:36 - loss: 0.3406 - accuracy: 0.8947 ETA: 4:43 - ETA: 4:40 - loss: 0.3403 -  - ETA: 4:38 - loss: 0.3409 - accuracy: 0.89 - ETA: 4:38 - loss: 0.3412 - accura - ETA: 4:36 - loss: 0.3412 - accuracy: 0. - ETA: 4:36 - loss: 0.3411 - accuracy: 0. - ETA: 4:35 - loss: 0.3407 - accuracy: 0. - ETA: 4:35 - loss: 0.3407 - accuracy: 0.8946WARNING:tensorflow:Method (on_train_batch_end) is slow compared to the batch update (0.323025). Check your callbacks.\n",
      " 891/1563 [================>.............] - ETA: 4:36 - loss: 0.3396 - accuracy: 0.8950 ETA: 4:36 - loss: 0.3402 - accuracy: 0.89 - ETA: 4:36 - loss: 0.3403 - accuracy: 0.89 - ETA: 4:36 - loss: 0.3402 - accuracy: 0.89 - ETA: 4:36 - loss: 0.3401 - accuracy: 0.89 - ETA: 4:36 - loss: 0.3401 - accuracy: 0.89 - ETA: 4:36 - loss: 0.3400 - accuracy: 0.89 - ETA: 4:36 - loss: 0.3398 - accuracy: 0.89 - ETA: 4:35 - loss: 0.3398 - accuracy: 0.89 - ETA: 4:35 - loss: 0.3398 - accuracy: 0.WARNING:tensorflow:Method (on_train_batch_end) is slow compared to the batch update (0.311088). Check your callbacks.\n",
      " 892/1563 [================>.............] - ETA: 4:35 - loss: 0.3395 - accuracy: 0.8950WARNING:tensorflow:Method (on_train_batch_end) is slow compared to the batch update (0.311088). Check your callbacks.\n",
      " 894/1563 [================>.............] - ETA: 4:35 - loss: 0.3396 - accuracy: 0.89 - ETA: 4:35 - loss: 0.3396 - accuracy: 0.8950WARNING:tensorflow:Method (on_train_batch_end) is slow compared to the batch update (0.305978). Check your callbacks.\n",
      " 899/1563 [================>.............] - ETA: 4:35 - loss: 0.3403 - accuracy: 0.89 - ETA: 4:35 - loss: 0.3402 - accuracy: 0.8948WARNING:tensorflow:Method (on_train_batch_end) is slow compared to the batch update (0.280851). Check your callbacks.\n",
      " 909/1563 [================>.............] - ETA: 4:32 - loss: 0.3401 - accuracy: 0.8950WARNING:tensorflow:Method (on_train_batch_end) is slow compared to the batch update (0.150517). Check your callbacks.\n",
      " 935/1563 [================>.............] - ETA: 4:23 - loss: 0.3395 - accuracy: 0.8952 ETA: 4:24 - loss: 0.3394 - accuracy: 0.89 - ETA: 4:23 - loss: 0.3397 - accuracy: 0.89 - ETA: 4:23 - loss: 0.3397 - accuracy: 0. - ETA: 4:23 - loss: 0.3398 - accuracy: 0.89 - ETA: 4:23 - loss: 0.3395 - accuracy: 0.89 - ETA: 4:23 - loss: 0.3395 - accuracy: 0.89WARNING:tensorflow:Method (on_train_batch_end) is slow compared to the batch update (0.268516). Check your callbacks.\n",
      " 938/1563 [=================>............] - ETA: 4:23 - loss: 0.3395 - accuracy: 0.89 - ETA: 4:23 - loss: 0.3398 - accuracy: 0.89 - ETA: 4:22 - loss: 0.3397 - accuracy: 0.8951WARNING:tensorflow:Method (on_train_batch_end) is slow compared to the batch update (0.338023). Check your callbacks.\n",
      " 941/1563 [=================>............] - ETA: 4:23 - loss: 0.3394 - accuracy: 0.89 - ETA: 4:23 - loss: 0.3394 - accuracy: 0.8952WARNING:tensorflow:Method (on_train_batch_end) is slow compared to the batch update (0.366019). Check your callbacks.\n",
      " 944/1563 [=================>............] - ETA: 4:22 - loss: 0.3390 - accuracy: 0.8954WARNING:tensorflow:Method (on_train_batch_end) is slow compared to the batch update (0.335004). Check your callbacks.\n",
      " 945/1563 [=================>............] - ETA: 4:21 - loss: 0.3388 - accuracy: 0.8955WARNING:tensorflow:Method (on_train_batch_end) is slow compared to the batch update (0.251525). Check your callbacks.\n",
      " 980/1563 [=================>............] - ETA: 4:04 - loss: 0.3390 - accuracy: 0.8955 ETA: 4:07 - loss: 0.3391 - WARNING:tensorflow:Method (on_train_batch_end) is slow compared to the batch update (0.124492). Check your callbacks.\n",
      " 981/1563 [=================>............] - ETA: 4:03 - loss: 0.3391 - accuracy: 0.8954WARNING:tensorflow:Method (on_train_batch_end) is slow compared to the batch update (0.124492). Check your callbacks.\n",
      " 982/1563 [=================>............] - ETA: 4:02 - loss: 0.3389 - accuracy: 0.8954WARNING:tensorflow:Method (on_train_batch_end) is slow compared to the batch update (0.124492). Check your callbacks.\n",
      " 983/1563 [=================>............] - ETA: 4:02 - loss: 0.3389 - accuracy: 0.8955WARNING:tensorflow:Method (on_train_batch_end) is slow compared to the batch update (0.120486). Check your callbacks.\n",
      "1168/1563 [=====================>........] - ETA: 2:34 - loss: 0.3409 - accuracy: 0.8942 ETA: 2:42 - loss: 0 - ETA: 2:36 - loss: 0.3414 - accuracy: 0. - ETA: 2:36 - loss: 0.3413 - accuracy - ETA: 2:35 - loss: 0.3413 - accuracy: 0.89 - ETA: 2:35 - loss: 0.3413 - accuracy:  - ETA: 2:35 - loss: 0.3410 - accuracy: 0.89 - ETA: 2:35 - loss: 0.3410 - accuracy: WARNING:tensorflow:Method (on_train_batch_end) is slow compared to the batch update (0.291530). Check your callbacks.\n",
      "1169/1563 [=====================>........] - ETA: 2:33 - loss: 0.3408 - accuracy: 0.8942WARNING:tensorflow:Method (on_train_batch_end) is slow compared to the batch update (0.275019). Check your callbacks.\n"
     ]
    },
    {
     "name": "stdout",
     "output_type": "stream",
     "text": [
      "1205/1563 [======================>.......] - ETA: 2:24 - loss: 0.3407 - accuracy: 0.8943 ETA: 2:27 - loss: 0.3401 - accuracy:  - ETA: 2:26 - loss: 0.3401 - accuracy: 0. - ETA: 2:26 - loss: 0.3402 - accuracy: 0.89 - ETA: 2:26 - loss: 0.3402 - accuracy: 0.89 - ETA: 2:26 - loss: 0.3403 - accuracy:  - ETA: 2:25 - loss: 0.3406 - accuracy: 0. - ETA: 2:25 - loss: 0.3407 - accu - ETA: 2:24 - loss: 0.3405 - accuracy: 0.WARNING:tensorflow:Method (on_train_batch_end) is slow compared to the batch update (0.391514). Check your callbacks.\n",
      "1206/1563 [======================>.......] - ETA: 2:24 - loss: 0.3406 - accuracy: 0.8943WARNING:tensorflow:Method (on_train_batch_end) is slow compared to the batch update (0.378894). Check your callbacks.\n",
      "1316/1563 [========================>.....] - ETA: 1:37 - loss: 0.3415 - accuracy: 0.8941 ETA: 1:44 - loss: 0.3416 - accuracy - ETA: 1:42 - loss: 0.3416 - accu - ETA: 1:40 - loss: 0.3412 - accu - ETA: 1:38 - loss: 0.3411 - accuracy: 0. - ETA: 1:38 - loss: 0.3415 - accuracy: 0.89 - ETA: 1:38 - loss: 0.3415 - accuracy: WARNING:tensorflow:Method (on_train_batch_end) is slow compared to the batch update (0.220830). Check your callbacks.\n",
      "1317/1563 [========================>.....] - ETA: 1:36 - loss: 0.3414 - accuracy: 0.8941WARNING:tensorflow:Method (on_train_batch_end) is slow compared to the batch update (0.220830). Check your callbacks.\n",
      "1318/1563 [========================>.....] - ETA: 1:36 - loss: 0.3415 - accuracy: 0.8941WARNING:tensorflow:Method (on_train_batch_end) is slow compared to the batch update (0.220830). Check your callbacks.\n",
      "1319/1563 [========================>.....] - ETA: 1:35 - loss: 0.3415 - accuracy: 0.8941WARNING:tensorflow:Method (on_train_batch_end) is slow compared to the batch update (0.130307). Check your callbacks.\n",
      "1378/1563 [=========================>....] - ETA: 1:11 - loss: 0.3410 - accuracy: 0.8944 ETA: 1:12 - loss: 0.3409 - accuracyWARNING:tensorflow:Method (on_train_batch_end) is slow compared to the batch update (0.111527). Check your callbacks.\n",
      "1379/1563 [=========================>....] - ETA: 1:10 - loss: 0.3413 - accuracy: 0.8943WARNING:tensorflow:Method (on_train_batch_end) is slow compared to the batch update (0.111527). Check your callbacks.\n",
      "1380/1563 [=========================>....] - ETA: 1:10 - loss: 0.3413 - accuracy: 0.8943WARNING:tensorflow:Method (on_train_batch_end) is slow compared to the batch update (0.110888). Check your callbacks.\n",
      "1407/1563 [==========================>...] - ETA: 59s - loss: 0.3413 - accuracy: 0.8940  ETA: 1:06 - loss: 0.3408 - accura - ETA: 1:04 - loss: 0WARNING:tensorflow:Method (on_train_batch_end) is slow compared to the batch update (0.203266). Check your callbacks.\n",
      "1408/1563 [==========================>...] - ETA: 59s - loss: 0.3413 - accuracy: 0.8940WARNING:tensorflow:Method (on_train_batch_end) is slow compared to the batch update (0.197515). Check your callbacks.\n",
      "1409/1563 [==========================>...] - ETA: 59s - loss: 0.3413 - accuracy: 0.8940WARNING:tensorflow:Method (on_train_batch_end) is slow compared to the batch update (0.163990). Check your callbacks.\n",
      "1410/1563 [==========================>...] - ETA: 58s - loss: 0.3411 - accuracy: 0.8940WARNING:tensorflow:Method (on_train_batch_end) is slow compared to the batch update (0.113014). Check your callbacks.\n",
      "1444/1563 [==========================>...] - ETA: 45s - loss: 0.3400 - accuracy: 0.8944- ETA: 54s - loss: 0.3405 - accur - ETA: 49s - loss: 0.3406 - accuracy - ETA: 46s - loss: 0.3403 - accuracy: 0.89 - ETA: 45s - loss: 0.3402 - accuracy: 0.89WARNING:tensorflow:Method (on_train_batch_end) is slow compared to the batch update (0.110012). Check your callbacks.\n",
      "1445/1563 [==========================>...] - ETA: 44s - loss: 0.3400 - accuracy: 0.8944WARNING:tensorflow:Method (on_train_batch_end) is slow compared to the batch update (0.104504). Check your callbacks.\n",
      "1512/1563 [============================>.] - ETA: 19s - loss: 0.3403 - accuracy: 0.8945- ETA: 25s - loss: 0.3406 - accuracy: 0 - ETA: 23s - loss: 0.3405 - accuracy: 0.8 - ETA: 22s - loss: 0.3403 - accuracy: 0. - ETA: 21s - loss: 0.3401 - accuracy: 0.894 - ETA: 21s - loss: 0.3402 - accuracy: 0.894 - ETA: 20s - loss: 0.3401 - accuracy: 0.894 - ETA: 20s - loss: 0.3401 - accuracy: 0.8WARNING:tensorflow:Method (on_train_batch_end) is slow compared to the batch update (0.226161). Check your callbacks.\n",
      "1513/1563 [============================>.] - ETA: 18s - loss: 0.3403 - accuracy: 0.8945WARNING:tensorflow:Method (on_train_batch_end) is slow compared to the batch update (0.226161). Check your callbacks.\n",
      "1514/1563 [============================>.] - ETA: 18s - loss: 0.3405 - accuracy: 0.8944WARNING:tensorflow:Method (on_train_batch_end) is slow compared to the batch update (0.209213). Check your callbacks.\n",
      "1515/1563 [============================>.] - ETA: 18s - loss: 0.3405 - accuracy: 0.8944WARNING:tensorflow:Method (on_train_batch_end) is slow compared to the batch update (0.160617). Check your callbacks.\n",
      "1516/1563 [============================>.] - ETA: 17s - loss: 0.3404 - accuracy: 0.8944WARNING:tensorflow:Method (on_train_batch_end) is slow compared to the batch update (0.115472). Check your callbacks.\n",
      "1563/1563 [==============================] - 582s 372ms/step - loss: 0.3412 - accuracy: 0.8940 - loss: 0.3412 - accuracy\n",
      "Epoch 50/50\n",
      "   1/1563 [..............................] - ETA: 0s - loss: 0.3424 - accuracy: 0.8750WARNING:tensorflow:Method (on_train_batch_end) is slow compared to the batch update (0.589947). Check your callbacks.\n",
      " 151/1563 [=>............................] - ETA: 4:30 - loss: 0.3041 - accuracy: 0.9089 ETA: 4:06 - los - ETA:  - ETA: 4:18 - loss: 0.3048 - accuracy: 0. - ETA: 4:17 - loss: 0.3056 - accu - ETA: 4:26 - loss: 0.3034 - accuracy: 0.WARNING:tensorflow:Method (on_train_batch_end) is slow compared to the batch update (0.112665). Check your callbacks.\n",
      " 156/1563 [=>............................] - ETA: 4:37 - loss: 0.3048 - accuracy: 0.9093WARNING:tensorflow:Method (on_train_batch_end) is slow compared to the batch update (0.127972). Check your callbacks.\n",
      " 157/1563 [==>...........................] - ETA: 4:36 - loss: 0.3053 - accuracy: 0.9088WARNING:tensorflow:Method (on_train_batch_end) is slow compared to the batch update (0.103492). Check your callbacks.\n",
      " 226/1563 [===>..........................] - ETA: 4:42 - loss: 0.3007 - accuracy: 0.9118 ETA: 4:31 - ETA: 4:19 - loss: 0.3043 - accuracy:  - ETA:  - ETA:  - ETA: 4:22 - loss: 0.3016 - accuracy: 0.91 - ETA: 4:27 - loss: 0.3016 - accuracy: 0.91 - ETA: 4:31 - loss: 0.3012 - accuracy: 0.91 - ETA: 4:34 - loss: 0.3007 - accuracy: WARNING:tensorflow:Method (on_train_batch_end) is slow compared to the batch update (0.215591). Check your callbacks.\n",
      " 228/1563 [===>..........................] - ETA: 4:43 - loss: 0.3012 - accuracy: 0.9117WARNING:tensorflow:Method (on_train_batch_end) is slow compared to the batch update (0.215591). Check your callbacks.\n",
      " 229/1563 [===>..........................] - ETA: 4:43 - loss: 0.3013 - accuracy: 0.9117WARNING:tensorflow:Method (on_train_batch_end) is slow compared to the batch update (0.209745). Check your callbacks.\n",
      " 230/1563 [===>..........................] - ETA: 4:43 - loss: 0.3016 - accuracy: 0.9117WARNING:tensorflow:Method (on_train_batch_end) is slow compared to the batch update (0.151995). Check your callbacks.\n",
      " 237/1563 [===>..........................] - ETA: 4:55 - loss: 0.3011 - accuracy: 0.9117 ETA: 4:48 - loss: 0.3015 - accuracy: 0.91 - ETA: 4:52 - loss: 0.3011 - accuracy: WARNING:tensorflow:Method (on_train_batch_end) is slow compared to the batch update (0.130491). Check your callbacks.\n",
      " 238/1563 [===>..........................] - ETA: 4:54 - loss: 0.3017 - accuracy: 0.9112WARNING:tensorflow:Method (on_train_batch_end) is slow compared to the batch update (0.130491). Check your callbacks.\n",
      " 239/1563 [===>..........................] - ETA: 4:53 - loss: 0.3022 - accuracy: 0.9108WARNING:tensorflow:Method (on_train_batch_end) is slow compared to the batch update (0.130491). Check your callbacks.\n"
     ]
    },
    {
     "name": "stdout",
     "output_type": "stream",
     "text": [
      " 267/1563 [====>.........................] - ETA: 5:05 - loss: 0.3094 - accuracy: 0.9072 ETA: 4:49 - loss: 0.3090 - accuracy:  - ETA: 4:59 - loss: 0.3090 - accuracy: 0.90 - ETA: 5:02 - loss: 0.3096 - accuracy: 0. - ETA: 5:06 - loss: 0.3089 - accuracy: 0.9073WARNING:tensorflow:Method (on_train_batch_end) is slow compared to the batch update (0.282867). Check your callbacks.\n",
      "1271/1563 [=======================>......] - ETA: 58s - loss: 0.3150 - accuracy: 0.9031WARNING:tensorflow:Method (on_train_batch_end) is slow compared to the batch update (0.105003). Check your callbacks.\n",
      "1326/1563 [========================>.....] - ETA: 48s - loss: 0.3168 - accuracy: 0.9023- ETA: 56s - lo - ETA: 51s - loss: 0.3160 - accuracy: 0.902 - ETA: 50s - loss: 0.3160 - accuracy: 0.9 - ETA: 50s - loss: 0.3161 - accuracy: 0.90 - ETA: 49s - loss: 0.3163 - accuracy: - ETA: 48s - loss: 0.3168 - accuracy: 0.902 - ETA: 48s - loss: 0.3168 - accuracy: 0.902WARNING:tensorflow:Method (on_train_batch_end) is slow compared to the batch update (0.104026). Check your callbacks.\n",
      "1360/1563 [=========================>....] - ETA: 41s - loss: 0.3177 - accuracy: 0.9020- ETA: 43s - loss: 0.3173 - accuWARNING:tensorflow:Method (on_train_batch_end) is slow compared to the batch update (0.101828). Check your callbacks.\n",
      "1362/1563 [=========================>....] - ETA: 41s - loss: 0.3176 - accuracy: 0.902 - ETA: 41s - loss: 0.3176 - accuracy: 0.9020WARNING:tensorflow:Method (on_train_batch_end) is slow compared to the batch update (0.125991). Check your callbacks.\n",
      "1364/1563 [=========================>....] - ETA: 40s - loss: 0.3175 - accuracy: 0.9021WARNING:tensorflow:Method (on_train_batch_end) is slow compared to the batch update (0.116828). Check your callbacks.\n",
      "1365/1563 [=========================>....] - ETA: 40s - loss: 0.3176 - accuracy: 0.9020WARNING:tensorflow:Method (on_train_batch_end) is slow compared to the batch update (0.114815). Check your callbacks.\n",
      "1366/1563 [=========================>....] - ETA: 40s - loss: 0.3176 - accuracy: 0.9020WARNING:tensorflow:Method (on_train_batch_end) is slow compared to the batch update (0.106820). Check your callbacks.\n",
      "1395/1563 [=========================>....] - ETA: 35s - loss: 0.3177 - accuracy: 0.9018- ETA: 39s - loss: 0.3178 - accurac - ETA: 38s - loss: 0.3180 - accuracy: - ETA: 36s - loss: 0.3178 - accurac - ETA: 35s - loss: 0.3177 - accuracy: 0.901 - ETA: 35s - loss: 0.3177 - accuracy: 0.901WARNING:tensorflow:Method (on_train_batch_end) is slow compared to the batch update (0.218007). Check your callbacks.\n",
      "1396/1563 [=========================>....] - ETA: 34s - loss: 0.3176 - accuracy: 0.9018WARNING:tensorflow:Method (on_train_batch_end) is slow compared to the batch update (0.211490). Check your callbacks.\n",
      "1397/1563 [=========================>....] - ETA: 34s - loss: 0.3178 - accuracy: 0.9017WARNING:tensorflow:Method (on_train_batch_end) is slow compared to the batch update (0.211490). Check your callbacks.\n",
      "1398/1563 [=========================>....] - ETA: 34s - loss: 0.3179 - accuracy: 0.9016WARNING:tensorflow:Method (on_train_batch_end) is slow compared to the batch update (0.171004). Check your callbacks.\n",
      "1399/1563 [=========================>....] - ETA: 34s - loss: 0.3179 - accuracy: 0.9016WARNING:tensorflow:Method (on_train_batch_end) is slow compared to the batch update (0.110992). Check your callbacks.\n",
      "1474/1563 [===========================>..] - ETA: 18s - loss: 0.3191 - accuracy: 0.9010- ETA: 31s - l - ETA: 24s - loss: 0.3185 - accurac - ETA: 22s - loss: 0.3191 - accuracy: 0.9 - ETA: 22s - loss: 0.3193 - a - ETA: 18s - loss: 0.3192 - accuracy: 0.WARNING:tensorflow:Method (on_train_batch_end) is slow compared to the batch update (0.101977). Check your callbacks.\n",
      "1486/1563 [===========================>..] - ETA: 15s - loss: 0.3193 - accuracy: 0.900 - ETA: 15s - loss: 0.3193 - accuracy: 0.9008WARNING:tensorflow:Method (on_train_batch_end) is slow compared to the batch update (0.114007). Check your callbacks.\n",
      "1563/1563 [==============================] - 316s 202ms/step - loss: 0.3207 - accuracy: 0.8998\n"
     ]
    },
    {
     "data": {
      "text/plain": [
       "<tensorflow.python.keras.callbacks.History at 0x2e4d51cca00>"
      ]
     },
     "execution_count": 26,
     "metadata": {},
     "output_type": "execute_result"
    }
   ],
   "source": [
    "# Model\n",
    "\n",
    "model = keras.Sequential([\n",
    "    keras.layers.Flatten(input_shape=(32,32,3)),\n",
    "    keras.layers.Dense(3000, activation='relu'),\n",
    "    keras.layers.Dense(1000, activation='relu'),\n",
    "    keras.layers.Dense(10, activation='sigmoid')\n",
    "])\n",
    "\n",
    "model.compile(optimizer='SGD',\n",
    "              loss='categorical_crossentropy',\n",
    "              metrics=['accuracy'])\n",
    "\n",
    "model.fit(X_train_scaled, y_train_categorical, epochs=50)"
   ]
  },
  {
   "cell_type": "code",
   "execution_count": null,
   "id": "325beef0",
   "metadata": {},
   "outputs": [],
   "source": [
    "classes[np.argmax(model.predict(X_test_scaled)[0])]"
   ]
  },
  {
   "cell_type": "code",
   "execution_count": null,
   "id": "53576e74",
   "metadata": {},
   "outputs": [],
   "source": [
    "classes[y_test[0][0]]"
   ]
  },
  {
   "cell_type": "code",
   "execution_count": null,
   "id": "d2cdd1e1",
   "metadata": {},
   "outputs": [],
   "source": [
    "model.evaluate(X_test_scaled, y_test_categorical)"
   ]
  },
  {
   "cell_type": "code",
   "execution_count": 27,
   "id": "001350e1",
   "metadata": {},
   "outputs": [],
   "source": [
    "def get_model():\n",
    "    model = keras.Sequential([\n",
    "    keras.layers.Flatten(input_shape=(32,32,3)),\n",
    "    keras.layers.Dense(3000, activation='relu'),\n",
    "    keras.layers.Dense(1000, activation='relu'),\n",
    "    keras.layers.Dense(10, activation='sigmoid')\n",
    "    ])\n",
    "\n",
    "    model.compile(optimizer='SGD',\n",
    "              loss='categorical_crossentropy',\n",
    "              metrics=['accuracy'])\n",
    "    return model"
   ]
  },
  {
   "cell_type": "code",
   "execution_count": null,
   "id": "476bc02c",
   "metadata": {},
   "outputs": [],
   "source": [
    "%%timeit -n1 -r1\n",
    "with tf.device('/CPU:0'):\n",
    "    cpu_model = get_model()\n",
    "    cpu_model.fit(X_train_scaled, y_train_categorical, epochs=1)"
   ]
  },
  {
   "cell_type": "code",
   "execution_count": null,
   "id": "d3666d1e",
   "metadata": {},
   "outputs": [],
   "source": [
    "%%timeit -n1 -r1\n",
    "with tf.device('/GPU:0'):\n",
    "    cpu_model = get_model()\n",
    "    cpu_model.fit(X_train_scaled, y_train_categorical, epochs=1)"
   ]
  }
 ],
 "metadata": {
  "kernelspec": {
   "display_name": "Python 3",
   "language": "python",
   "name": "python3"
  },
  "language_info": {
   "codemirror_mode": {
    "name": "ipython",
    "version": 3
   },
   "file_extension": ".py",
   "mimetype": "text/x-python",
   "name": "python",
   "nbconvert_exporter": "python",
   "pygments_lexer": "ipython3",
   "version": "3.8.0"
  }
 },
 "nbformat": 4,
 "nbformat_minor": 5
}
