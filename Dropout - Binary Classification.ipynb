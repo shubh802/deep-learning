{
 "cells": [
  {
   "cell_type": "markdown",
   "id": "1afe1484",
   "metadata": {},
   "source": [
    "### To classify if the sonar signal are bounced back by the metal cylinder(M) or the cylindrical rock(R)"
   ]
  },
  {
   "cell_type": "code",
   "execution_count": 1,
   "id": "caa89fac",
   "metadata": {},
   "outputs": [],
   "source": [
    "import numpy as np\n",
    "import pandas as pd\n",
    "import tensorflow as tf\n",
    "from tensorflow import keras\n",
    "import matplotlib.pyplot as plt\n",
    "%matplotlib inline"
   ]
  },
  {
   "cell_type": "code",
   "execution_count": 2,
   "id": "c220efc8",
   "metadata": {},
   "outputs": [
    {
     "data": {
      "text/html": [
       "<div>\n",
       "<style scoped>\n",
       "    .dataframe tbody tr th:only-of-type {\n",
       "        vertical-align: middle;\n",
       "    }\n",
       "\n",
       "    .dataframe tbody tr th {\n",
       "        vertical-align: top;\n",
       "    }\n",
       "\n",
       "    .dataframe thead th {\n",
       "        text-align: right;\n",
       "    }\n",
       "</style>\n",
       "<table border=\"1\" class=\"dataframe\">\n",
       "  <thead>\n",
       "    <tr style=\"text-align: right;\">\n",
       "      <th></th>\n",
       "      <th>0</th>\n",
       "      <th>1</th>\n",
       "      <th>2</th>\n",
       "      <th>3</th>\n",
       "      <th>4</th>\n",
       "      <th>5</th>\n",
       "      <th>6</th>\n",
       "      <th>7</th>\n",
       "      <th>8</th>\n",
       "      <th>9</th>\n",
       "      <th>...</th>\n",
       "      <th>51</th>\n",
       "      <th>52</th>\n",
       "      <th>53</th>\n",
       "      <th>54</th>\n",
       "      <th>55</th>\n",
       "      <th>56</th>\n",
       "      <th>57</th>\n",
       "      <th>58</th>\n",
       "      <th>59</th>\n",
       "      <th>60</th>\n",
       "    </tr>\n",
       "  </thead>\n",
       "  <tbody>\n",
       "    <tr>\n",
       "      <th>150</th>\n",
       "      <td>0.0209</td>\n",
       "      <td>0.0278</td>\n",
       "      <td>0.0115</td>\n",
       "      <td>0.0445</td>\n",
       "      <td>0.0427</td>\n",
       "      <td>0.0766</td>\n",
       "      <td>0.1458</td>\n",
       "      <td>0.1430</td>\n",
       "      <td>0.1894</td>\n",
       "      <td>0.1853</td>\n",
       "      <td>...</td>\n",
       "      <td>0.0096</td>\n",
       "      <td>0.0014</td>\n",
       "      <td>0.0049</td>\n",
       "      <td>0.0039</td>\n",
       "      <td>0.0029</td>\n",
       "      <td>0.0078</td>\n",
       "      <td>0.0047</td>\n",
       "      <td>0.0021</td>\n",
       "      <td>0.0011</td>\n",
       "      <td>M</td>\n",
       "    </tr>\n",
       "    <tr>\n",
       "      <th>79</th>\n",
       "      <td>0.0108</td>\n",
       "      <td>0.0086</td>\n",
       "      <td>0.0058</td>\n",
       "      <td>0.0460</td>\n",
       "      <td>0.0752</td>\n",
       "      <td>0.0887</td>\n",
       "      <td>0.1015</td>\n",
       "      <td>0.0494</td>\n",
       "      <td>0.0472</td>\n",
       "      <td>0.0393</td>\n",
       "      <td>...</td>\n",
       "      <td>0.0029</td>\n",
       "      <td>0.0078</td>\n",
       "      <td>0.0114</td>\n",
       "      <td>0.0083</td>\n",
       "      <td>0.0058</td>\n",
       "      <td>0.0003</td>\n",
       "      <td>0.0023</td>\n",
       "      <td>0.0026</td>\n",
       "      <td>0.0027</td>\n",
       "      <td>R</td>\n",
       "    </tr>\n",
       "    <tr>\n",
       "      <th>102</th>\n",
       "      <td>0.0587</td>\n",
       "      <td>0.1210</td>\n",
       "      <td>0.1268</td>\n",
       "      <td>0.1498</td>\n",
       "      <td>0.1436</td>\n",
       "      <td>0.0561</td>\n",
       "      <td>0.0832</td>\n",
       "      <td>0.0672</td>\n",
       "      <td>0.1372</td>\n",
       "      <td>0.2352</td>\n",
       "      <td>...</td>\n",
       "      <td>0.0331</td>\n",
       "      <td>0.0111</td>\n",
       "      <td>0.0088</td>\n",
       "      <td>0.0158</td>\n",
       "      <td>0.0122</td>\n",
       "      <td>0.0038</td>\n",
       "      <td>0.0101</td>\n",
       "      <td>0.0228</td>\n",
       "      <td>0.0124</td>\n",
       "      <td>M</td>\n",
       "    </tr>\n",
       "    <tr>\n",
       "      <th>26</th>\n",
       "      <td>0.0151</td>\n",
       "      <td>0.0320</td>\n",
       "      <td>0.0599</td>\n",
       "      <td>0.1050</td>\n",
       "      <td>0.1163</td>\n",
       "      <td>0.1734</td>\n",
       "      <td>0.1679</td>\n",
       "      <td>0.1119</td>\n",
       "      <td>0.0889</td>\n",
       "      <td>0.1205</td>\n",
       "      <td>...</td>\n",
       "      <td>0.0061</td>\n",
       "      <td>0.0015</td>\n",
       "      <td>0.0084</td>\n",
       "      <td>0.0128</td>\n",
       "      <td>0.0054</td>\n",
       "      <td>0.0011</td>\n",
       "      <td>0.0019</td>\n",
       "      <td>0.0023</td>\n",
       "      <td>0.0062</td>\n",
       "      <td>R</td>\n",
       "    </tr>\n",
       "    <tr>\n",
       "      <th>90</th>\n",
       "      <td>0.0126</td>\n",
       "      <td>0.0519</td>\n",
       "      <td>0.0621</td>\n",
       "      <td>0.0518</td>\n",
       "      <td>0.1072</td>\n",
       "      <td>0.2587</td>\n",
       "      <td>0.2304</td>\n",
       "      <td>0.2067</td>\n",
       "      <td>0.3416</td>\n",
       "      <td>0.4284</td>\n",
       "      <td>...</td>\n",
       "      <td>0.0208</td>\n",
       "      <td>0.0048</td>\n",
       "      <td>0.0199</td>\n",
       "      <td>0.0126</td>\n",
       "      <td>0.0022</td>\n",
       "      <td>0.0037</td>\n",
       "      <td>0.0034</td>\n",
       "      <td>0.0114</td>\n",
       "      <td>0.0077</td>\n",
       "      <td>R</td>\n",
       "    </tr>\n",
       "  </tbody>\n",
       "</table>\n",
       "<p>5 rows × 61 columns</p>\n",
       "</div>"
      ],
      "text/plain": [
       "         0       1       2       3       4       5       6       7       8   \\\n",
       "150  0.0209  0.0278  0.0115  0.0445  0.0427  0.0766  0.1458  0.1430  0.1894   \n",
       "79   0.0108  0.0086  0.0058  0.0460  0.0752  0.0887  0.1015  0.0494  0.0472   \n",
       "102  0.0587  0.1210  0.1268  0.1498  0.1436  0.0561  0.0832  0.0672  0.1372   \n",
       "26   0.0151  0.0320  0.0599  0.1050  0.1163  0.1734  0.1679  0.1119  0.0889   \n",
       "90   0.0126  0.0519  0.0621  0.0518  0.1072  0.2587  0.2304  0.2067  0.3416   \n",
       "\n",
       "         9   ...      51      52      53      54      55      56      57  \\\n",
       "150  0.1853  ...  0.0096  0.0014  0.0049  0.0039  0.0029  0.0078  0.0047   \n",
       "79   0.0393  ...  0.0029  0.0078  0.0114  0.0083  0.0058  0.0003  0.0023   \n",
       "102  0.2352  ...  0.0331  0.0111  0.0088  0.0158  0.0122  0.0038  0.0101   \n",
       "26   0.1205  ...  0.0061  0.0015  0.0084  0.0128  0.0054  0.0011  0.0019   \n",
       "90   0.4284  ...  0.0208  0.0048  0.0199  0.0126  0.0022  0.0037  0.0034   \n",
       "\n",
       "         58      59  60  \n",
       "150  0.0021  0.0011   M  \n",
       "79   0.0026  0.0027   R  \n",
       "102  0.0228  0.0124   M  \n",
       "26   0.0023  0.0062   R  \n",
       "90   0.0114  0.0077   R  \n",
       "\n",
       "[5 rows x 61 columns]"
      ]
     },
     "execution_count": 2,
     "metadata": {},
     "output_type": "execute_result"
    }
   ],
   "source": [
    "import warnings\n",
    "warnings.filterwarnings('ignore')\n",
    "\n",
    "df = pd.read_csv('sonar_dataset.csv',header=None)\n",
    "df.sample(5)"
   ]
  },
  {
   "cell_type": "code",
   "execution_count": 3,
   "id": "6c312be2",
   "metadata": {},
   "outputs": [
    {
     "data": {
      "text/plain": [
       "(208, 61)"
      ]
     },
     "execution_count": 3,
     "metadata": {},
     "output_type": "execute_result"
    }
   ],
   "source": [
    "df.shape"
   ]
  },
  {
   "cell_type": "code",
   "execution_count": 4,
   "id": "e0aa3b06",
   "metadata": {},
   "outputs": [
    {
     "data": {
      "text/plain": [
       "0     0\n",
       "1     0\n",
       "2     0\n",
       "3     0\n",
       "4     0\n",
       "     ..\n",
       "56    0\n",
       "57    0\n",
       "58    0\n",
       "59    0\n",
       "60    0\n",
       "Length: 61, dtype: int64"
      ]
     },
     "execution_count": 4,
     "metadata": {},
     "output_type": "execute_result"
    }
   ],
   "source": [
    "# Check any columns is null or not\n",
    "df.isna().sum()"
   ]
  },
  {
   "cell_type": "code",
   "execution_count": 5,
   "id": "64222f57",
   "metadata": {},
   "outputs": [
    {
     "data": {
      "text/plain": [
       "Int64Index([ 0,  1,  2,  3,  4,  5,  6,  7,  8,  9, 10, 11, 12, 13, 14, 15, 16,\n",
       "            17, 18, 19, 20, 21, 22, 23, 24, 25, 26, 27, 28, 29, 30, 31, 32, 33,\n",
       "            34, 35, 36, 37, 38, 39, 40, 41, 42, 43, 44, 45, 46, 47, 48, 49, 50,\n",
       "            51, 52, 53, 54, 55, 56, 57, 58, 59, 60],\n",
       "           dtype='int64')"
      ]
     },
     "execution_count": 5,
     "metadata": {},
     "output_type": "execute_result"
    }
   ],
   "source": [
    "df.columns"
   ]
  },
  {
   "cell_type": "code",
   "execution_count": 6,
   "id": "b0454fa8",
   "metadata": {},
   "outputs": [
    {
     "data": {
      "text/plain": [
       "M    111\n",
       "R     97\n",
       "Name: 60, dtype: int64"
      ]
     },
     "execution_count": 6,
     "metadata": {},
     "output_type": "execute_result"
    }
   ],
   "source": [
    "df[60].value_counts()"
   ]
  },
  {
   "cell_type": "code",
   "execution_count": 7,
   "id": "13f87e5e",
   "metadata": {},
   "outputs": [
    {
     "data": {
      "text/plain": [
       "0    R\n",
       "1    R\n",
       "2    R\n",
       "3    R\n",
       "4    R\n",
       "Name: 60, dtype: object"
      ]
     },
     "execution_count": 7,
     "metadata": {},
     "output_type": "execute_result"
    }
   ],
   "source": [
    "X = df.drop(60, axis='columns')\n",
    "y = df[60]\n",
    "y.head()"
   ]
  },
  {
   "cell_type": "code",
   "execution_count": 8,
   "id": "f601ac7f",
   "metadata": {},
   "outputs": [
    {
     "data": {
      "text/html": [
       "<div>\n",
       "<style scoped>\n",
       "    .dataframe tbody tr th:only-of-type {\n",
       "        vertical-align: middle;\n",
       "    }\n",
       "\n",
       "    .dataframe tbody tr th {\n",
       "        vertical-align: top;\n",
       "    }\n",
       "\n",
       "    .dataframe thead th {\n",
       "        text-align: right;\n",
       "    }\n",
       "</style>\n",
       "<table border=\"1\" class=\"dataframe\">\n",
       "  <thead>\n",
       "    <tr style=\"text-align: right;\">\n",
       "      <th></th>\n",
       "      <th>R</th>\n",
       "    </tr>\n",
       "  </thead>\n",
       "  <tbody>\n",
       "    <tr>\n",
       "      <th>67</th>\n",
       "      <td>1</td>\n",
       "    </tr>\n",
       "    <tr>\n",
       "      <th>141</th>\n",
       "      <td>0</td>\n",
       "    </tr>\n",
       "    <tr>\n",
       "      <th>142</th>\n",
       "      <td>0</td>\n",
       "    </tr>\n",
       "    <tr>\n",
       "      <th>186</th>\n",
       "      <td>0</td>\n",
       "    </tr>\n",
       "    <tr>\n",
       "      <th>200</th>\n",
       "      <td>0</td>\n",
       "    </tr>\n",
       "  </tbody>\n",
       "</table>\n",
       "</div>"
      ],
      "text/plain": [
       "     R\n",
       "67   1\n",
       "141  0\n",
       "142  0\n",
       "186  0\n",
       "200  0"
      ]
     },
     "execution_count": 8,
     "metadata": {},
     "output_type": "execute_result"
    }
   ],
   "source": [
    "y  = pd.get_dummies(y, drop_first=True)\n",
    "y.sample(5) # R --> 1 M --> 0"
   ]
  },
  {
   "cell_type": "code",
   "execution_count": 9,
   "id": "aa0c4be8",
   "metadata": {},
   "outputs": [
    {
     "data": {
      "text/plain": [
       "R\n",
       "0    111\n",
       "1     97\n",
       "dtype: int64"
      ]
     },
     "execution_count": 9,
     "metadata": {},
     "output_type": "execute_result"
    }
   ],
   "source": [
    "y.value_counts()"
   ]
  },
  {
   "cell_type": "code",
   "execution_count": 10,
   "id": "82ebef48",
   "metadata": {},
   "outputs": [],
   "source": [
    "from sklearn.model_selection import train_test_split\n",
    "X_train, X_test, y_train, y_test = train_test_split(X, y, test_size=0.2, random_state=1)"
   ]
  },
  {
   "cell_type": "code",
   "execution_count": 11,
   "id": "6f5d9679",
   "metadata": {},
   "outputs": [
    {
     "data": {
      "text/plain": [
       "((166, 60), (42, 60))"
      ]
     },
     "execution_count": 11,
     "metadata": {},
     "output_type": "execute_result"
    }
   ],
   "source": [
    "X_train.shape, X_test.shape"
   ]
  },
  {
   "cell_type": "code",
   "execution_count": 12,
   "id": "3d3fdab2",
   "metadata": {},
   "outputs": [
    {
     "name": "stdout",
     "output_type": "stream",
     "text": [
      "Epoch 1/100\n",
      "21/21 [==============================] - 0s 5ms/step - loss: 0.6916 - accuracy: 0.5181\n",
      "Epoch 2/100\n",
      "21/21 [==============================] - 0s 5ms/step - loss: 0.6680 - accuracy: 0.5723\n",
      "Epoch 3/100\n",
      "21/21 [==============================] - 0s 5ms/step - loss: 0.6401 - accuracy: 0.7169\n",
      "Epoch 4/100\n",
      "21/21 [==============================] - 0s 4ms/step - loss: 0.6278 - accuracy: 0.6627\n",
      "Epoch 5/100\n",
      "21/21 [==============================] - 0s 4ms/step - loss: 0.5895 - accuracy: 0.7289\n",
      "Epoch 6/100\n",
      "21/21 [==============================] - 0s 5ms/step - loss: 0.5559 - accuracy: 0.7711\n",
      "Epoch 7/100\n",
      "21/21 [==============================] - 0s 4ms/step - loss: 0.5210 - accuracy: 0.8012\n",
      "Epoch 8/100\n",
      "21/21 [==============================] - 0s 5ms/step - loss: 0.4947 - accuracy: 0.7892\n",
      "Epoch 9/100\n",
      "21/21 [==============================] - 0s 5ms/step - loss: 0.4708 - accuracy: 0.8253\n",
      "Epoch 10/100\n",
      "21/21 [==============================] - 0s 5ms/step - loss: 0.4286 - accuracy: 0.7711\n",
      "Epoch 11/100\n",
      "21/21 [==============================] - 0s 4ms/step - loss: 0.4060 - accuracy: 0.8494\n",
      "Epoch 12/100\n",
      "21/21 [==============================] - 0s 4ms/step - loss: 0.3886 - accuracy: 0.8253\n",
      "Epoch 13/100\n",
      "21/21 [==============================] - 0s 4ms/step - loss: 0.3686 - accuracy: 0.8614\n",
      "Epoch 14/100\n",
      "21/21 [==============================] - 0s 5ms/step - loss: 0.3933 - accuracy: 0.8193\n",
      "Epoch 15/100\n",
      "21/21 [==============================] - 0s 4ms/step - loss: 0.3533 - accuracy: 0.8313\n",
      "Epoch 16/100\n",
      "21/21 [==============================] - 0s 4ms/step - loss: 0.3391 - accuracy: 0.8494\n",
      "Epoch 17/100\n",
      "21/21 [==============================] - 0s 4ms/step - loss: 0.3137 - accuracy: 0.8855\n",
      "Epoch 18/100\n",
      "21/21 [==============================] - 0s 4ms/step - loss: 0.3035 - accuracy: 0.8916\n",
      "Epoch 19/100\n",
      "21/21 [==============================] - 0s 4ms/step - loss: 0.3159 - accuracy: 0.8735\n",
      "Epoch 20/100\n",
      "21/21 [==============================] - 0s 4ms/step - loss: 0.2798 - accuracy: 0.8855\n",
      "Epoch 21/100\n",
      "21/21 [==============================] - 0s 4ms/step - loss: 0.2873 - accuracy: 0.8855\n",
      "Epoch 22/100\n",
      "21/21 [==============================] - 0s 4ms/step - loss: 0.2590 - accuracy: 0.9036\n",
      "Epoch 23/100\n",
      "21/21 [==============================] - 0s 4ms/step - loss: 0.2528 - accuracy: 0.8916\n",
      "Epoch 24/100\n",
      "21/21 [==============================] - 0s 4ms/step - loss: 0.2479 - accuracy: 0.9277\n",
      "Epoch 25/100\n",
      "21/21 [==============================] - 0s 4ms/step - loss: 0.2216 - accuracy: 0.9337\n",
      "Epoch 26/100\n",
      "21/21 [==============================] - 0s 5ms/step - loss: 0.2288 - accuracy: 0.9277\n",
      "Epoch 27/100\n",
      "21/21 [==============================] - 0s 6ms/step - loss: 0.2120 - accuracy: 0.9337\n",
      "Epoch 28/100\n",
      "21/21 [==============================] - 0s 6ms/step - loss: 0.2047 - accuracy: 0.9277\n",
      "Epoch 29/100\n",
      "21/21 [==============================] - 0s 6ms/step - loss: 0.1961 - accuracy: 0.9458\n",
      "Epoch 30/100\n",
      "21/21 [==============================] - 0s 6ms/step - loss: 0.2479 - accuracy: 0.8855\n",
      "Epoch 31/100\n",
      "21/21 [==============================] - 0s 5ms/step - loss: 0.2128 - accuracy: 0.9277\n",
      "Epoch 32/100\n",
      "21/21 [==============================] - 0s 5ms/step - loss: 0.1581 - accuracy: 0.9578\n",
      "Epoch 33/100\n",
      "21/21 [==============================] - 0s 5ms/step - loss: 0.1688 - accuracy: 0.9458\n",
      "Epoch 34/100\n",
      "21/21 [==============================] - 0s 5ms/step - loss: 0.1565 - accuracy: 0.9458\n",
      "Epoch 35/100\n",
      "21/21 [==============================] - 0s 5ms/step - loss: 0.1443 - accuracy: 0.9398\n",
      "Epoch 36/100\n",
      "21/21 [==============================] - 0s 4ms/step - loss: 0.1332 - accuracy: 0.9578\n",
      "Epoch 37/100\n",
      "21/21 [==============================] - 0s 4ms/step - loss: 0.1215 - accuracy: 0.9639\n",
      "Epoch 38/100\n",
      "21/21 [==============================] - 0s 5ms/step - loss: 0.1246 - accuracy: 0.9578\n",
      "Epoch 39/100\n",
      "21/21 [==============================] - 0s 4ms/step - loss: 0.1259 - accuracy: 0.9518\n",
      "Epoch 40/100\n",
      "21/21 [==============================] - 0s 6ms/step - loss: 0.0945 - accuracy: 0.9819\n",
      "Epoch 41/100\n",
      "21/21 [==============================] - 0s 7ms/step - loss: 0.0926 - accuracy: 0.9699\n",
      "Epoch 42/100\n",
      "21/21 [==============================] - 0s 6ms/step - loss: 0.1252 - accuracy: 0.9518\n",
      "Epoch 43/100\n",
      "21/21 [==============================] - 0s 7ms/step - loss: 0.0973 - accuracy: 0.9759\n",
      "Epoch 44/100\n",
      "21/21 [==============================] - 0s 6ms/step - loss: 0.1130 - accuracy: 0.9639\n",
      "Epoch 45/100\n",
      "21/21 [==============================] - 0s 6ms/step - loss: 0.1133 - accuracy: 0.9578\n",
      "Epoch 46/100\n",
      "21/21 [==============================] - 0s 7ms/step - loss: 0.0799 - accuracy: 0.9819\n",
      "Epoch 47/100\n",
      "21/21 [==============================] - 0s 7ms/step - loss: 0.0751 - accuracy: 0.9819\n",
      "Epoch 48/100\n",
      "21/21 [==============================] - 0s 7ms/step - loss: 0.0613 - accuracy: 0.9880\n",
      "Epoch 49/100\n",
      "21/21 [==============================] - 0s 6ms/step - loss: 0.0685 - accuracy: 0.9819\n",
      "Epoch 50/100\n",
      "21/21 [==============================] - 0s 6ms/step - loss: 0.0499 - accuracy: 0.9940\n",
      "Epoch 51/100\n",
      "21/21 [==============================] - 0s 7ms/step - loss: 0.0449 - accuracy: 0.9940\n",
      "Epoch 52/100\n",
      "21/21 [==============================] - 0s 8ms/step - loss: 0.0486 - accuracy: 0.9940\n",
      "Epoch 53/100\n",
      "21/21 [==============================] - 0s 6ms/step - loss: 0.0390 - accuracy: 1.0000\n",
      "Epoch 54/100\n",
      "21/21 [==============================] - 0s 5ms/step - loss: 0.0371 - accuracy: 1.0000\n",
      "Epoch 55/100\n",
      "21/21 [==============================] - 0s 5ms/step - loss: 0.0346 - accuracy: 1.0000\n",
      "Epoch 56/100\n",
      "21/21 [==============================] - ETA: 0s - loss: 0.0469 - accuracy: 1.00 - 0s 5ms/step - loss: 0.0469 - accuracy: 1.0000\n",
      "Epoch 57/100\n",
      "21/21 [==============================] - 0s 6ms/step - loss: 0.0419 - accuracy: 0.9940\n",
      "Epoch 58/100\n",
      "21/21 [==============================] - 0s 5ms/step - loss: 0.0433 - accuracy: 0.9940\n",
      "Epoch 59/100\n",
      "21/21 [==============================] - 0s 4ms/step - loss: 0.0303 - accuracy: 1.0000\n",
      "Epoch 60/100\n",
      "21/21 [==============================] - 0s 4ms/step - loss: 0.0274 - accuracy: 0.9940\n",
      "Epoch 61/100\n",
      "21/21 [==============================] - 0s 4ms/step - loss: 0.0290 - accuracy: 0.9940\n",
      "Epoch 62/100\n",
      "21/21 [==============================] - 0s 5ms/step - loss: 0.0261 - accuracy: 1.0000\n",
      "Epoch 63/100\n",
      "21/21 [==============================] - 0s 5ms/step - loss: 0.0253 - accuracy: 1.0000\n",
      "Epoch 64/100\n",
      "21/21 [==============================] - 0s 5ms/step - loss: 0.0318 - accuracy: 1.0000\n",
      "Epoch 65/100\n",
      "21/21 [==============================] - 0s 5ms/step - loss: 0.0293 - accuracy: 1.0000\n",
      "Epoch 66/100\n",
      "21/21 [==============================] - 0s 5ms/step - loss: 0.0166 - accuracy: 1.0000\n",
      "Epoch 67/100\n",
      "21/21 [==============================] - 0s 5ms/step - loss: 0.0178 - accuracy: 1.0000\n",
      "Epoch 68/100\n",
      "21/21 [==============================] - 0s 5ms/step - loss: 0.0147 - accuracy: 1.0000\n",
      "Epoch 69/100\n",
      "21/21 [==============================] - 0s 6ms/step - loss: 0.0124 - accuracy: 1.0000\n",
      "Epoch 70/100\n",
      "21/21 [==============================] - 0s 6ms/step - loss: 0.0110 - accuracy: 1.0000\n",
      "Epoch 71/100\n",
      "21/21 [==============================] - 0s 6ms/step - loss: 0.0115 - accuracy: 1.0000\n",
      "Epoch 72/100\n",
      "21/21 [==============================] - 0s 5ms/step - loss: 0.0116 - accuracy: 1.0000\n",
      "Epoch 73/100\n",
      "21/21 [==============================] - 0s 5ms/step - loss: 0.0100 - accuracy: 1.0000\n",
      "Epoch 74/100\n",
      "21/21 [==============================] - 0s 4ms/step - loss: 0.0096 - accuracy: 1.0000: 0s - loss: 0.0119 - accuracy: 1.00\n",
      "Epoch 75/100\n",
      "21/21 [==============================] - 0s 5ms/step - loss: 0.0087 - accuracy: 1.0000\n",
      "Epoch 76/100\n",
      "21/21 [==============================] - 0s 4ms/step - loss: 0.0090 - accuracy: 1.0000\n",
      "Epoch 77/100\n",
      "21/21 [==============================] - 0s 4ms/step - loss: 0.0083 - accuracy: 1.0000\n",
      "Epoch 78/100\n",
      "21/21 [==============================] - 0s 5ms/step - loss: 0.0082 - accuracy: 1.0000\n",
      "Epoch 79/100\n",
      "21/21 [==============================] - 0s 5ms/step - loss: 0.0067 - accuracy: 1.0000\n",
      "Epoch 80/100\n",
      "21/21 [==============================] - 0s 6ms/step - loss: 0.0066 - accuracy: 1.0000\n",
      "Epoch 81/100\n",
      "21/21 [==============================] - 0s 5ms/step - loss: 0.0061 - accuracy: 1.0000\n",
      "Epoch 82/100\n"
     ]
    },
    {
     "name": "stdout",
     "output_type": "stream",
     "text": [
      "21/21 [==============================] - 0s 6ms/step - loss: 0.0066 - accuracy: 1.0000\n",
      "Epoch 83/100\n",
      "21/21 [==============================] - 0s 5ms/step - loss: 0.0059 - accuracy: 1.0000\n",
      "Epoch 84/100\n",
      "21/21 [==============================] - 0s 5ms/step - loss: 0.0058 - accuracy: 1.0000\n",
      "Epoch 85/100\n",
      "21/21 [==============================] - 0s 6ms/step - loss: 0.0056 - accuracy: 1.0000\n",
      "Epoch 86/100\n",
      "21/21 [==============================] - 0s 5ms/step - loss: 0.0062 - accuracy: 1.0000\n",
      "Epoch 87/100\n",
      "21/21 [==============================] - 0s 5ms/step - loss: 0.0052 - accuracy: 1.0000\n",
      "Epoch 88/100\n",
      "21/21 [==============================] - 0s 6ms/step - loss: 0.0047 - accuracy: 1.0000\n",
      "Epoch 89/100\n",
      "21/21 [==============================] - 0s 5ms/step - loss: 0.0043 - accuracy: 1.0000\n",
      "Epoch 90/100\n",
      "21/21 [==============================] - 0s 6ms/step - loss: 0.0042 - accuracy: 1.0000\n",
      "Epoch 91/100\n",
      "21/21 [==============================] - 0s 6ms/step - loss: 0.0039 - accuracy: 1.0000\n",
      "Epoch 92/100\n",
      "21/21 [==============================] - 0s 5ms/step - loss: 0.0040 - accuracy: 1.0000\n",
      "Epoch 93/100\n",
      "21/21 [==============================] - 0s 5ms/step - loss: 0.0037 - accuracy: 1.0000\n",
      "Epoch 94/100\n",
      "21/21 [==============================] - 0s 6ms/step - loss: 0.0035 - accuracy: 1.0000\n",
      "Epoch 95/100\n",
      "21/21 [==============================] - 0s 6ms/step - loss: 0.0034 - accuracy: 1.0000\n",
      "Epoch 96/100\n",
      "21/21 [==============================] - 0s 6ms/step - loss: 0.0035 - accuracy: 1.0000\n",
      "Epoch 97/100\n",
      "21/21 [==============================] - 0s 5ms/step - loss: 0.0033 - accuracy: 1.0000\n",
      "Epoch 98/100\n",
      "21/21 [==============================] - 0s 5ms/step - loss: 0.0034 - accuracy: 1.0000\n",
      "Epoch 99/100\n",
      "21/21 [==============================] - 0s 5ms/step - loss: 0.0033 - accuracy: 1.0000\n",
      "Epoch 100/100\n",
      "21/21 [==============================] - 0s 6ms/step - loss: 0.0029 - accuracy: 1.0000\n"
     ]
    },
    {
     "data": {
      "text/plain": [
       "<tensorflow.python.keras.callbacks.History at 0x1ec4673bbb0>"
      ]
     },
     "execution_count": 12,
     "metadata": {},
     "output_type": "execute_result"
    }
   ],
   "source": [
    "\n",
    "model = keras.Sequential([\n",
    "    keras.layers.Dense(60, input_dim=60, activation='relu'),\n",
    "    keras.layers.Dense(30, activation='relu'),\n",
    "    keras.layers.Dense(15, activation='relu'),\n",
    "    keras.layers.Dense(1, activation='sigmoid')\n",
    "])\n",
    "\n",
    "model.compile(loss='binary_crossentropy', optimizer='adam', metrics=['accuracy'])\n",
    "\n",
    "model.fit(X_train, y_train, epochs=100, batch_size=8)"
   ]
  },
  {
   "cell_type": "code",
   "execution_count": 13,
   "id": "c8bbb9f2",
   "metadata": {},
   "outputs": [
    {
     "name": "stdout",
     "output_type": "stream",
     "text": [
      "2/2 [==============================] - 0s 2ms/step - loss: 1.1339 - accuracy: 0.7381\n"
     ]
    },
    {
     "data": {
      "text/plain": [
       "[1.133924126625061, 0.738095223903656]"
      ]
     },
     "execution_count": 13,
     "metadata": {},
     "output_type": "execute_result"
    }
   ],
   "source": [
    "model.evaluate(X_test, y_test)"
   ]
  },
  {
   "cell_type": "code",
   "execution_count": 18,
   "id": "99758965",
   "metadata": {},
   "outputs": [
    {
     "name": "stdout",
     "output_type": "stream",
     "text": [
      "[4.5346638e-08 9.8905039e-01 9.2327929e-01 1.9223611e-05 9.9999976e-01\n",
      " 9.9374336e-01 2.3804757e-01 9.9999905e-01 3.9660066e-05 9.9999988e-01]\n",
      "[0. 1. 1. 0. 1. 1. 0. 1. 0. 1.]\n"
     ]
    }
   ],
   "source": [
    "y_pred = model.predict(X_test).reshape(-1)\n",
    "print(y_pred[:10])\n",
    "\n",
    "y_pred = np.round(y_pred)\n",
    "print(y_pred[:10])"
   ]
  },
  {
   "cell_type": "code",
   "execution_count": 19,
   "id": "b55c42a1",
   "metadata": {},
   "outputs": [
    {
     "data": {
      "text/html": [
       "<div>\n",
       "<style scoped>\n",
       "    .dataframe tbody tr th:only-of-type {\n",
       "        vertical-align: middle;\n",
       "    }\n",
       "\n",
       "    .dataframe tbody tr th {\n",
       "        vertical-align: top;\n",
       "    }\n",
       "\n",
       "    .dataframe thead th {\n",
       "        text-align: right;\n",
       "    }\n",
       "</style>\n",
       "<table border=\"1\" class=\"dataframe\">\n",
       "  <thead>\n",
       "    <tr style=\"text-align: right;\">\n",
       "      <th></th>\n",
       "      <th>R</th>\n",
       "    </tr>\n",
       "  </thead>\n",
       "  <tbody>\n",
       "    <tr>\n",
       "      <th>186</th>\n",
       "      <td>0</td>\n",
       "    </tr>\n",
       "    <tr>\n",
       "      <th>155</th>\n",
       "      <td>0</td>\n",
       "    </tr>\n",
       "    <tr>\n",
       "      <th>165</th>\n",
       "      <td>0</td>\n",
       "    </tr>\n",
       "    <tr>\n",
       "      <th>200</th>\n",
       "      <td>0</td>\n",
       "    </tr>\n",
       "    <tr>\n",
       "      <th>58</th>\n",
       "      <td>1</td>\n",
       "    </tr>\n",
       "    <tr>\n",
       "      <th>34</th>\n",
       "      <td>1</td>\n",
       "    </tr>\n",
       "    <tr>\n",
       "      <th>151</th>\n",
       "      <td>0</td>\n",
       "    </tr>\n",
       "    <tr>\n",
       "      <th>18</th>\n",
       "      <td>1</td>\n",
       "    </tr>\n",
       "    <tr>\n",
       "      <th>202</th>\n",
       "      <td>0</td>\n",
       "    </tr>\n",
       "    <tr>\n",
       "      <th>62</th>\n",
       "      <td>1</td>\n",
       "    </tr>\n",
       "  </tbody>\n",
       "</table>\n",
       "</div>"
      ],
      "text/plain": [
       "     R\n",
       "186  0\n",
       "155  0\n",
       "165  0\n",
       "200  0\n",
       "58   1\n",
       "34   1\n",
       "151  0\n",
       "18   1\n",
       "202  0\n",
       "62   1"
      ]
     },
     "execution_count": 19,
     "metadata": {},
     "output_type": "execute_result"
    }
   ],
   "source": [
    "y_test[:10]"
   ]
  },
  {
   "cell_type": "code",
   "execution_count": 20,
   "id": "44e6cac3",
   "metadata": {},
   "outputs": [
    {
     "name": "stdout",
     "output_type": "stream",
     "text": [
      "              precision    recall  f1-score   support\n",
      "\n",
      "           0       0.68      0.85      0.76        20\n",
      "           1       0.82      0.64      0.72        22\n",
      "\n",
      "    accuracy                           0.74        42\n",
      "   macro avg       0.75      0.74      0.74        42\n",
      "weighted avg       0.76      0.74      0.74        42\n",
      "\n"
     ]
    }
   ],
   "source": [
    "from sklearn.metrics import confusion_matrix, classification_report\n",
    "\n",
    "print(classification_report(y_test, y_pred))"
   ]
  },
  {
   "cell_type": "code",
   "execution_count": 24,
   "id": "b1a0bc32",
   "metadata": {},
   "outputs": [
    {
     "name": "stdout",
     "output_type": "stream",
     "text": [
      "Epoch 1/100\n",
      "21/21 [==============================] - 0s 6ms/step - loss: 0.7412 - accuracy: 0.5843\n",
      "Epoch 2/100\n",
      "21/21 [==============================] - 0s 5ms/step - loss: 0.7522 - accuracy: 0.5241\n",
      "Epoch 3/100\n",
      "21/21 [==============================] - 0s 6ms/step - loss: 0.7558 - accuracy: 0.4578\n",
      "Epoch 4/100\n",
      "21/21 [==============================] - 0s 5ms/step - loss: 0.7319 - accuracy: 0.4518\n",
      "Epoch 5/100\n",
      "21/21 [==============================] - 0s 6ms/step - loss: 0.6846 - accuracy: 0.5783\n",
      "Epoch 6/100\n",
      "21/21 [==============================] - 0s 6ms/step - loss: 0.7127 - accuracy: 0.4880\n",
      "Epoch 7/100\n",
      "21/21 [==============================] - 0s 5ms/step - loss: 0.7191 - accuracy: 0.4940\n",
      "Epoch 8/100\n",
      "21/21 [==============================] - 0s 5ms/step - loss: 0.6907 - accuracy: 0.5422\n",
      "Epoch 9/100\n",
      "21/21 [==============================] - 0s 5ms/step - loss: 0.6829 - accuracy: 0.5904\n",
      "Epoch 10/100\n",
      "21/21 [==============================] - 0s 5ms/step - loss: 0.6849 - accuracy: 0.5602\n",
      "Epoch 11/100\n",
      "21/21 [==============================] - 0s 5ms/step - loss: 0.6708 - accuracy: 0.5482\n",
      "Epoch 12/100\n",
      "21/21 [==============================] - 0s 6ms/step - loss: 0.6781 - accuracy: 0.5542\n",
      "Epoch 13/100\n",
      "21/21 [==============================] - 0s 5ms/step - loss: 0.6709 - accuracy: 0.5602\n",
      "Epoch 14/100\n",
      "21/21 [==============================] - 0s 5ms/step - loss: 0.6871 - accuracy: 0.5422\n",
      "Epoch 15/100\n",
      "21/21 [==============================] - 0s 5ms/step - loss: 0.6817 - accuracy: 0.5361\n",
      "Epoch 16/100\n",
      "21/21 [==============================] - 0s 5ms/step - loss: 0.6652 - accuracy: 0.5723\n",
      "Epoch 17/100\n",
      "21/21 [==============================] - 0s 6ms/step - loss: 0.6923 - accuracy: 0.5663\n",
      "Epoch 18/100\n",
      "21/21 [==============================] - 0s 6ms/step - loss: 0.6596 - accuracy: 0.5964\n",
      "Epoch 19/100\n",
      "21/21 [==============================] - 0s 6ms/step - loss: 0.6506 - accuracy: 0.5904\n",
      "Epoch 20/100\n",
      "21/21 [==============================] - 0s 6ms/step - loss: 0.6859 - accuracy: 0.5422\n",
      "Epoch 21/100\n",
      "21/21 [==============================] - 0s 5ms/step - loss: 0.6471 - accuracy: 0.6024\n",
      "Epoch 22/100\n",
      "21/21 [==============================] - 0s 5ms/step - loss: 0.6682 - accuracy: 0.5964\n",
      "Epoch 23/100\n",
      "21/21 [==============================] - 0s 5ms/step - loss: 0.6477 - accuracy: 0.6084\n",
      "Epoch 24/100\n",
      "21/21 [==============================] - 0s 5ms/step - loss: 0.6430 - accuracy: 0.6205\n",
      "Epoch 25/100\n",
      "21/21 [==============================] - 0s 6ms/step - loss: 0.6356 - accuracy: 0.5783\n",
      "Epoch 26/100\n",
      "21/21 [==============================] - 0s 6ms/step - loss: 0.6164 - accuracy: 0.6446\n",
      "Epoch 27/100\n",
      "21/21 [==============================] - 0s 6ms/step - loss: 0.6462 - accuracy: 0.6265\n",
      "Epoch 28/100\n",
      "21/21 [==============================] - 0s 6ms/step - loss: 0.6169 - accuracy: 0.7048\n",
      "Epoch 29/100\n",
      "21/21 [==============================] - 0s 6ms/step - loss: 0.5823 - accuracy: 0.6566\n",
      "Epoch 30/100\n",
      "21/21 [==============================] - 0s 5ms/step - loss: 0.6156 - accuracy: 0.6386\n",
      "Epoch 31/100\n",
      "21/21 [==============================] - 0s 5ms/step - loss: 0.6065 - accuracy: 0.6386\n",
      "Epoch 32/100\n",
      "21/21 [==============================] - 0s 5ms/step - loss: 0.6092 - accuracy: 0.6867\n",
      "Epoch 33/100\n",
      "21/21 [==============================] - 0s 5ms/step - loss: 0.6071 - accuracy: 0.6988\n",
      "Epoch 34/100\n",
      "21/21 [==============================] - 0s 6ms/step - loss: 0.6176 - accuracy: 0.6566\n",
      "Epoch 35/100\n",
      "21/21 [==============================] - 0s 6ms/step - loss: 0.5858 - accuracy: 0.7289\n",
      "Epoch 36/100\n",
      "21/21 [==============================] - 0s 6ms/step - loss: 0.5966 - accuracy: 0.6747\n",
      "Epoch 37/100\n",
      "21/21 [==============================] - 0s 6ms/step - loss: 0.5758 - accuracy: 0.6988\n",
      "Epoch 38/100\n",
      "21/21 [==============================] - 0s 6ms/step - loss: 0.5808 - accuracy: 0.7349\n",
      "Epoch 39/100\n",
      "21/21 [==============================] - 0s 6ms/step - loss: 0.5587 - accuracy: 0.7470\n",
      "Epoch 40/100\n",
      "21/21 [==============================] - 0s 6ms/step - loss: 0.5323 - accuracy: 0.7470\n",
      "Epoch 41/100\n",
      "21/21 [==============================] - 0s 7ms/step - loss: 0.5576 - accuracy: 0.7530\n",
      "Epoch 42/100\n",
      "21/21 [==============================] - 0s 7ms/step - loss: 0.5437 - accuracy: 0.7771\n",
      "Epoch 43/100\n",
      "21/21 [==============================] - 0s 8ms/step - loss: 0.5289 - accuracy: 0.7349\n",
      "Epoch 44/100\n",
      "21/21 [==============================] - 0s 8ms/step - loss: 0.5462 - accuracy: 0.7410\n",
      "Epoch 45/100\n",
      "21/21 [==============================] - 0s 11ms/step - loss: 0.5588 - accuracy: 0.6807\n",
      "Epoch 46/100\n",
      "21/21 [==============================] - 0s 6ms/step - loss: 0.5235 - accuracy: 0.7048\n",
      "Epoch 47/100\n",
      "21/21 [==============================] - 0s 5ms/step - loss: 0.5377 - accuracy: 0.7349\n",
      "Epoch 48/100\n",
      "21/21 [==============================] - 0s 6ms/step - loss: 0.5469 - accuracy: 0.7410\n",
      "Epoch 49/100\n",
      "21/21 [==============================] - 0s 6ms/step - loss: 0.5132 - accuracy: 0.7771\n",
      "Epoch 50/100\n",
      "21/21 [==============================] - 0s 7ms/step - loss: 0.5395 - accuracy: 0.7048\n",
      "Epoch 51/100\n",
      "21/21 [==============================] - 0s 6ms/step - loss: 0.5061 - accuracy: 0.7771\n",
      "Epoch 52/100\n",
      "21/21 [==============================] - 0s 5ms/step - loss: 0.4562 - accuracy: 0.7831\n",
      "Epoch 53/100\n",
      "21/21 [==============================] - 0s 6ms/step - loss: 0.4612 - accuracy: 0.7771\n",
      "Epoch 54/100\n",
      "21/21 [==============================] - 0s 6ms/step - loss: 0.4648 - accuracy: 0.7771\n",
      "Epoch 55/100\n",
      "21/21 [==============================] - 0s 5ms/step - loss: 0.4878 - accuracy: 0.7711\n",
      "Epoch 56/100\n",
      "21/21 [==============================] - 0s 5ms/step - loss: 0.4880 - accuracy: 0.7952\n",
      "Epoch 57/100\n",
      "21/21 [==============================] - 0s 5ms/step - loss: 0.5383 - accuracy: 0.7711\n",
      "Epoch 58/100\n",
      "21/21 [==============================] - 0s 6ms/step - loss: 0.5072 - accuracy: 0.7771\n",
      "Epoch 59/100\n",
      "21/21 [==============================] - 0s 6ms/step - loss: 0.4609 - accuracy: 0.7892\n",
      "Epoch 60/100\n",
      "21/21 [==============================] - 0s 8ms/step - loss: 0.4442 - accuracy: 0.7831\n",
      "Epoch 61/100\n",
      "21/21 [==============================] - 0s 7ms/step - loss: 0.4815 - accuracy: 0.7892\n",
      "Epoch 62/100\n",
      "21/21 [==============================] - 0s 7ms/step - loss: 0.4974 - accuracy: 0.7530\n",
      "Epoch 63/100\n",
      "21/21 [==============================] - 0s 6ms/step - loss: 0.4597 - accuracy: 0.8012\n",
      "Epoch 64/100\n",
      "21/21 [==============================] - 0s 6ms/step - loss: 0.4447 - accuracy: 0.8133\n",
      "Epoch 65/100\n",
      "21/21 [==============================] - 0s 6ms/step - loss: 0.4636 - accuracy: 0.7952\n",
      "Epoch 66/100\n",
      "21/21 [==============================] - 0s 7ms/step - loss: 0.4263 - accuracy: 0.8072\n",
      "Epoch 67/100\n",
      "21/21 [==============================] - 0s 6ms/step - loss: 0.4554 - accuracy: 0.8313\n",
      "Epoch 68/100\n",
      "21/21 [==============================] - 0s 5ms/step - loss: 0.4898 - accuracy: 0.7651\n",
      "Epoch 69/100\n",
      "21/21 [==============================] - 0s 5ms/step - loss: 0.4340 - accuracy: 0.8193\n",
      "Epoch 70/100\n",
      "21/21 [==============================] - 0s 5ms/step - loss: 0.4067 - accuracy: 0.8133\n",
      "Epoch 71/100\n",
      "21/21 [==============================] - 0s 5ms/step - loss: 0.4691 - accuracy: 0.7831\n",
      "Epoch 72/100\n",
      "21/21 [==============================] - 0s 5ms/step - loss: 0.4006 - accuracy: 0.8313\n",
      "Epoch 73/100\n",
      "21/21 [==============================] - 0s 6ms/step - loss: 0.4411 - accuracy: 0.8253\n",
      "Epoch 74/100\n",
      "21/21 [==============================] - 0s 8ms/step - loss: 0.3910 - accuracy: 0.8554\n",
      "Epoch 75/100\n",
      "21/21 [==============================] - 0s 9ms/step - loss: 0.4112 - accuracy: 0.7952\n",
      "Epoch 76/100\n",
      "21/21 [==============================] - 0s 10ms/step - loss: 0.4294 - accuracy: 0.8313\n",
      "Epoch 77/100\n",
      "21/21 [==============================] - 0s 8ms/step - loss: 0.3699 - accuracy: 0.8193\n",
      "Epoch 78/100\n",
      "21/21 [==============================] - 0s 8ms/step - loss: 0.4216 - accuracy: 0.8072\n",
      "Epoch 79/100\n",
      "21/21 [==============================] - 0s 9ms/step - loss: 0.3984 - accuracy: 0.7831\n",
      "Epoch 80/100\n",
      "21/21 [==============================] - 0s 12ms/step - loss: 0.3725 - accuracy: 0.8434\n",
      "Epoch 81/100\n",
      "21/21 [==============================] - 0s 9ms/step - loss: 0.3337 - accuracy: 0.8735\n",
      "Epoch 82/100\n",
      "21/21 [==============================] - 0s 9ms/step - loss: 0.3834 - accuracy: 0.8313\n"
     ]
    },
    {
     "name": "stdout",
     "output_type": "stream",
     "text": [
      "Epoch 83/100\n",
      "21/21 [==============================] - 0s 8ms/step - loss: 0.3601 - accuracy: 0.8193\n",
      "Epoch 84/100\n",
      "21/21 [==============================] - 0s 8ms/step - loss: 0.3590 - accuracy: 0.8313\n",
      "Epoch 85/100\n",
      "21/21 [==============================] - 0s 8ms/step - loss: 0.3973 - accuracy: 0.8012\n",
      "Epoch 86/100\n",
      "21/21 [==============================] - 0s 6ms/step - loss: 0.3621 - accuracy: 0.8253\n",
      "Epoch 87/100\n",
      "21/21 [==============================] - 0s 5ms/step - loss: 0.3806 - accuracy: 0.8494\n",
      "Epoch 88/100\n",
      "21/21 [==============================] - 0s 5ms/step - loss: 0.3684 - accuracy: 0.8554\n",
      "Epoch 89/100\n",
      "21/21 [==============================] - 0s 5ms/step - loss: 0.3926 - accuracy: 0.8434\n",
      "Epoch 90/100\n",
      "21/21 [==============================] - 0s 5ms/step - loss: 0.3428 - accuracy: 0.8373\n",
      "Epoch 91/100\n",
      "21/21 [==============================] - 0s 5ms/step - loss: 0.3296 - accuracy: 0.8675\n",
      "Epoch 92/100\n",
      "21/21 [==============================] - 0s 5ms/step - loss: 0.3562 - accuracy: 0.8554\n",
      "Epoch 93/100\n",
      "21/21 [==============================] - 0s 6ms/step - loss: 0.3828 - accuracy: 0.8434\n",
      "Epoch 94/100\n",
      "21/21 [==============================] - 0s 6ms/step - loss: 0.2950 - accuracy: 0.8855\n",
      "Epoch 95/100\n",
      "21/21 [==============================] - 0s 7ms/step - loss: 0.3509 - accuracy: 0.8253\n",
      "Epoch 96/100\n",
      "21/21 [==============================] - 0s 6ms/step - loss: 0.3491 - accuracy: 0.8253\n",
      "Epoch 97/100\n",
      "21/21 [==============================] - 0s 7ms/step - loss: 0.3324 - accuracy: 0.8675\n",
      "Epoch 98/100\n",
      "21/21 [==============================] - 0s 7ms/step - loss: 0.3343 - accuracy: 0.8735\n",
      "Epoch 99/100\n",
      "21/21 [==============================] - 0s 8ms/step - loss: 0.3182 - accuracy: 0.8614\n",
      "Epoch 100/100\n",
      "21/21 [==============================] - 0s 8ms/step - loss: 0.3063 - accuracy: 0.8675\n"
     ]
    },
    {
     "data": {
      "text/plain": [
       "<tensorflow.python.keras.callbacks.History at 0x1ed3d2009d0>"
      ]
     },
     "execution_count": 24,
     "metadata": {},
     "output_type": "execute_result"
    }
   ],
   "source": [
    "## Using drop out layer\n",
    "\n",
    "\n",
    "modeld = keras.Sequential([\n",
    "    keras.layers.Dense(60, input_dim=60, activation='relu'),\n",
    "    keras.layers.Dropout(0.5),\n",
    "    keras.layers.Dense(30, activation='relu'),\n",
    "    keras.layers.Dropout(0.5),\n",
    "    keras.layers.Dense(15, activation='relu'),\n",
    "    keras.layers.Dropout(0.5),\n",
    "    keras.layers.Dense(1, activation='sigmoid')\n",
    "])\n",
    "\n",
    "modeld.compile(loss='binary_crossentropy', optimizer='adam', metrics=['accuracy'])\n",
    "\n",
    "modeld.fit(X_train, y_train, epochs=100, batch_size=8)"
   ]
  },
  {
   "cell_type": "code",
   "execution_count": 25,
   "id": "5021e35b",
   "metadata": {},
   "outputs": [
    {
     "name": "stdout",
     "output_type": "stream",
     "text": [
      "2/2 [==============================] - 0s 4ms/step - loss: 0.4557 - accuracy: 0.8095\n"
     ]
    },
    {
     "data": {
      "text/plain": [
       "[0.45570486783981323, 0.8095238208770752]"
      ]
     },
     "execution_count": 25,
     "metadata": {},
     "output_type": "execute_result"
    }
   ],
   "source": [
    "modeld.evaluate(X_test, y_test)"
   ]
  },
  {
   "cell_type": "code",
   "execution_count": null,
   "id": "9502c1f9",
   "metadata": {},
   "outputs": [],
   "source": []
  }
 ],
 "metadata": {
  "kernelspec": {
   "display_name": "Python 3",
   "language": "python",
   "name": "python3"
  },
  "language_info": {
   "codemirror_mode": {
    "name": "ipython",
    "version": 3
   },
   "file_extension": ".py",
   "mimetype": "text/x-python",
   "name": "python",
   "nbconvert_exporter": "python",
   "pygments_lexer": "ipython3",
   "version": "3.8.0"
  }
 },
 "nbformat": 4,
 "nbformat_minor": 5
}
