{
 "cells": [
  {
   "cell_type": "markdown",
   "id": "ce3eb0a3",
   "metadata": {},
   "source": [
    "## Image Classification"
   ]
  },
  {
   "cell_type": "code",
   "execution_count": 4,
   "id": "36e15843",
   "metadata": {},
   "outputs": [],
   "source": [
    "import tensorflow as tf\n",
    "from tensorflow.keras import datasets, layers, models\n",
    "import matplotlib.pyplot as plt\n",
    "import numpy as np\n",
    "%matplotlib inline"
   ]
  },
  {
   "cell_type": "code",
   "execution_count": 5,
   "id": "20a80ebf",
   "metadata": {},
   "outputs": [],
   "source": [
    "(X_train,y_train),(X_test,y_test) = datasets.cifar10.load_data()"
   ]
  },
  {
   "cell_type": "code",
   "execution_count": 8,
   "id": "180b14c0",
   "metadata": {},
   "outputs": [
    {
     "data": {
      "text/plain": [
       "(10000, 32, 32, 3)"
      ]
     },
     "execution_count": 8,
     "metadata": {},
     "output_type": "execute_result"
    }
   ],
   "source": [
    "X_test.shape"
   ]
  },
  {
   "cell_type": "code",
   "execution_count": 16,
   "id": "822d498d",
   "metadata": {},
   "outputs": [
    {
     "data": {
      "text/plain": [
       "array([[6],\n",
       "       [9],\n",
       "       [9],\n",
       "       [4],\n",
       "       [1]], dtype=uint8)"
      ]
     },
     "execution_count": 16,
     "metadata": {},
     "output_type": "execute_result"
    }
   ],
   "source": [
    "y_train[:5]"
   ]
  },
  {
   "cell_type": "code",
   "execution_count": 17,
   "id": "a8c4ae93",
   "metadata": {},
   "outputs": [
    {
     "data": {
      "text/plain": [
       "array([6, 9, 9, 4, 1], dtype=uint8)"
      ]
     },
     "execution_count": 17,
     "metadata": {},
     "output_type": "execute_result"
    }
   ],
   "source": [
    "# Convert 2D array to 1D array, -1 bcz we want to keep the first dimension as it is (10000) n flatten the 2nd dimension \n",
    "# so leave it blank\n",
    "y_train = y_train.reshape(-1,)\n",
    "y_train[:5]"
   ]
  },
  {
   "cell_type": "code",
   "execution_count": 20,
   "id": "ebdafe1a",
   "metadata": {},
   "outputs": [],
   "source": [
    "classes = ['airplane','automobile','bird','cat','deer','dog','frog','horse','ship','truck']"
   ]
  },
  {
   "cell_type": "code",
   "execution_count": 23,
   "id": "df614191",
   "metadata": {},
   "outputs": [],
   "source": [
    "def plot_sample(X, y, index):\n",
    "    plt.figure(figsize=(15,2))\n",
    "    plt.imshow(X[index])\n",
    "    plt.xlabel(classes[y[index]])"
   ]
  },
  {
   "cell_type": "code",
   "execution_count": 24,
   "id": "c156382b",
   "metadata": {},
   "outputs": [
    {
     "data": {
      "image/png": "[encoded data removed]",
      "text/plain": [
       "<Figure size 1080x144 with 1 Axes>"
      ]
     },
     "metadata": {
      "needs_background": "light"
     },
     "output_type": "display_data"
    }
   ],
   "source": [
    "plot_sample(X_train, y_train, 4)"
   ]
  },
  {
   "cell_type": "code",
   "execution_count": 27,
   "id": "1291ad10",
   "metadata": {},
   "outputs": [],
   "source": [
    "# Normalization\n",
    "X_train = X_train /255\n",
    "X_test = X_test /255"
   ]
  },
  {
   "cell_type": "code",
   "execution_count": 30,
   "id": "872af029",
   "metadata": {},
   "outputs": [
    {
     "name": "stdout",
     "output_type": "stream",
     "text": [
      "Epoch 1/5\n",
      "1563/1563 [==============================] - 27s 17ms/step - loss: 1.8580 - accuracy: 0.3360\n",
      "Epoch 2/5\n",
      "1563/1563 [==============================] - 54s 34ms/step - loss: 1.6569 - accuracy: 0.4125\n",
      "Epoch 3/5\n",
      "1563/1563 [==============================] - 57s 36ms/step - loss: 1.5687 - accuracy: 0.4448\n",
      "Epoch 4/5\n",
      "1563/1563 [==============================] - 56s 36ms/step - loss: 1.5076 - accuracy: 0.4666\n",
      "Epoch 5/5\n",
      "1563/1563 [==============================] - 56s 36ms/step - loss: 1.4568 - accuracy: 0.4857\n"
     ]
    },
    {
     "data": {
      "text/plain": [
       "<tensorflow.python.keras.callbacks.History at 0x1951ab96970>"
      ]
     },
     "execution_count": 30,
     "metadata": {},
     "output_type": "execute_result"
    }
   ],
   "source": [
    "ann = models.Sequential([\n",
    "    layers.Flatten(input_shape=(32,32,3)),\n",
    "    layers.Dense(3000, activation='relu'),\n",
    "    layers.Dense(1000, activation='relu'),\n",
    "    layers.Dense(10, activation='sigmoid')\n",
    "])\n",
    "\n",
    "ann.compile(optimizer='SGD',\n",
    "              loss='sparse_categorical_crossentropy',\n",
    "              metrics=['accuracy'])\n",
    "\n",
    "ann.fit(X_train, y_train, epochs=5)"
   ]
  },
  {
   "cell_type": "code",
   "execution_count": 32,
   "id": "c84ab027",
   "metadata": {},
   "outputs": [
    {
     "name": "stdout",
     "output_type": "stream",
     "text": [
      "Classification Report:                precision    recall  f1-score   support\n",
      "\n",
      "           0       0.75      0.29      0.42      1000\n",
      "           1       0.56      0.66      0.61      1000\n",
      "           2       0.34      0.36      0.35      1000\n",
      "           3       0.39      0.24      0.30      1000\n",
      "           4       0.63      0.17      0.26      1000\n",
      "           5       0.37      0.43      0.39      1000\n",
      "           6       0.45      0.64      0.53      1000\n",
      "           7       0.41      0.66      0.51      1000\n",
      "           8       0.65      0.58      0.61      1000\n",
      "           9       0.47      0.66      0.55      1000\n",
      "\n",
      "    accuracy                           0.47     10000\n",
      "   macro avg       0.50      0.47      0.45     10000\n",
      "weighted avg       0.50      0.47      0.45     10000\n",
      "\n"
     ]
    }
   ],
   "source": [
    "from sklearn.metrics import confusion_matrix, classification_report\n",
    "\n",
    "y_pred = ann.predict(X_test)\n",
    "# y_pred[:5]\n",
    "y_pred_classes = [np.argmax(element) for element in y_pred]\n",
    "\n",
    "print(\"Classification Report: \",classification_report(y_test, y_pred_classes))"
   ]
  },
  {
   "cell_type": "code",
   "execution_count": 33,
   "id": "7fa0b375",
   "metadata": {},
   "outputs": [],
   "source": [
    "cnn = models.Sequential([\n",
    "    #cnn\n",
    "    layers.Conv2D(filters=32, kernel_size=(3,3), activation='relu',input_shape=(32,32,3)),\n",
    "    layers.MaxPooling2D((2,2)),\n",
    "    \n",
    "    layers.Conv2D(filters=32, kernel_size=(3,3), activation='relu'),\n",
    "    layers.MaxPooling2D((2,2)),\n",
    "    \n",
    "    #dense\n",
    "    layers.Flatten(),\n",
    "    layers.Dense(64, activation='relu'),\n",
    "    layers.Dense(10, activation='softmax')\n",
    "])"
   ]
  },
  {
   "cell_type": "code",
   "execution_count": 35,
   "id": "9312ef17",
   "metadata": {},
   "outputs": [],
   "source": [
    "cnn.compile(optimizer='adam',\n",
    "              loss='sparse_categorical_crossentropy',\n",
    "              metrics=['accuracy'])"
   ]
  },
  {
   "cell_type": "code",
   "execution_count": 36,
   "id": "f2aab9f9",
   "metadata": {},
   "outputs": [
    {
     "name": "stdout",
     "output_type": "stream",
     "text": [
      "Epoch 1/10\n",
      "1563/1563 [==============================] - 40s 25ms/step - loss: 1.4930 - accuracy: 0.4620\n",
      "Epoch 2/10\n",
      "1563/1563 [==============================] - 40s 25ms/step - loss: 1.1701 - accuracy: 0.5888\n",
      "Epoch 3/10\n",
      "1563/1563 [==============================] - 37s 23ms/step - loss: 1.0488 - accuracy: 0.63280s - los\n",
      "Epoch 4/10\n",
      "1563/1563 [==============================] - 41s 26ms/step - loss: 0.9638 - accuracy: 0.6640\n",
      "Epoch 5/10\n",
      "1563/1563 [==============================] - 40s 26ms/step - loss: 0.9014 - accuracy: 0.6842\n",
      "Epoch 6/10\n",
      "1563/1563 [==============================] - 41s 26ms/step - loss: 0.8511 - accuracy: 0.7019\n",
      "Epoch 7/10\n",
      "1563/1563 [==============================] - 42s 27ms/step - loss: 0.8133 - accuracy: 0.7164\n",
      "Epoch 8/10\n",
      "1563/1563 [==============================] - 41s 26ms/step - loss: 0.7743 - accuracy: 0.7287\n",
      "Epoch 9/10\n",
      "1563/1563 [==============================] - 41s 26ms/step - loss: 0.7378 - accuracy: 0.7425\n",
      "Epoch 10/10\n",
      "1563/1563 [==============================] - 41s 26ms/step - loss: 0.6988 - accuracy: 0.7539\n"
     ]
    },
    {
     "data": {
      "text/plain": [
       "<tensorflow.python.keras.callbacks.History at 0x196b6d830d0>"
      ]
     },
     "execution_count": 36,
     "metadata": {},
     "output_type": "execute_result"
    }
   ],
   "source": [
    "cnn.fit(X_train, y_train, epochs=10)"
   ]
  },
  {
   "cell_type": "code",
   "execution_count": 37,
   "id": "e21e24b4",
   "metadata": {},
   "outputs": [
    {
     "name": "stdout",
     "output_type": "stream",
     "text": [
      "313/313 [==============================] - 1s 4ms/step - loss: 0.9540 - accuracy: 0.6826\n"
     ]
    },
    {
     "data": {
      "text/plain": [
       "[0.9540321230888367, 0.6826000213623047]"
      ]
     },
     "execution_count": 37,
     "metadata": {},
     "output_type": "execute_result"
    }
   ],
   "source": [
    "cnn.evaluate(X_test, y_test)"
   ]
  },
  {
   "cell_type": "code",
   "execution_count": 38,
   "id": "0f9112aa",
   "metadata": {},
   "outputs": [
    {
     "data": {
      "text/plain": [
       "array([[3],\n",
       "       [8],\n",
       "       [8],\n",
       "       [0],\n",
       "       [6]], dtype=uint8)"
      ]
     },
     "execution_count": 38,
     "metadata": {},
     "output_type": "execute_result"
    }
   ],
   "source": [
    "y_test[:5]"
   ]
  },
  {
   "cell_type": "code",
   "execution_count": 40,
   "id": "47370627",
   "metadata": {},
   "outputs": [
    {
     "data": {
      "image/png": "[encoded data removed]",
      "text/plain": [
       "<Figure size 1080x144 with 1 Axes>"
      ]
     },
     "metadata": {
      "needs_background": "light"
     },
     "output_type": "display_data"
    }
   ],
   "source": [
    "y_test =y_test.reshape(-1,)\n",
    "plot_sample(X_test,y_test, 1)"
   ]
  },
  {
   "cell_type": "code",
   "execution_count": 41,
   "id": "f407eca2",
   "metadata": {},
   "outputs": [
    {
     "data": {
      "text/plain": [
       "array([[4.82973468e-04, 1.02257764e-05, 5.74742618e-04, ...,\n",
       "        4.03503276e-04, 3.63825285e-03, 9.06263376e-05],\n",
       "       [8.63531546e-04, 6.54361248e-02, 5.99546001e-06, ...,\n",
       "        6.62600996e-08, 9.33649182e-01, 3.81770296e-05],\n",
       "       [1.42099615e-02, 1.21870339e-01, 7.80604547e-03, ...,\n",
       "        5.01966802e-04, 7.87751734e-01, 2.12704600e-03],\n",
       "       ...,\n",
       "       [1.64361318e-05, 1.20162980e-07, 2.82632597e-02, ...,\n",
       "        4.69412003e-03, 3.24905450e-05, 2.41350108e-06],\n",
       "       [2.24625524e-02, 2.32649714e-01, 7.68725155e-03, ...,\n",
       "        1.32439518e-03, 7.14686830e-05, 2.83320078e-05],\n",
       "       [2.74591389e-06, 3.48051799e-06, 1.23748207e-04, ...,\n",
       "        9.92343247e-01, 1.20875470e-08, 4.04475895e-06]], dtype=float32)"
      ]
     },
     "execution_count": 41,
     "metadata": {},
     "output_type": "execute_result"
    }
   ],
   "source": [
    "y_pred = cnn.predict(X_test)\n",
    "y_pred"
   ]
  },
  {
   "cell_type": "code",
   "execution_count": 42,
   "id": "1979bd84",
   "metadata": {},
   "outputs": [
    {
     "data": {
      "text/plain": [
       "[3, 8, 8, 0, 6]"
      ]
     },
     "execution_count": 42,
     "metadata": {},
     "output_type": "execute_result"
    }
   ],
   "source": [
    "y_classes = [np.argmax(element) for element in y_pred]\n",
    "y_classes[:5]"
   ]
  },
  {
   "cell_type": "code",
   "execution_count": 43,
   "id": "e836e8a2",
   "metadata": {},
   "outputs": [
    {
     "data": {
      "text/plain": [
       "'ship'"
      ]
     },
     "execution_count": 43,
     "metadata": {},
     "output_type": "execute_result"
    }
   ],
   "source": [
    "classes[y_classes[1]]"
   ]
  },
  {
   "cell_type": "code",
   "execution_count": 45,
   "id": "e694614f",
   "metadata": {},
   "outputs": [
    {
     "name": "stdout",
     "output_type": "stream",
     "text": [
      "Classification Report:                precision    recall  f1-score   support\n",
      "\n",
      "           0       0.74      0.72      0.73      1000\n",
      "           1       0.83      0.79      0.81      1000\n",
      "           2       0.58      0.54      0.56      1000\n",
      "           3       0.48      0.54      0.51      1000\n",
      "           4       0.59      0.64      0.61      1000\n",
      "           5       0.60      0.58      0.59      1000\n",
      "           6       0.73      0.79      0.76      1000\n",
      "           7       0.70      0.73      0.72      1000\n",
      "           8       0.79      0.82      0.80      1000\n",
      "           9       0.86      0.68      0.76      1000\n",
      "\n",
      "    accuracy                           0.68     10000\n",
      "   macro avg       0.69      0.68      0.68     10000\n",
      "weighted avg       0.69      0.68      0.68     10000\n",
      "\n"
     ]
    }
   ],
   "source": [
    "print(\"Classification Report: \",classification_report(y_test, y_classes))"
   ]
  },
  {
   "cell_type": "code",
   "execution_count": null,
   "id": "f0446be1",
   "metadata": {},
   "outputs": [],
   "source": []
  }
 ],
 "metadata": {
  "kernelspec": {
   "display_name": "Python 3",
   "language": "python",
   "name": "python3"
  },
  "language_info": {
   "codemirror_mode": {
    "name": "ipython",
    "version": 3
   },
   "file_extension": ".py",
   "mimetype": "text/x-python",
   "name": "python",
   "nbconvert_exporter": "python",
   "pygments_lexer": "ipython3",
   "version": "3.8.0"
  }
 },
 "nbformat": 4,
 "nbformat_minor": 5
}
